{
  "cells": [
    {
      "cell_type": "markdown",
      "metadata": {
        "id": "view-in-github",
        "colab_type": "text"
      },
      "source": [
        "<a href=\"https://colab.research.google.com/github/noelfischer/ai_praktika/blob/main/4/P04b_Learning_by_Example.ipynb\" target=\"_parent\"><img src=\"https://colab.research.google.com/assets/colab-badge.svg\" alt=\"Open In Colab\"/></a>"
      ]
    },
    {
      "cell_type": "markdown",
      "metadata": {
        "id": "sJrGxAHoRJLO"
      },
      "source": [
        "# P04b: PyTorch Example\n",
        "\n",
        "\n"
      ]
    },
    {
      "cell_type": "markdown",
      "metadata": {
        "id": "CxwwREtgRJLP"
      },
      "source": [
        "We will start by loading the needed libraries and also defining the device and setting the random seeds to ensure reproducibility of our results.\n"
      ]
    },
    {
      "cell_type": "code",
      "execution_count": 1,
      "metadata": {
        "id": "UJaDj5B7RJLQ"
      },
      "outputs": [],
      "source": [
        "## Standard libraries\n",
        "import os\n",
        "import math\n",
        "import numpy as np\n",
        "import time\n",
        "\n",
        "## Imports for plotting\n",
        "%config InlineBackend.figure_formats = ['svg']\n",
        "\n",
        "import matplotlib.pyplot as plt\n",
        "%matplotlib inline\n",
        "#set_matplotlib_formats('svg', 'pdf') # For export\n",
        "import matplotlib\n",
        "matplotlib.rcParams['lines.linewidth'] = 2.0\n",
        "import seaborn as sns\n",
        "sns.reset_orig()\n",
        "sns.set()\n",
        "\n",
        "## Progress bar\n",
        "from tqdm.notebook import tqdm"
      ]
    },
    {
      "cell_type": "code",
      "execution_count": 2,
      "metadata": {
        "id": "3didi-6pRJLR",
        "outputId": "22acffe5-f688-490a-ef8f-af7fd83d6f99",
        "colab": {
          "base_uri": "https://localhost:8080/"
        }
      },
      "outputs": [
        {
          "output_type": "stream",
          "name": "stdout",
          "text": [
            "Using torch 2.5.0+cu121\n",
            "Using matplotlib 3.8.0\n"
          ]
        }
      ],
      "source": [
        "import torch\n",
        "print(\"Using torch\", torch.__version__)\n",
        "print(\"Using matplotlib\", matplotlib.__version__)"
      ]
    },
    {
      "cell_type": "code",
      "execution_count": 3,
      "metadata": {
        "id": "ATlRFbHFRJLR",
        "outputId": "e8f3dcc5-eddc-42e0-f171-99cc1ed4364b",
        "colab": {
          "base_uri": "https://localhost:8080/"
        }
      },
      "outputs": [
        {
          "output_type": "execute_result",
          "data": {
            "text/plain": [
              "<torch._C.Generator at 0x7faf12e30630>"
            ]
          },
          "metadata": {},
          "execution_count": 3
        }
      ],
      "source": [
        "torch.manual_seed(41) # Setting the seed"
      ]
    },
    {
      "cell_type": "code",
      "execution_count": 4,
      "metadata": {
        "id": "vUr7hpgRRJLV",
        "outputId": "27acf017-a111-4e7e-af06-0d145f22136c",
        "colab": {
          "base_uri": "https://localhost:8080/"
        }
      },
      "outputs": [
        {
          "output_type": "stream",
          "name": "stdout",
          "text": [
            "Device cuda\n"
          ]
        }
      ],
      "source": [
        "device = torch.device(\"cuda\") if torch.cuda.is_available() else torch.device(\"cpu\")\n",
        "print(\"Device\", device)"
      ]
    },
    {
      "cell_type": "code",
      "execution_count": 6,
      "metadata": {
        "id": "L14NNnuGRJLV"
      },
      "outputs": [],
      "source": [
        "# GPU operations have a separate seed we also want to set\n",
        "if torch.cuda.is_available():\n",
        "    torch.cuda.manual_seed(42)\n",
        "    torch.cuda.manual_seed_all(42)\n",
        "\n",
        "# Additionally, some operations on a GPU are implemented stochastic for efficiency\n",
        "# We want to ensure that all operations are deterministic on GPU (if used) for reproducibility\n",
        "torch.backends.cudnn.deterministic = True\n",
        "torch.backends.cudnn.benchmark = False"
      ]
    },
    {
      "cell_type": "markdown",
      "metadata": {
        "id": "NivNuM5-RJLV"
      },
      "source": [
        "## Learning by example: Continuous XOR\n",
        "\n",
        "If we want to build a neural network in PyTorch, we could specify all our parameters (weight matrices, bias vectors) using `Tensors` (with `requires_grad=True`), ask PyTorch to calculate the gradients and then adjust the parameters. But things can quickly get cumbersome if we have a lot of parameters. In PyTorch, there is a package called `torch.nn` that makes building neural networks more convenient.\n",
        "\n",
        "We will introduce the libraries and all additional parts you might need to train a neural network in PyTorch, using a simple example classifier on a simple yet well known example: XOR. Given two binary inputs $x_1$ and $x_2$, the label to predict is $1$ if either $x_1$ or $x_2$ is $1$ while the other is $0$, or the label is $0$ in all other cases. The example became famous by the fact that a single neuron, i.e. a linear classifier, cannot learn this simple function.\n",
        "Hence, we will learn how to build a small neural network that can learn this function.\n",
        "To make it a little bit more interesting, we move the XOR into continuous space and introduce some gaussian noise on the binary inputs. Our desired separation of an XOR dataset could look as follows:\n",
        "\n",
        "<center style=\"width: 100%\"><img src=\"https://github.com/phlippe/uvadlc_notebooks/blob/master/docs/tutorial_notebooks/tutorial2/continuous_xor.svg?raw=1\" width=\"350px\"></center>"
      ]
    },
    {
      "cell_type": "markdown",
      "metadata": {
        "id": "PDgwKzNlRJLV"
      },
      "source": [
        "### The model\n",
        "\n",
        "The package `torch.nn` defines a series of useful classes like linear networks layers, activation functions, loss functions etc. A full list can be found [here](https://pytorch.org/docs/stable/nn.html). In case you need a certain network layer, check the documentation of the package first before writing the layer yourself as the package likely contains the code for it already. We import it below:"
      ]
    },
    {
      "cell_type": "code",
      "execution_count": 7,
      "metadata": {
        "id": "HxfsCvSxRJLV"
      },
      "outputs": [],
      "source": [
        "import torch.nn as nn"
      ]
    },
    {
      "cell_type": "markdown",
      "metadata": {
        "id": "0LdWr10NRJLV"
      },
      "source": [
        "Additionally to `torch.nn`, there is also `torch.nn.functional`. It contains functions that are used in network layers. This is in contrast to `torch.nn` which defines them as `nn.Modules` (more on it below), and `torch.nn` actually uses a lot of functionalities from `torch.nn.functional`. Hence, the functional package is useful in many situations, and so we import it as well here."
      ]
    },
    {
      "cell_type": "code",
      "execution_count": 8,
      "metadata": {
        "id": "0XwCXOXWRJLW"
      },
      "outputs": [],
      "source": [
        "import torch.nn.functional as F"
      ]
    },
    {
      "cell_type": "markdown",
      "metadata": {
        "id": "3Q9zencaRJLW"
      },
      "source": [
        "#### nn.Module\n",
        "\n",
        "In PyTorch, a neural network is built up out of modules. Modules can contain other modules, and a neural network is considered to be a module itself as well. The basic template of a module is as follows:"
      ]
    },
    {
      "cell_type": "code",
      "execution_count": 9,
      "metadata": {
        "id": "BR06CWF7RJLW"
      },
      "outputs": [],
      "source": [
        "class MyModule(nn.Module):\n",
        "\n",
        "    def __init__(self):\n",
        "        super().__init__()\n",
        "        # Some init for my module\n",
        "\n",
        "    def forward(self, x):\n",
        "        # Function for performing the calculation of the module.\n",
        "        pass"
      ]
    },
    {
      "cell_type": "markdown",
      "metadata": {
        "id": "5O_wcl65RJLW"
      },
      "source": [
        "The forward function is where the computation of the module is taken place, and is executed when you call the module (`nn = MyModule(); nn(x)`). In the init function, we usually create the parameters of the module, using `nn.Parameter`, or defining other modules that are used in the forward function. The backward calculation is done automatically, but could be overwritten as well if wanted.\n",
        "\n",
        "#### Simple classifier\n",
        "We can now make use of the pre-defined modules in the `torch.nn` package, and define our own small neural network. We will use a minimal network with a input layer, one hidden layer with tanh as activation function, and a output layer. In other words, our networks should look something like this:\n",
        "\n",
        "<center width=\"100%\"><img src=\"https://github.com/phlippe/uvadlc_notebooks/blob/master/docs/tutorial_notebooks/tutorial2/small_neural_network.svg?raw=1\" width=\"300px\"></center>\n",
        "\n",
        "The input neurons are shown in blue, which represent the coordinates $x_1$ and $x_2$ of a data point. The hidden neurons including a tanh activation are shown in white, and the output neuron in red.\n",
        "In PyTorch, we can define this as follows:"
      ]
    },
    {
      "cell_type": "code",
      "execution_count": 10,
      "metadata": {
        "id": "Tl_p9D2KRJLW"
      },
      "outputs": [],
      "source": [
        "class SimpleClassifier(nn.Module):\n",
        "\n",
        "    def __init__(self, num_inputs, num_hidden, num_outputs):\n",
        "        super().__init__()\n",
        "        # Initialize the modules we need to build the network\n",
        "        self.linear1 = nn.Linear(num_inputs, num_hidden)\n",
        "        self.act_fn = nn.Tanh()\n",
        "        self.linear2 = nn.Linear(num_hidden, num_outputs)\n",
        "\n",
        "    def forward(self, x):\n",
        "        # Perform the calculation of the model to determine the prediction\n",
        "        x = self.linear1(x)\n",
        "        x = self.act_fn(x)\n",
        "        x = self.linear2(x)\n",
        "        return x"
      ]
    },
    {
      "cell_type": "markdown",
      "metadata": {
        "id": "yOtHsRmYRJLW"
      },
      "source": [
        "For the examples in this notebook, we will use a tiny neural network with two input neurons and four hidden neurons. As we perform binary classification, we will use a single output neuron. Note that we do not apply a sigmoid on the output yet. This is because other functions, especially the loss, are more efficient and precise to calculate on the original outputs instead of the sigmoid output. We will discuss the detailed reason later."
      ]
    },
    {
      "cell_type": "code",
      "execution_count": 11,
      "metadata": {
        "id": "GC8HNayuRJLW",
        "outputId": "aeaba397-92b7-497a-ed86-f47396715660",
        "colab": {
          "base_uri": "https://localhost:8080/"
        }
      },
      "outputs": [
        {
          "output_type": "stream",
          "name": "stdout",
          "text": [
            "SimpleClassifier(\n",
            "  (linear1): Linear(in_features=2, out_features=4, bias=True)\n",
            "  (act_fn): Tanh()\n",
            "  (linear2): Linear(in_features=4, out_features=1, bias=True)\n",
            ")\n"
          ]
        }
      ],
      "source": [
        "model = SimpleClassifier(num_inputs=2, num_hidden=4, num_outputs=1)\n",
        "# Printing a module shows all its submodules\n",
        "print(model)"
      ]
    },
    {
      "cell_type": "markdown",
      "metadata": {
        "id": "EjZkpBOmRJLW"
      },
      "source": [
        "Printing the model lists all submodules it contains. The parameters of a module can be obtained by using its `parameters()` functions, or `named_parameters()` to get a name to each parameter object. For our small neural network, we have the following parameters:"
      ]
    },
    {
      "cell_type": "code",
      "execution_count": 12,
      "metadata": {
        "id": "MyThq3K9RJLW",
        "outputId": "0aef7244-4c3e-46e2-93cf-30c41ee74d8e",
        "colab": {
          "base_uri": "https://localhost:8080/"
        }
      },
      "outputs": [
        {
          "output_type": "stream",
          "name": "stdout",
          "text": [
            "Parameter linear1.weight, shape torch.Size([4, 2])\n",
            "Parameter linear1.bias, shape torch.Size([4])\n",
            "Parameter linear2.weight, shape torch.Size([1, 4])\n",
            "Parameter linear2.bias, shape torch.Size([1])\n"
          ]
        }
      ],
      "source": [
        "for name, param in model.named_parameters():\n",
        "    print(f\"Parameter {name}, shape {param.shape}\")"
      ]
    },
    {
      "cell_type": "markdown",
      "metadata": {
        "id": "6Xvtfh6JRJLW"
      },
      "source": [
        "Each linear layer has a weight matrix of the shape `[output, input]`, and a bias of the shape `[output]`. The tanh activation function does not have any parameters. Note that parameters are only registered for `nn.Module` objects that are direct object attributes, i.e. `self.a = ...`. If you define a list of modules, the parameters of those are not registered for the outer module and can cause some issues when you try to optimize your module. There are alternatives, like `nn.ModuleList`, `nn.ModuleDict` and `nn.Sequential`, that allow you to have different data structures of modules. We will use them in a few later tutorials and explain them there."
      ]
    },
    {
      "cell_type": "markdown",
      "metadata": {
        "id": "_98PBlycRJLW"
      },
      "source": [
        "### The data\n",
        "\n",
        "PyTorch also provides a few functionalities to load the training and test data efficiently, summarized in the package `torch.utils.data`."
      ]
    },
    {
      "cell_type": "code",
      "execution_count": 13,
      "metadata": {
        "id": "groz31JdRJLW"
      },
      "outputs": [],
      "source": [
        "import torch.utils.data as data"
      ]
    },
    {
      "cell_type": "markdown",
      "metadata": {
        "id": "gqQiWNq7RJLW"
      },
      "source": [
        "The data package defines two classes which are the standard interface for handling data in PyTorch: `data.Dataset`, and `data.DataLoader`. The dataset class provides an uniform interface to access the training/test data, while the data loader makes sure to efficiently load and stack the data points from the dataset into batches during training."
      ]
    },
    {
      "cell_type": "markdown",
      "metadata": {
        "id": "sqEyN4SVRJLW"
      },
      "source": [
        "#### The dataset class\n",
        "\n",
        "The dataset class summarizes the basic functionality of a dataset in a natural way. To define a dataset in PyTorch, we simply specify two functions: `__getitem__`, and `__len__`. The get-item function has to return the $i$-th data point in the dataset, while the len function returns the size of the dataset. For the XOR dataset, we can define the dataset class as follows:"
      ]
    },
    {
      "cell_type": "code",
      "execution_count": 14,
      "metadata": {
        "id": "qJixY-WwRJLW"
      },
      "outputs": [],
      "source": [
        "class XORDataset(data.Dataset):\n",
        "\n",
        "    def __init__(self, size, std=0.1):\n",
        "        \"\"\"\n",
        "        Inputs:\n",
        "            size - Number of data points we want to generate\n",
        "            std - Standard deviation of the noise (see generate_continuous_xor function)\n",
        "        \"\"\"\n",
        "        super().__init__()\n",
        "        self.size = size\n",
        "        self.std = std\n",
        "        self.generate_continuous_xor()\n",
        "\n",
        "    def generate_continuous_xor(self):\n",
        "        # Each data point in the XOR dataset has two variables, x and y, that can be either 0 or 1\n",
        "        # The label is their XOR combination, i.e. 1 if only x or only y is 1 while the other is 0.\n",
        "        # If x=y, the label is 0.\n",
        "        data = torch.randint(low=0, high=2, size=(self.size, 2), dtype=torch.float32)\n",
        "        label = (data.sum(dim=1) == 1).to(torch.long)\n",
        "        # To make it slightly more challenging, we add a bit of gaussian noise to the data points.\n",
        "        data += self.std * torch.randn(data.shape)\n",
        "\n",
        "        self.data = data\n",
        "        self.label = label\n",
        "\n",
        "    def __len__(self):\n",
        "        # Number of data point we have. Alternatively self.data.shape[0], or self.label.shape[0]\n",
        "        return self.size\n",
        "\n",
        "    def __getitem__(self, idx):\n",
        "        # Return the idx-th data point of the dataset\n",
        "        # If we have multiple things to return (data point and label), we can return them as tuple\n",
        "        data_point = self.data[idx]\n",
        "        data_label = self.label[idx]\n",
        "        return data_point, data_label"
      ]
    },
    {
      "cell_type": "markdown",
      "metadata": {
        "id": "L1AzfVMwRJLW"
      },
      "source": [
        "Let's try to create such a dataset and inspect it:"
      ]
    },
    {
      "cell_type": "code",
      "execution_count": 15,
      "metadata": {
        "id": "r4tRD6nYRJLW",
        "outputId": "cfbf2dc6-f13c-46d1-aba4-51057c721620",
        "colab": {
          "base_uri": "https://localhost:8080/"
        }
      },
      "outputs": [
        {
          "output_type": "stream",
          "name": "stdout",
          "text": [
            "Size of dataset: 200\n",
            "Data point 0: (tensor([-0.0767, -0.0180]), tensor(0))\n"
          ]
        }
      ],
      "source": [
        "dataset = XORDataset(size=200)\n",
        "print(\"Size of dataset:\", len(dataset))\n",
        "print(\"Data point 0:\", dataset[0])"
      ]
    },
    {
      "cell_type": "markdown",
      "metadata": {
        "id": "XdmR3ZkgRJLW"
      },
      "source": [
        "To better relate to the dataset, we visualize the samples below."
      ]
    },
    {
      "cell_type": "code",
      "execution_count": 16,
      "metadata": {
        "id": "EPoX81IoRJLW"
      },
      "outputs": [],
      "source": [
        "def visualize_samples(data, label):\n",
        "    if isinstance(data, torch.Tensor):\n",
        "        data = data.cpu().numpy()\n",
        "    if isinstance(label, torch.Tensor):\n",
        "        label = label.cpu().numpy()\n",
        "    data_0 = data[label == 0]\n",
        "    data_1 = data[label == 1]\n",
        "\n",
        "    plt.figure(figsize=(4,4))\n",
        "    plt.scatter(data_0[:,0], data_0[:,1], edgecolor=\"#333\", label=\"Class 0\")\n",
        "    plt.scatter(data_1[:,0], data_1[:,1], edgecolor=\"#333\", label=\"Class 1\")\n",
        "    plt.title(\"Dataset samples\")\n",
        "    plt.ylabel(r\"$x_2$\")\n",
        "    plt.xlabel(r\"$x_1$\")\n",
        "    plt.legend()"
      ]
    },
    {
      "cell_type": "code",
      "execution_count": 17,
      "metadata": {
        "id": "pu-_8kXPRJLW",
        "outputId": "29e85139-8627-4db7-94c8-0d7a6149a9de",
        "colab": {
          "base_uri": "https://localhost:8080/",
          "height": 403
        }
      },
      "outputs": [
        {
          "output_type": "display_data",
          "data": {
            "text/plain": [
              "<Figure size 400x400 with 1 Axes>"
            ],
            "image/svg+xml": "<?xml version=\"1.0\" encoding=\"utf-8\" standalone=\"no\"?>\n<!DOCTYPE svg PUBLIC \"-//W3C//DTD SVG 1.1//EN\"\n  \"http://www.w3.org/Graphics/SVG/1.1/DTD/svg11.dtd\">\n<svg xmlns:xlink=\"http://www.w3.org/1999/xlink\" width=\"289.424844pt\" height=\"287.037813pt\" viewBox=\"0 0 289.424844 287.037813\" xmlns=\"http://www.w3.org/2000/svg\" version=\"1.1\">\n <metadata>\n  <rdf:RDF xmlns:dc=\"http://purl.org/dc/elements/1.1/\" xmlns:cc=\"http://creativecommons.org/ns#\" xmlns:rdf=\"http://www.w3.org/1999/02/22-rdf-syntax-ns#\">\n   <cc:Work>\n    <dc:type rdf:resource=\"http://purl.org/dc/dcmitype/StillImage\"/>\n    <dc:date>2024-11-01T09:40:04.020821</dc:date>\n    <dc:format>image/svg+xml</dc:format>\n    <dc:creator>\n     <cc:Agent>\n      <dc:title>Matplotlib v3.8.0, https://matplotlib.org/</dc:title>\n     </cc:Agent>\n    </dc:creator>\n   </cc:Work>\n  </rdf:RDF>\n </metadata>\n <defs>\n  <style type=\"text/css\">*{stroke-linejoin: round; stroke-linecap: butt}</style>\n </defs>\n <g id=\"figure_1\">\n  <g id=\"patch_1\">\n   <path d=\"M 0 287.037813 \nL 289.424844 287.037813 \nL 289.424844 0 \nL 0 0 \nz\n\" style=\"fill: #ffffff\"/>\n  </g>\n  <g id=\"axes_1\">\n   <g id=\"patch_2\">\n    <path d=\"M 59.024844 244.078125 \nL 282.224844 244.078125 \nL 282.224844 22.318125 \nL 59.024844 22.318125 \nz\n\" style=\"fill: #eaeaf2\"/>\n   </g>\n   <g id=\"matplotlib.axis_1\">\n    <g id=\"xtick_1\">\n     <g id=\"line2d_1\">\n      <path d=\"M 98.293722 244.078125 \nL 98.293722 22.318125 \n\" clip-path=\"url(#p7fcc36fc15)\" style=\"fill: none; stroke: #ffffff; stroke-linecap: round\"/>\n     </g>\n     <g id=\"text_1\">\n      <!-- 0.0 -->\n      <g style=\"fill: #262626\" transform=\"translate(89.547003 261.936406) scale(0.11 -0.11)\">\n       <defs>\n        <path id=\"DejaVuSans-30\" d=\"M 2034 4250 \nQ 1547 4250 1301 3770 \nQ 1056 3291 1056 2328 \nQ 1056 1369 1301 889 \nQ 1547 409 2034 409 \nQ 2525 409 2770 889 \nQ 3016 1369 3016 2328 \nQ 3016 3291 2770 3770 \nQ 2525 4250 2034 4250 \nz\nM 2034 4750 \nQ 2819 4750 3233 4129 \nQ 3647 3509 3647 2328 \nQ 3647 1150 3233 529 \nQ 2819 -91 2034 -91 \nQ 1250 -91 836 529 \nQ 422 1150 422 2328 \nQ 422 3509 836 4129 \nQ 1250 4750 2034 4750 \nz\n\" transform=\"scale(0.015625)\"/>\n        <path id=\"DejaVuSans-2e\" d=\"M 684 794 \nL 1344 794 \nL 1344 0 \nL 684 0 \nL 684 794 \nz\n\" transform=\"scale(0.015625)\"/>\n       </defs>\n       <use xlink:href=\"#DejaVuSans-30\"/>\n       <use xlink:href=\"#DejaVuSans-2e\" x=\"63.623047\"/>\n       <use xlink:href=\"#DejaVuSans-30\" x=\"95.410156\"/>\n      </g>\n     </g>\n    </g>\n    <g id=\"xtick_2\">\n     <g id=\"line2d_2\">\n      <path d=\"M 168.154308 244.078125 \nL 168.154308 22.318125 \n\" clip-path=\"url(#p7fcc36fc15)\" style=\"fill: none; stroke: #ffffff; stroke-linecap: round\"/>\n     </g>\n     <g id=\"text_2\">\n      <!-- 0.5 -->\n      <g style=\"fill: #262626\" transform=\"translate(159.40759 261.936406) scale(0.11 -0.11)\">\n       <defs>\n        <path id=\"DejaVuSans-35\" d=\"M 691 4666 \nL 3169 4666 \nL 3169 4134 \nL 1269 4134 \nL 1269 2991 \nQ 1406 3038 1543 3061 \nQ 1681 3084 1819 3084 \nQ 2600 3084 3056 2656 \nQ 3513 2228 3513 1497 \nQ 3513 744 3044 326 \nQ 2575 -91 1722 -91 \nQ 1428 -91 1123 -41 \nQ 819 9 494 109 \nL 494 744 \nQ 775 591 1075 516 \nQ 1375 441 1709 441 \nQ 2250 441 2565 725 \nQ 2881 1009 2881 1497 \nQ 2881 1984 2565 2268 \nQ 2250 2553 1709 2553 \nQ 1456 2553 1204 2497 \nQ 953 2441 691 2322 \nL 691 4666 \nz\n\" transform=\"scale(0.015625)\"/>\n       </defs>\n       <use xlink:href=\"#DejaVuSans-30\"/>\n       <use xlink:href=\"#DejaVuSans-2e\" x=\"63.623047\"/>\n       <use xlink:href=\"#DejaVuSans-35\" x=\"95.410156\"/>\n      </g>\n     </g>\n    </g>\n    <g id=\"xtick_3\">\n     <g id=\"line2d_3\">\n      <path d=\"M 238.014895 244.078125 \nL 238.014895 22.318125 \n\" clip-path=\"url(#p7fcc36fc15)\" style=\"fill: none; stroke: #ffffff; stroke-linecap: round\"/>\n     </g>\n     <g id=\"text_3\">\n      <!-- 1.0 -->\n      <g style=\"fill: #262626\" transform=\"translate(229.268176 261.936406) scale(0.11 -0.11)\">\n       <defs>\n        <path id=\"DejaVuSans-31\" d=\"M 794 531 \nL 1825 531 \nL 1825 4091 \nL 703 3866 \nL 703 4441 \nL 1819 4666 \nL 2450 4666 \nL 2450 531 \nL 3481 531 \nL 3481 0 \nL 794 0 \nL 794 531 \nz\n\" transform=\"scale(0.015625)\"/>\n       </defs>\n       <use xlink:href=\"#DejaVuSans-31\"/>\n       <use xlink:href=\"#DejaVuSans-2e\" x=\"63.623047\"/>\n       <use xlink:href=\"#DejaVuSans-30\" x=\"95.410156\"/>\n      </g>\n     </g>\n    </g>\n    <g id=\"text_4\">\n     <!-- $x_1$ -->\n     <g style=\"fill: #262626\" transform=\"translate(164.204844 277.342188) scale(0.12 -0.12)\">\n      <defs>\n       <path id=\"DejaVuSans-Oblique-78\" d=\"M 3841 3500 \nL 2234 1784 \nL 3219 0 \nL 2559 0 \nL 1819 1388 \nL 531 0 \nL -166 0 \nL 1556 1844 \nL 641 3500 \nL 1300 3500 \nL 1972 2234 \nL 3144 3500 \nL 3841 3500 \nz\n\" transform=\"scale(0.015625)\"/>\n      </defs>\n      <use xlink:href=\"#DejaVuSans-Oblique-78\" transform=\"translate(0 0.3125)\"/>\n      <use xlink:href=\"#DejaVuSans-31\" transform=\"translate(59.179688 -16.09375) scale(0.7)\"/>\n     </g>\n    </g>\n   </g>\n   <g id=\"matplotlib.axis_2\">\n    <g id=\"ytick_1\">\n     <g id=\"line2d_4\">\n      <path d=\"M 59.024844 227.214551 \nL 282.224844 227.214551 \n\" clip-path=\"url(#p7fcc36fc15)\" style=\"fill: none; stroke: #ffffff; stroke-linecap: round\"/>\n     </g>\n     <g id=\"text_5\">\n      <!-- −0.2 -->\n      <g style=\"fill: #262626\" transform=\"translate(22.81375 231.393691) scale(0.11 -0.11)\">\n       <defs>\n        <path id=\"DejaVuSans-2212\" d=\"M 678 2272 \nL 4684 2272 \nL 4684 1741 \nL 678 1741 \nL 678 2272 \nz\n\" transform=\"scale(0.015625)\"/>\n        <path id=\"DejaVuSans-32\" d=\"M 1228 531 \nL 3431 531 \nL 3431 0 \nL 469 0 \nL 469 531 \nQ 828 903 1448 1529 \nQ 2069 2156 2228 2338 \nQ 2531 2678 2651 2914 \nQ 2772 3150 2772 3378 \nQ 2772 3750 2511 3984 \nQ 2250 4219 1831 4219 \nQ 1534 4219 1204 4116 \nQ 875 4013 500 3803 \nL 500 4441 \nQ 881 4594 1212 4672 \nQ 1544 4750 1819 4750 \nQ 2544 4750 2975 4387 \nQ 3406 4025 3406 3419 \nQ 3406 3131 3298 2873 \nQ 3191 2616 2906 2266 \nQ 2828 2175 2409 1742 \nQ 1991 1309 1228 531 \nz\n\" transform=\"scale(0.015625)\"/>\n       </defs>\n       <use xlink:href=\"#DejaVuSans-2212\"/>\n       <use xlink:href=\"#DejaVuSans-30\" x=\"83.789062\"/>\n       <use xlink:href=\"#DejaVuSans-2e\" x=\"147.412109\"/>\n       <use xlink:href=\"#DejaVuSans-32\" x=\"179.199219\"/>\n      </g>\n     </g>\n    </g>\n    <g id=\"ytick_2\">\n     <g id=\"line2d_5\">\n      <path d=\"M 59.024844 202.179929 \nL 282.224844 202.179929 \n\" clip-path=\"url(#p7fcc36fc15)\" style=\"fill: none; stroke: #ffffff; stroke-linecap: round\"/>\n     </g>\n     <g id=\"text_6\">\n      <!-- 0.0 -->\n      <g style=\"fill: #262626\" transform=\"translate(32.031406 206.35907) scale(0.11 -0.11)\">\n       <use xlink:href=\"#DejaVuSans-30\"/>\n       <use xlink:href=\"#DejaVuSans-2e\" x=\"63.623047\"/>\n       <use xlink:href=\"#DejaVuSans-30\" x=\"95.410156\"/>\n      </g>\n     </g>\n    </g>\n    <g id=\"ytick_3\">\n     <g id=\"line2d_6\">\n      <path d=\"M 59.024844 177.145308 \nL 282.224844 177.145308 \n\" clip-path=\"url(#p7fcc36fc15)\" style=\"fill: none; stroke: #ffffff; stroke-linecap: round\"/>\n     </g>\n     <g id=\"text_7\">\n      <!-- 0.2 -->\n      <g style=\"fill: #262626\" transform=\"translate(32.031406 181.324449) scale(0.11 -0.11)\">\n       <use xlink:href=\"#DejaVuSans-30\"/>\n       <use xlink:href=\"#DejaVuSans-2e\" x=\"63.623047\"/>\n       <use xlink:href=\"#DejaVuSans-32\" x=\"95.410156\"/>\n      </g>\n     </g>\n    </g>\n    <g id=\"ytick_4\">\n     <g id=\"line2d_7\">\n      <path d=\"M 59.024844 152.110687 \nL 282.224844 152.110687 \n\" clip-path=\"url(#p7fcc36fc15)\" style=\"fill: none; stroke: #ffffff; stroke-linecap: round\"/>\n     </g>\n     <g id=\"text_8\">\n      <!-- 0.4 -->\n      <g style=\"fill: #262626\" transform=\"translate(32.031406 156.289827) scale(0.11 -0.11)\">\n       <defs>\n        <path id=\"DejaVuSans-34\" d=\"M 2419 4116 \nL 825 1625 \nL 2419 1625 \nL 2419 4116 \nz\nM 2253 4666 \nL 3047 4666 \nL 3047 1625 \nL 3713 1625 \nL 3713 1100 \nL 3047 1100 \nL 3047 0 \nL 2419 0 \nL 2419 1100 \nL 313 1100 \nL 313 1709 \nL 2253 4666 \nz\n\" transform=\"scale(0.015625)\"/>\n       </defs>\n       <use xlink:href=\"#DejaVuSans-30\"/>\n       <use xlink:href=\"#DejaVuSans-2e\" x=\"63.623047\"/>\n       <use xlink:href=\"#DejaVuSans-34\" x=\"95.410156\"/>\n      </g>\n     </g>\n    </g>\n    <g id=\"ytick_5\">\n     <g id=\"line2d_8\">\n      <path d=\"M 59.024844 127.076065 \nL 282.224844 127.076065 \n\" clip-path=\"url(#p7fcc36fc15)\" style=\"fill: none; stroke: #ffffff; stroke-linecap: round\"/>\n     </g>\n     <g id=\"text_9\">\n      <!-- 0.6 -->\n      <g style=\"fill: #262626\" transform=\"translate(32.031406 131.255206) scale(0.11 -0.11)\">\n       <defs>\n        <path id=\"DejaVuSans-36\" d=\"M 2113 2584 \nQ 1688 2584 1439 2293 \nQ 1191 2003 1191 1497 \nQ 1191 994 1439 701 \nQ 1688 409 2113 409 \nQ 2538 409 2786 701 \nQ 3034 994 3034 1497 \nQ 3034 2003 2786 2293 \nQ 2538 2584 2113 2584 \nz\nM 3366 4563 \nL 3366 3988 \nQ 3128 4100 2886 4159 \nQ 2644 4219 2406 4219 \nQ 1781 4219 1451 3797 \nQ 1122 3375 1075 2522 \nQ 1259 2794 1537 2939 \nQ 1816 3084 2150 3084 \nQ 2853 3084 3261 2657 \nQ 3669 2231 3669 1497 \nQ 3669 778 3244 343 \nQ 2819 -91 2113 -91 \nQ 1303 -91 875 529 \nQ 447 1150 447 2328 \nQ 447 3434 972 4092 \nQ 1497 4750 2381 4750 \nQ 2619 4750 2861 4703 \nQ 3103 4656 3366 4563 \nz\n\" transform=\"scale(0.015625)\"/>\n       </defs>\n       <use xlink:href=\"#DejaVuSans-30\"/>\n       <use xlink:href=\"#DejaVuSans-2e\" x=\"63.623047\"/>\n       <use xlink:href=\"#DejaVuSans-36\" x=\"95.410156\"/>\n      </g>\n     </g>\n    </g>\n    <g id=\"ytick_6\">\n     <g id=\"line2d_9\">\n      <path d=\"M 59.024844 102.041444 \nL 282.224844 102.041444 \n\" clip-path=\"url(#p7fcc36fc15)\" style=\"fill: none; stroke: #ffffff; stroke-linecap: round\"/>\n     </g>\n     <g id=\"text_10\">\n      <!-- 0.8 -->\n      <g style=\"fill: #262626\" transform=\"translate(32.031406 106.220585) scale(0.11 -0.11)\">\n       <defs>\n        <path id=\"DejaVuSans-38\" d=\"M 2034 2216 \nQ 1584 2216 1326 1975 \nQ 1069 1734 1069 1313 \nQ 1069 891 1326 650 \nQ 1584 409 2034 409 \nQ 2484 409 2743 651 \nQ 3003 894 3003 1313 \nQ 3003 1734 2745 1975 \nQ 2488 2216 2034 2216 \nz\nM 1403 2484 \nQ 997 2584 770 2862 \nQ 544 3141 544 3541 \nQ 544 4100 942 4425 \nQ 1341 4750 2034 4750 \nQ 2731 4750 3128 4425 \nQ 3525 4100 3525 3541 \nQ 3525 3141 3298 2862 \nQ 3072 2584 2669 2484 \nQ 3125 2378 3379 2068 \nQ 3634 1759 3634 1313 \nQ 3634 634 3220 271 \nQ 2806 -91 2034 -91 \nQ 1263 -91 848 271 \nQ 434 634 434 1313 \nQ 434 1759 690 2068 \nQ 947 2378 1403 2484 \nz\nM 1172 3481 \nQ 1172 3119 1398 2916 \nQ 1625 2713 2034 2713 \nQ 2441 2713 2670 2916 \nQ 2900 3119 2900 3481 \nQ 2900 3844 2670 4047 \nQ 2441 4250 2034 4250 \nQ 1625 4250 1398 4047 \nQ 1172 3844 1172 3481 \nz\n\" transform=\"scale(0.015625)\"/>\n       </defs>\n       <use xlink:href=\"#DejaVuSans-30\"/>\n       <use xlink:href=\"#DejaVuSans-2e\" x=\"63.623047\"/>\n       <use xlink:href=\"#DejaVuSans-38\" x=\"95.410156\"/>\n      </g>\n     </g>\n    </g>\n    <g id=\"ytick_7\">\n     <g id=\"line2d_10\">\n      <path d=\"M 59.024844 77.006823 \nL 282.224844 77.006823 \n\" clip-path=\"url(#p7fcc36fc15)\" style=\"fill: none; stroke: #ffffff; stroke-linecap: round\"/>\n     </g>\n     <g id=\"text_11\">\n      <!-- 1.0 -->\n      <g style=\"fill: #262626\" transform=\"translate(32.031406 81.185963) scale(0.11 -0.11)\">\n       <use xlink:href=\"#DejaVuSans-31\"/>\n       <use xlink:href=\"#DejaVuSans-2e\" x=\"63.623047\"/>\n       <use xlink:href=\"#DejaVuSans-30\" x=\"95.410156\"/>\n      </g>\n     </g>\n    </g>\n    <g id=\"ytick_8\">\n     <g id=\"line2d_11\">\n      <path d=\"M 59.024844 51.972201 \nL 282.224844 51.972201 \n\" clip-path=\"url(#p7fcc36fc15)\" style=\"fill: none; stroke: #ffffff; stroke-linecap: round\"/>\n     </g>\n     <g id=\"text_12\">\n      <!-- 1.2 -->\n      <g style=\"fill: #262626\" transform=\"translate(32.031406 56.151342) scale(0.11 -0.11)\">\n       <use xlink:href=\"#DejaVuSans-31\"/>\n       <use xlink:href=\"#DejaVuSans-2e\" x=\"63.623047\"/>\n       <use xlink:href=\"#DejaVuSans-32\" x=\"95.410156\"/>\n      </g>\n     </g>\n    </g>\n    <g id=\"ytick_9\">\n     <g id=\"line2d_12\">\n      <path d=\"M 59.024844 26.93758 \nL 282.224844 26.93758 \n\" clip-path=\"url(#p7fcc36fc15)\" style=\"fill: none; stroke: #ffffff; stroke-linecap: round\"/>\n     </g>\n     <g id=\"text_13\">\n      <!-- 1.4 -->\n      <g style=\"fill: #262626\" transform=\"translate(32.031406 31.116721) scale(0.11 -0.11)\">\n       <use xlink:href=\"#DejaVuSans-31\"/>\n       <use xlink:href=\"#DejaVuSans-2e\" x=\"63.623047\"/>\n       <use xlink:href=\"#DejaVuSans-34\" x=\"95.410156\"/>\n      </g>\n     </g>\n    </g>\n    <g id=\"text_14\">\n     <!-- $x_2$ -->\n     <g style=\"fill: #262626\" transform=\"translate(16.318125 139.618125) rotate(-90) scale(0.12 -0.12)\">\n      <use xlink:href=\"#DejaVuSans-Oblique-78\" transform=\"translate(0 0.3125)\"/>\n      <use xlink:href=\"#DejaVuSans-32\" transform=\"translate(59.179688 -16.09375) scale(0.7)\"/>\n     </g>\n    </g>\n   </g>\n   <g id=\"PathCollection_1\">\n    <defs>\n     <path id=\"m79ed5118f0\" d=\"M 0 3 \nC 0.795609 3 1.55874 2.683901 2.12132 2.12132 \nC 2.683901 1.55874 3 0.795609 3 0 \nC 3 -0.795609 2.683901 -1.55874 2.12132 -2.12132 \nC 1.55874 -2.683901 0.795609 -3 0 -3 \nC -0.795609 -3 -1.55874 -2.683901 -2.12132 -2.12132 \nC -2.683901 -1.55874 -3 -0.795609 -3 0 \nC -3 0.795609 -2.683901 1.55874 -2.12132 2.12132 \nC -1.55874 2.683901 -0.795609 3 0 3 \nz\n\" style=\"stroke: #333333\"/>\n    </defs>\n    <g clip-path=\"url(#p7fcc36fc15)\">\n     <use xlink:href=\"#m79ed5118f0\" x=\"87.570317\" y=\"204.434971\" style=\"fill: #4c72b0; stroke: #333333\"/>\n     <use xlink:href=\"#m79ed5118f0\" x=\"102.532631\" y=\"199.241873\" style=\"fill: #4c72b0; stroke: #333333\"/>\n     <use xlink:href=\"#m79ed5118f0\" x=\"232.325659\" y=\"73.587717\" style=\"fill: #4c72b0; stroke: #333333\"/>\n     <use xlink:href=\"#m79ed5118f0\" x=\"100.044133\" y=\"233.998125\" style=\"fill: #4c72b0; stroke: #333333\"/>\n     <use xlink:href=\"#m79ed5118f0\" x=\"229.600536\" y=\"71.183144\" style=\"fill: #4c72b0; stroke: #333333\"/>\n     <use xlink:href=\"#m79ed5118f0\" x=\"102.67976\" y=\"203.30123\" style=\"fill: #4c72b0; stroke: #333333\"/>\n     <use xlink:href=\"#m79ed5118f0\" x=\"225.612267\" y=\"76.384867\" style=\"fill: #4c72b0; stroke: #333333\"/>\n     <use xlink:href=\"#m79ed5118f0\" x=\"240.834433\" y=\"34.766617\" style=\"fill: #4c72b0; stroke: #333333\"/>\n     <use xlink:href=\"#m79ed5118f0\" x=\"109.346536\" y=\"184.749034\" style=\"fill: #4c72b0; stroke: #333333\"/>\n     <use xlink:href=\"#m79ed5118f0\" x=\"120.392887\" y=\"216.723555\" style=\"fill: #4c72b0; stroke: #333333\"/>\n     <use xlink:href=\"#m79ed5118f0\" x=\"233.642246\" y=\"79.884633\" style=\"fill: #4c72b0; stroke: #333333\"/>\n     <use xlink:href=\"#m79ed5118f0\" x=\"114.943412\" y=\"187.759943\" style=\"fill: #4c72b0; stroke: #333333\"/>\n     <use xlink:href=\"#m79ed5118f0\" x=\"241.898405\" y=\"48.983509\" style=\"fill: #4c72b0; stroke: #333333\"/>\n     <use xlink:href=\"#m79ed5118f0\" x=\"237.476304\" y=\"90.780992\" style=\"fill: #4c72b0; stroke: #333333\"/>\n     <use xlink:href=\"#m79ed5118f0\" x=\"133.339787\" y=\"187.751338\" style=\"fill: #4c72b0; stroke: #333333\"/>\n     <use xlink:href=\"#m79ed5118f0\" x=\"84.604169\" y=\"179.296385\" style=\"fill: #4c72b0; stroke: #333333\"/>\n     <use xlink:href=\"#m79ed5118f0\" x=\"69.170298\" y=\"209.689439\" style=\"fill: #4c72b0; stroke: #333333\"/>\n     <use xlink:href=\"#m79ed5118f0\" x=\"233.920685\" y=\"87.751994\" style=\"fill: #4c72b0; stroke: #333333\"/>\n     <use xlink:href=\"#m79ed5118f0\" x=\"250.720122\" y=\"70.849582\" style=\"fill: #4c72b0; stroke: #333333\"/>\n     <use xlink:href=\"#m79ed5118f0\" x=\"101.377006\" y=\"169.697333\" style=\"fill: #4c72b0; stroke: #333333\"/>\n     <use xlink:href=\"#m79ed5118f0\" x=\"211.505082\" y=\"81.449922\" style=\"fill: #4c72b0; stroke: #333333\"/>\n     <use xlink:href=\"#m79ed5118f0\" x=\"217.939618\" y=\"100.104601\" style=\"fill: #4c72b0; stroke: #333333\"/>\n     <use xlink:href=\"#m79ed5118f0\" x=\"216.227342\" y=\"79.673557\" style=\"fill: #4c72b0; stroke: #333333\"/>\n     <use xlink:href=\"#m79ed5118f0\" x=\"99.886318\" y=\"199.600565\" style=\"fill: #4c72b0; stroke: #333333\"/>\n     <use xlink:href=\"#m79ed5118f0\" x=\"83.831628\" y=\"192.89361\" style=\"fill: #4c72b0; stroke: #333333\"/>\n     <use xlink:href=\"#m79ed5118f0\" x=\"221.288378\" y=\"105.984348\" style=\"fill: #4c72b0; stroke: #333333\"/>\n     <use xlink:href=\"#m79ed5118f0\" x=\"94.246872\" y=\"190.38219\" style=\"fill: #4c72b0; stroke: #333333\"/>\n     <use xlink:href=\"#m79ed5118f0\" x=\"81.431043\" y=\"201.408011\" style=\"fill: #4c72b0; stroke: #333333\"/>\n     <use xlink:href=\"#m79ed5118f0\" x=\"96.74417\" y=\"211.109182\" style=\"fill: #4c72b0; stroke: #333333\"/>\n     <use xlink:href=\"#m79ed5118f0\" x=\"260.916247\" y=\"88.379537\" style=\"fill: #4c72b0; stroke: #333333\"/>\n     <use xlink:href=\"#m79ed5118f0\" x=\"226.66632\" y=\"72.730623\" style=\"fill: #4c72b0; stroke: #333333\"/>\n     <use xlink:href=\"#m79ed5118f0\" x=\"238.606451\" y=\"84.750997\" style=\"fill: #4c72b0; stroke: #333333\"/>\n     <use xlink:href=\"#m79ed5118f0\" x=\"228.993547\" y=\"72.47473\" style=\"fill: #4c72b0; stroke: #333333\"/>\n     <use xlink:href=\"#m79ed5118f0\" x=\"231.227283\" y=\"76.170545\" style=\"fill: #4c72b0; stroke: #333333\"/>\n     <use xlink:href=\"#m79ed5118f0\" x=\"207.895755\" y=\"95.781875\" style=\"fill: #4c72b0; stroke: #333333\"/>\n     <use xlink:href=\"#m79ed5118f0\" x=\"89.325748\" y=\"191.391221\" style=\"fill: #4c72b0; stroke: #333333\"/>\n     <use xlink:href=\"#m79ed5118f0\" x=\"78.493941\" y=\"203.509778\" style=\"fill: #4c72b0; stroke: #333333\"/>\n     <use xlink:href=\"#m79ed5118f0\" x=\"89.63663\" y=\"187.28907\" style=\"fill: #4c72b0; stroke: #333333\"/>\n     <use xlink:href=\"#m79ed5118f0\" x=\"229.695592\" y=\"76.417009\" style=\"fill: #4c72b0; stroke: #333333\"/>\n     <use xlink:href=\"#m79ed5118f0\" x=\"99.981707\" y=\"213.88038\" style=\"fill: #4c72b0; stroke: #333333\"/>\n     <use xlink:href=\"#m79ed5118f0\" x=\"250.779284\" y=\"97.497733\" style=\"fill: #4c72b0; stroke: #333333\"/>\n     <use xlink:href=\"#m79ed5118f0\" x=\"95.705862\" y=\"222.345722\" style=\"fill: #4c72b0; stroke: #333333\"/>\n     <use xlink:href=\"#m79ed5118f0\" x=\"105.885625\" y=\"204.270318\" style=\"fill: #4c72b0; stroke: #333333\"/>\n     <use xlink:href=\"#m79ed5118f0\" x=\"106.788706\" y=\"201.466171\" style=\"fill: #4c72b0; stroke: #333333\"/>\n     <use xlink:href=\"#m79ed5118f0\" x=\"242.673745\" y=\"89.203333\" style=\"fill: #4c72b0; stroke: #333333\"/>\n     <use xlink:href=\"#m79ed5118f0\" x=\"222.359188\" y=\"85.243423\" style=\"fill: #4c72b0; stroke: #333333\"/>\n     <use xlink:href=\"#m79ed5118f0\" x=\"104.202564\" y=\"214.038381\" style=\"fill: #4c72b0; stroke: #333333\"/>\n     <use xlink:href=\"#m79ed5118f0\" x=\"103.619546\" y=\"201.885724\" style=\"fill: #4c72b0; stroke: #333333\"/>\n     <use xlink:href=\"#m79ed5118f0\" x=\"90.344535\" y=\"221.018887\" style=\"fill: #4c72b0; stroke: #333333\"/>\n     <use xlink:href=\"#m79ed5118f0\" x=\"244.74949\" y=\"95.968413\" style=\"fill: #4c72b0; stroke: #333333\"/>\n     <use xlink:href=\"#m79ed5118f0\" x=\"239.543721\" y=\"106.73017\" style=\"fill: #4c72b0; stroke: #333333\"/>\n     <use xlink:href=\"#m79ed5118f0\" x=\"123.889105\" y=\"181.706095\" style=\"fill: #4c72b0; stroke: #333333\"/>\n     <use xlink:href=\"#m79ed5118f0\" x=\"235.267336\" y=\"71.82493\" style=\"fill: #4c72b0; stroke: #333333\"/>\n     <use xlink:href=\"#m79ed5118f0\" x=\"237.227071\" y=\"56.742425\" style=\"fill: #4c72b0; stroke: #333333\"/>\n     <use xlink:href=\"#m79ed5118f0\" x=\"254.632864\" y=\"32.398125\" style=\"fill: #4c72b0; stroke: #333333\"/>\n     <use xlink:href=\"#m79ed5118f0\" x=\"83.625101\" y=\"199.972383\" style=\"fill: #4c72b0; stroke: #333333\"/>\n     <use xlink:href=\"#m79ed5118f0\" x=\"254.556429\" y=\"97.348522\" style=\"fill: #4c72b0; stroke: #333333\"/>\n     <use xlink:href=\"#m79ed5118f0\" x=\"224.371948\" y=\"68.352344\" style=\"fill: #4c72b0; stroke: #333333\"/>\n     <use xlink:href=\"#m79ed5118f0\" x=\"259.272693\" y=\"72.930128\" style=\"fill: #4c72b0; stroke: #333333\"/>\n     <use xlink:href=\"#m79ed5118f0\" x=\"90.555577\" y=\"207.847838\" style=\"fill: #4c72b0; stroke: #333333\"/>\n     <use xlink:href=\"#m79ed5118f0\" x=\"107.043185\" y=\"190.763125\" style=\"fill: #4c72b0; stroke: #333333\"/>\n     <use xlink:href=\"#m79ed5118f0\" x=\"238.555417\" y=\"85.155519\" style=\"fill: #4c72b0; stroke: #333333\"/>\n     <use xlink:href=\"#m79ed5118f0\" x=\"87.310542\" y=\"212.70607\" style=\"fill: #4c72b0; stroke: #333333\"/>\n     <use xlink:href=\"#m79ed5118f0\" x=\"218.597766\" y=\"87.217585\" style=\"fill: #4c72b0; stroke: #333333\"/>\n     <use xlink:href=\"#m79ed5118f0\" x=\"252.89532\" y=\"57.013375\" style=\"fill: #4c72b0; stroke: #333333\"/>\n     <use xlink:href=\"#m79ed5118f0\" x=\"83.540107\" y=\"195.187977\" style=\"fill: #4c72b0; stroke: #333333\"/>\n     <use xlink:href=\"#m79ed5118f0\" x=\"223.744123\" y=\"73.676009\" style=\"fill: #4c72b0; stroke: #333333\"/>\n     <use xlink:href=\"#m79ed5118f0\" x=\"229.477431\" y=\"66.762606\" style=\"fill: #4c72b0; stroke: #333333\"/>\n     <use xlink:href=\"#m79ed5118f0\" x=\"88.316313\" y=\"206.91106\" style=\"fill: #4c72b0; stroke: #333333\"/>\n     <use xlink:href=\"#m79ed5118f0\" x=\"250.528944\" y=\"89.616838\" style=\"fill: #4c72b0; stroke: #333333\"/>\n     <use xlink:href=\"#m79ed5118f0\" x=\"90.209154\" y=\"212.663326\" style=\"fill: #4c72b0; stroke: #333333\"/>\n     <use xlink:href=\"#m79ed5118f0\" x=\"234.071122\" y=\"71.408642\" style=\"fill: #4c72b0; stroke: #333333\"/>\n     <use xlink:href=\"#m79ed5118f0\" x=\"213.284824\" y=\"49.03575\" style=\"fill: #4c72b0; stroke: #333333\"/>\n     <use xlink:href=\"#m79ed5118f0\" x=\"230.105014\" y=\"68.801147\" style=\"fill: #4c72b0; stroke: #333333\"/>\n     <use xlink:href=\"#m79ed5118f0\" x=\"70.93126\" y=\"206.263618\" style=\"fill: #4c72b0; stroke: #333333\"/>\n     <use xlink:href=\"#m79ed5118f0\" x=\"93.923225\" y=\"211.274006\" style=\"fill: #4c72b0; stroke: #333333\"/>\n     <use xlink:href=\"#m79ed5118f0\" x=\"138.846565\" y=\"172.709156\" style=\"fill: #4c72b0; stroke: #333333\"/>\n     <use xlink:href=\"#m79ed5118f0\" x=\"106.453291\" y=\"203.843809\" style=\"fill: #4c72b0; stroke: #333333\"/>\n     <use xlink:href=\"#m79ed5118f0\" x=\"91.053002\" y=\"211.084556\" style=\"fill: #4c72b0; stroke: #333333\"/>\n     <use xlink:href=\"#m79ed5118f0\" x=\"96.095213\" y=\"180.340822\" style=\"fill: #4c72b0; stroke: #333333\"/>\n     <use xlink:href=\"#m79ed5118f0\" x=\"232.405191\" y=\"72.805426\" style=\"fill: #4c72b0; stroke: #333333\"/>\n     <use xlink:href=\"#m79ed5118f0\" x=\"232.321686\" y=\"73.422174\" style=\"fill: #4c72b0; stroke: #333333\"/>\n     <use xlink:href=\"#m79ed5118f0\" x=\"101.03634\" y=\"190.795439\" style=\"fill: #4c72b0; stroke: #333333\"/>\n     <use xlink:href=\"#m79ed5118f0\" x=\"121.09601\" y=\"203.374215\" style=\"fill: #4c72b0; stroke: #333333\"/>\n     <use xlink:href=\"#m79ed5118f0\" x=\"227.193352\" y=\"79.640184\" style=\"fill: #4c72b0; stroke: #333333\"/>\n     <use xlink:href=\"#m79ed5118f0\" x=\"265.463835\" y=\"90.138929\" style=\"fill: #4c72b0; stroke: #333333\"/>\n     <use xlink:href=\"#m79ed5118f0\" x=\"91.448864\" y=\"208.544342\" style=\"fill: #4c72b0; stroke: #333333\"/>\n     <use xlink:href=\"#m79ed5118f0\" x=\"258.162767\" y=\"63.698296\" style=\"fill: #4c72b0; stroke: #333333\"/>\n     <use xlink:href=\"#m79ed5118f0\" x=\"194.727956\" y=\"72.649225\" style=\"fill: #4c72b0; stroke: #333333\"/>\n     <use xlink:href=\"#m79ed5118f0\" x=\"228.966098\" y=\"112.896296\" style=\"fill: #4c72b0; stroke: #333333\"/>\n     <use xlink:href=\"#m79ed5118f0\" x=\"86.620824\" y=\"202.202768\" style=\"fill: #4c72b0; stroke: #333333\"/>\n     <use xlink:href=\"#m79ed5118f0\" x=\"82.677385\" y=\"211.654766\" style=\"fill: #4c72b0; stroke: #333333\"/>\n     <use xlink:href=\"#m79ed5118f0\" x=\"246.212642\" y=\"83.795218\" style=\"fill: #4c72b0; stroke: #333333\"/>\n     <use xlink:href=\"#m79ed5118f0\" x=\"236.165922\" y=\"98.288812\" style=\"fill: #4c72b0; stroke: #333333\"/>\n     <use xlink:href=\"#m79ed5118f0\" x=\"241.156544\" y=\"73.079167\" style=\"fill: #4c72b0; stroke: #333333\"/>\n     <use xlink:href=\"#m79ed5118f0\" x=\"112.201131\" y=\"190.553694\" style=\"fill: #4c72b0; stroke: #333333\"/>\n     <use xlink:href=\"#m79ed5118f0\" x=\"124.238638\" y=\"187.048143\" style=\"fill: #4c72b0; stroke: #333333\"/>\n     <use xlink:href=\"#m79ed5118f0\" x=\"239.036311\" y=\"71.716016\" style=\"fill: #4c72b0; stroke: #333333\"/>\n     <use xlink:href=\"#m79ed5118f0\" x=\"264.806353\" y=\"67.692383\" style=\"fill: #4c72b0; stroke: #333333\"/>\n    </g>\n   </g>\n   <g id=\"PathCollection_2\">\n    <defs>\n     <path id=\"m3a76304cea\" d=\"M 0 3 \nC 0.795609 3 1.55874 2.683901 2.12132 2.12132 \nC 2.683901 1.55874 3 0.795609 3 0 \nC 3 -0.795609 2.683901 -1.55874 2.12132 -2.12132 \nC 1.55874 -2.683901 0.795609 -3 0 -3 \nC -0.795609 -3 -1.55874 -2.683901 -2.12132 -2.12132 \nC -2.683901 -1.55874 -3 -0.795609 -3 0 \nC -3 0.795609 -2.683901 1.55874 -2.12132 2.12132 \nC -1.55874 2.683901 -0.795609 3 0 3 \nz\n\" style=\"stroke: #333333\"/>\n    </defs>\n    <g clip-path=\"url(#p7fcc36fc15)\">\n     <use xlink:href=\"#m3a76304cea\" x=\"238.045442\" y=\"203.097377\" style=\"fill: #dd8452; stroke: #333333\"/>\n     <use xlink:href=\"#m3a76304cea\" x=\"90.689195\" y=\"84.121655\" style=\"fill: #dd8452; stroke: #333333\"/>\n     <use xlink:href=\"#m3a76304cea\" x=\"237.064975\" y=\"195.426894\" style=\"fill: #dd8452; stroke: #333333\"/>\n     <use xlink:href=\"#m3a76304cea\" x=\"227.073361\" y=\"207.499473\" style=\"fill: #dd8452; stroke: #333333\"/>\n     <use xlink:href=\"#m3a76304cea\" x=\"100.347538\" y=\"65.39747\" style=\"fill: #dd8452; stroke: #333333\"/>\n     <use xlink:href=\"#m3a76304cea\" x=\"108.736892\" y=\"67.334141\" style=\"fill: #dd8452; stroke: #333333\"/>\n     <use xlink:href=\"#m3a76304cea\" x=\"216.796904\" y=\"195.140157\" style=\"fill: #dd8452; stroke: #333333\"/>\n     <use xlink:href=\"#m3a76304cea\" x=\"247.050375\" y=\"198.327782\" style=\"fill: #dd8452; stroke: #333333\"/>\n     <use xlink:href=\"#m3a76304cea\" x=\"234.014758\" y=\"202.863584\" style=\"fill: #dd8452; stroke: #333333\"/>\n     <use xlink:href=\"#m3a76304cea\" x=\"235.152567\" y=\"203.664605\" style=\"fill: #dd8452; stroke: #333333\"/>\n     <use xlink:href=\"#m3a76304cea\" x=\"82.471106\" y=\"80.766742\" style=\"fill: #dd8452; stroke: #333333\"/>\n     <use xlink:href=\"#m3a76304cea\" x=\"85.175932\" y=\"66.075845\" style=\"fill: #dd8452; stroke: #333333\"/>\n     <use xlink:href=\"#m3a76304cea\" x=\"83.475828\" y=\"81.99406\" style=\"fill: #dd8452; stroke: #333333\"/>\n     <use xlink:href=\"#m3a76304cea\" x=\"89.481954\" y=\"46.327772\" style=\"fill: #dd8452; stroke: #333333\"/>\n     <use xlink:href=\"#m3a76304cea\" x=\"90.062975\" y=\"70.13823\" style=\"fill: #dd8452; stroke: #333333\"/>\n     <use xlink:href=\"#m3a76304cea\" x=\"106.903863\" y=\"51.731939\" style=\"fill: #dd8452; stroke: #333333\"/>\n     <use xlink:href=\"#m3a76304cea\" x=\"271.105742\" y=\"222.215941\" style=\"fill: #dd8452; stroke: #333333\"/>\n     <use xlink:href=\"#m3a76304cea\" x=\"239.543571\" y=\"190.61375\" style=\"fill: #dd8452; stroke: #333333\"/>\n     <use xlink:href=\"#m3a76304cea\" x=\"92.665993\" y=\"73.576107\" style=\"fill: #dd8452; stroke: #333333\"/>\n     <use xlink:href=\"#m3a76304cea\" x=\"84.221798\" y=\"83.426583\" style=\"fill: #dd8452; stroke: #333333\"/>\n     <use xlink:href=\"#m3a76304cea\" x=\"233.040745\" y=\"201.960103\" style=\"fill: #dd8452; stroke: #333333\"/>\n     <use xlink:href=\"#m3a76304cea\" x=\"106.13705\" y=\"84.533332\" style=\"fill: #dd8452; stroke: #333333\"/>\n     <use xlink:href=\"#m3a76304cea\" x=\"240.785414\" y=\"217.180379\" style=\"fill: #dd8452; stroke: #333333\"/>\n     <use xlink:href=\"#m3a76304cea\" x=\"221.620458\" y=\"187.751333\" style=\"fill: #dd8452; stroke: #333333\"/>\n     <use xlink:href=\"#m3a76304cea\" x=\"87.030867\" y=\"68.011754\" style=\"fill: #dd8452; stroke: #333333\"/>\n     <use xlink:href=\"#m3a76304cea\" x=\"243.862105\" y=\"192.695795\" style=\"fill: #dd8452; stroke: #333333\"/>\n     <use xlink:href=\"#m3a76304cea\" x=\"251.747418\" y=\"192.967569\" style=\"fill: #dd8452; stroke: #333333\"/>\n     <use xlink:href=\"#m3a76304cea\" x=\"98.581883\" y=\"98.921295\" style=\"fill: #dd8452; stroke: #333333\"/>\n     <use xlink:href=\"#m3a76304cea\" x=\"247.060502\" y=\"213.055762\" style=\"fill: #dd8452; stroke: #333333\"/>\n     <use xlink:href=\"#m3a76304cea\" x=\"229.975622\" y=\"221.93822\" style=\"fill: #dd8452; stroke: #333333\"/>\n     <use xlink:href=\"#m3a76304cea\" x=\"253.912823\" y=\"212.403912\" style=\"fill: #dd8452; stroke: #333333\"/>\n     <use xlink:href=\"#m3a76304cea\" x=\"247.243186\" y=\"200.542281\" style=\"fill: #dd8452; stroke: #333333\"/>\n     <use xlink:href=\"#m3a76304cea\" x=\"89.983905\" y=\"76.360037\" style=\"fill: #dd8452; stroke: #333333\"/>\n     <use xlink:href=\"#m3a76304cea\" x=\"227.292688\" y=\"196.55126\" style=\"fill: #dd8452; stroke: #333333\"/>\n     <use xlink:href=\"#m3a76304cea\" x=\"101.9394\" y=\"55.740039\" style=\"fill: #dd8452; stroke: #333333\"/>\n     <use xlink:href=\"#m3a76304cea\" x=\"105.685629\" y=\"60.368884\" style=\"fill: #dd8452; stroke: #333333\"/>\n     <use xlink:href=\"#m3a76304cea\" x=\"106.384111\" y=\"97.761968\" style=\"fill: #dd8452; stroke: #333333\"/>\n     <use xlink:href=\"#m3a76304cea\" x=\"102.589426\" y=\"67.101719\" style=\"fill: #dd8452; stroke: #333333\"/>\n     <use xlink:href=\"#m3a76304cea\" x=\"123.678649\" y=\"71.343747\" style=\"fill: #dd8452; stroke: #333333\"/>\n     <use xlink:href=\"#m3a76304cea\" x=\"230.000706\" y=\"203.431184\" style=\"fill: #dd8452; stroke: #333333\"/>\n     <use xlink:href=\"#m3a76304cea\" x=\"111.419101\" y=\"81.18609\" style=\"fill: #dd8452; stroke: #333333\"/>\n     <use xlink:href=\"#m3a76304cea\" x=\"114.153615\" y=\"102.966273\" style=\"fill: #dd8452; stroke: #333333\"/>\n     <use xlink:href=\"#m3a76304cea\" x=\"272.079389\" y=\"206.401725\" style=\"fill: #dd8452; stroke: #333333\"/>\n     <use xlink:href=\"#m3a76304cea\" x=\"255.130564\" y=\"207.975124\" style=\"fill: #dd8452; stroke: #333333\"/>\n     <use xlink:href=\"#m3a76304cea\" x=\"250.216093\" y=\"188.881528\" style=\"fill: #dd8452; stroke: #333333\"/>\n     <use xlink:href=\"#m3a76304cea\" x=\"90.462852\" y=\"89.292736\" style=\"fill: #dd8452; stroke: #333333\"/>\n     <use xlink:href=\"#m3a76304cea\" x=\"102.681828\" y=\"75.030371\" style=\"fill: #dd8452; stroke: #333333\"/>\n     <use xlink:href=\"#m3a76304cea\" x=\"110.845593\" y=\"74.702763\" style=\"fill: #dd8452; stroke: #333333\"/>\n     <use xlink:href=\"#m3a76304cea\" x=\"99.287977\" y=\"77.137814\" style=\"fill: #dd8452; stroke: #333333\"/>\n     <use xlink:href=\"#m3a76304cea\" x=\"97.225821\" y=\"67.284376\" style=\"fill: #dd8452; stroke: #333333\"/>\n     <use xlink:href=\"#m3a76304cea\" x=\"230.15061\" y=\"203.617418\" style=\"fill: #dd8452; stroke: #333333\"/>\n     <use xlink:href=\"#m3a76304cea\" x=\"80.287066\" y=\"73.149046\" style=\"fill: #dd8452; stroke: #333333\"/>\n     <use xlink:href=\"#m3a76304cea\" x=\"226.316751\" y=\"189.261476\" style=\"fill: #dd8452; stroke: #333333\"/>\n     <use xlink:href=\"#m3a76304cea\" x=\"242.566897\" y=\"214.74974\" style=\"fill: #dd8452; stroke: #333333\"/>\n     <use xlink:href=\"#m3a76304cea\" x=\"226.049813\" y=\"187.048116\" style=\"fill: #dd8452; stroke: #333333\"/>\n     <use xlink:href=\"#m3a76304cea\" x=\"92.080058\" y=\"79.776002\" style=\"fill: #dd8452; stroke: #333333\"/>\n     <use xlink:href=\"#m3a76304cea\" x=\"209.328709\" y=\"197.106109\" style=\"fill: #dd8452; stroke: #333333\"/>\n     <use xlink:href=\"#m3a76304cea\" x=\"223.567085\" y=\"203.013329\" style=\"fill: #dd8452; stroke: #333333\"/>\n     <use xlink:href=\"#m3a76304cea\" x=\"110.356803\" y=\"85.079127\" style=\"fill: #dd8452; stroke: #333333\"/>\n     <use xlink:href=\"#m3a76304cea\" x=\"84.586284\" y=\"67.167419\" style=\"fill: #dd8452; stroke: #333333\"/>\n     <use xlink:href=\"#m3a76304cea\" x=\"241.33115\" y=\"194.515178\" style=\"fill: #dd8452; stroke: #333333\"/>\n     <use xlink:href=\"#m3a76304cea\" x=\"116.992223\" y=\"77.381322\" style=\"fill: #dd8452; stroke: #333333\"/>\n     <use xlink:href=\"#m3a76304cea\" x=\"252.360578\" y=\"210.129277\" style=\"fill: #dd8452; stroke: #333333\"/>\n     <use xlink:href=\"#m3a76304cea\" x=\"111.334748\" y=\"74.662966\" style=\"fill: #dd8452; stroke: #333333\"/>\n     <use xlink:href=\"#m3a76304cea\" x=\"82.76561\" y=\"65.416914\" style=\"fill: #dd8452; stroke: #333333\"/>\n     <use xlink:href=\"#m3a76304cea\" x=\"228.852862\" y=\"193.537286\" style=\"fill: #dd8452; stroke: #333333\"/>\n     <use xlink:href=\"#m3a76304cea\" x=\"258.59779\" y=\"204.776745\" style=\"fill: #dd8452; stroke: #333333\"/>\n     <use xlink:href=\"#m3a76304cea\" x=\"251.454205\" y=\"185.542471\" style=\"fill: #dd8452; stroke: #333333\"/>\n     <use xlink:href=\"#m3a76304cea\" x=\"129.354283\" y=\"89.776516\" style=\"fill: #dd8452; stroke: #333333\"/>\n     <use xlink:href=\"#m3a76304cea\" x=\"83.150159\" y=\"56.358428\" style=\"fill: #dd8452; stroke: #333333\"/>\n     <use xlink:href=\"#m3a76304cea\" x=\"91.967666\" y=\"88.206012\" style=\"fill: #dd8452; stroke: #333333\"/>\n     <use xlink:href=\"#m3a76304cea\" x=\"226.751833\" y=\"212.081525\" style=\"fill: #dd8452; stroke: #333333\"/>\n     <use xlink:href=\"#m3a76304cea\" x=\"99.6971\" y=\"85.402117\" style=\"fill: #dd8452; stroke: #333333\"/>\n     <use xlink:href=\"#m3a76304cea\" x=\"220.172322\" y=\"199.601684\" style=\"fill: #dd8452; stroke: #333333\"/>\n     <use xlink:href=\"#m3a76304cea\" x=\"89.52032\" y=\"67.507815\" style=\"fill: #dd8452; stroke: #333333\"/>\n     <use xlink:href=\"#m3a76304cea\" x=\"93.415394\" y=\"76.093758\" style=\"fill: #dd8452; stroke: #333333\"/>\n     <use xlink:href=\"#m3a76304cea\" x=\"87.661368\" y=\"76.271357\" style=\"fill: #dd8452; stroke: #333333\"/>\n     <use xlink:href=\"#m3a76304cea\" x=\"218.073591\" y=\"211.482289\" style=\"fill: #dd8452; stroke: #333333\"/>\n     <use xlink:href=\"#m3a76304cea\" x=\"252.162337\" y=\"206.357206\" style=\"fill: #dd8452; stroke: #333333\"/>\n     <use xlink:href=\"#m3a76304cea\" x=\"109.949113\" y=\"77.000347\" style=\"fill: #dd8452; stroke: #333333\"/>\n     <use xlink:href=\"#m3a76304cea\" x=\"233.982687\" y=\"203.45634\" style=\"fill: #dd8452; stroke: #333333\"/>\n     <use xlink:href=\"#m3a76304cea\" x=\"94.300124\" y=\"60.475232\" style=\"fill: #dd8452; stroke: #333333\"/>\n     <use xlink:href=\"#m3a76304cea\" x=\"233.245531\" y=\"209.5917\" style=\"fill: #dd8452; stroke: #333333\"/>\n     <use xlink:href=\"#m3a76304cea\" x=\"256.587136\" y=\"198.284051\" style=\"fill: #dd8452; stroke: #333333\"/>\n     <use xlink:href=\"#m3a76304cea\" x=\"256.265858\" y=\"184.441281\" style=\"fill: #dd8452; stroke: #333333\"/>\n     <use xlink:href=\"#m3a76304cea\" x=\"91.176106\" y=\"80.765608\" style=\"fill: #dd8452; stroke: #333333\"/>\n     <use xlink:href=\"#m3a76304cea\" x=\"244.604266\" y=\"204.470296\" style=\"fill: #dd8452; stroke: #333333\"/>\n     <use xlink:href=\"#m3a76304cea\" x=\"225.318903\" y=\"217.014839\" style=\"fill: #dd8452; stroke: #333333\"/>\n     <use xlink:href=\"#m3a76304cea\" x=\"244.800574\" y=\"200.96852\" style=\"fill: #dd8452; stroke: #333333\"/>\n     <use xlink:href=\"#m3a76304cea\" x=\"248.85391\" y=\"216.926746\" style=\"fill: #dd8452; stroke: #333333\"/>\n     <use xlink:href=\"#m3a76304cea\" x=\"92.067719\" y=\"58.66007\" style=\"fill: #dd8452; stroke: #333333\"/>\n     <use xlink:href=\"#m3a76304cea\" x=\"222.971223\" y=\"193.416155\" style=\"fill: #dd8452; stroke: #333333\"/>\n     <use xlink:href=\"#m3a76304cea\" x=\"214.768979\" y=\"183.613161\" style=\"fill: #dd8452; stroke: #333333\"/>\n     <use xlink:href=\"#m3a76304cea\" x=\"98.884298\" y=\"105.326372\" style=\"fill: #dd8452; stroke: #333333\"/>\n     <use xlink:href=\"#m3a76304cea\" x=\"111.808564\" y=\"89.91658\" style=\"fill: #dd8452; stroke: #333333\"/>\n     <use xlink:href=\"#m3a76304cea\" x=\"232.043588\" y=\"195.021187\" style=\"fill: #dd8452; stroke: #333333\"/>\n     <use xlink:href=\"#m3a76304cea\" x=\"96.89153\" y=\"86.555631\" style=\"fill: #dd8452; stroke: #333333\"/>\n     <use xlink:href=\"#m3a76304cea\" x=\"260.466267\" y=\"217.364312\" style=\"fill: #dd8452; stroke: #333333\"/>\n     <use xlink:href=\"#m3a76304cea\" x=\"78.809811\" y=\"99.57622\" style=\"fill: #dd8452; stroke: #333333\"/>\n     <use xlink:href=\"#m3a76304cea\" x=\"248.145978\" y=\"194.637446\" style=\"fill: #dd8452; stroke: #333333\"/>\n     <use xlink:href=\"#m3a76304cea\" x=\"241.720402\" y=\"191.827282\" style=\"fill: #dd8452; stroke: #333333\"/>\n    </g>\n   </g>\n   <g id=\"patch_3\">\n    <path d=\"M 59.024844 244.078125 \nL 59.024844 22.318125 \n\" style=\"fill: none; stroke: #ffffff; stroke-width: 1.25; stroke-linejoin: miter; stroke-linecap: square\"/>\n   </g>\n   <g id=\"patch_4\">\n    <path d=\"M 282.224844 244.078125 \nL 282.224844 22.318125 \n\" style=\"fill: none; stroke: #ffffff; stroke-width: 1.25; stroke-linejoin: miter; stroke-linecap: square\"/>\n   </g>\n   <g id=\"patch_5\">\n    <path d=\"M 59.024844 244.078125 \nL 282.224844 244.078125 \n\" style=\"fill: none; stroke: #ffffff; stroke-width: 1.25; stroke-linejoin: miter; stroke-linecap: square\"/>\n   </g>\n   <g id=\"patch_6\">\n    <path d=\"M 59.024844 22.318125 \nL 282.224844 22.318125 \n\" style=\"fill: none; stroke: #ffffff; stroke-width: 1.25; stroke-linejoin: miter; stroke-linecap: square\"/>\n   </g>\n   <g id=\"text_15\">\n    <!-- Dataset samples -->\n    <g style=\"fill: #262626\" transform=\"translate(120.282031 16.318125) scale(0.12 -0.12)\">\n     <defs>\n      <path id=\"DejaVuSans-44\" d=\"M 1259 4147 \nL 1259 519 \nL 2022 519 \nQ 2988 519 3436 956 \nQ 3884 1394 3884 2338 \nQ 3884 3275 3436 3711 \nQ 2988 4147 2022 4147 \nL 1259 4147 \nz\nM 628 4666 \nL 1925 4666 \nQ 3281 4666 3915 4102 \nQ 4550 3538 4550 2338 \nQ 4550 1131 3912 565 \nQ 3275 0 1925 0 \nL 628 0 \nL 628 4666 \nz\n\" transform=\"scale(0.015625)\"/>\n      <path id=\"DejaVuSans-61\" d=\"M 2194 1759 \nQ 1497 1759 1228 1600 \nQ 959 1441 959 1056 \nQ 959 750 1161 570 \nQ 1363 391 1709 391 \nQ 2188 391 2477 730 \nQ 2766 1069 2766 1631 \nL 2766 1759 \nL 2194 1759 \nz\nM 3341 1997 \nL 3341 0 \nL 2766 0 \nL 2766 531 \nQ 2569 213 2275 61 \nQ 1981 -91 1556 -91 \nQ 1019 -91 701 211 \nQ 384 513 384 1019 \nQ 384 1609 779 1909 \nQ 1175 2209 1959 2209 \nL 2766 2209 \nL 2766 2266 \nQ 2766 2663 2505 2880 \nQ 2244 3097 1772 3097 \nQ 1472 3097 1187 3025 \nQ 903 2953 641 2809 \nL 641 3341 \nQ 956 3463 1253 3523 \nQ 1550 3584 1831 3584 \nQ 2591 3584 2966 3190 \nQ 3341 2797 3341 1997 \nz\n\" transform=\"scale(0.015625)\"/>\n      <path id=\"DejaVuSans-74\" d=\"M 1172 4494 \nL 1172 3500 \nL 2356 3500 \nL 2356 3053 \nL 1172 3053 \nL 1172 1153 \nQ 1172 725 1289 603 \nQ 1406 481 1766 481 \nL 2356 481 \nL 2356 0 \nL 1766 0 \nQ 1100 0 847 248 \nQ 594 497 594 1153 \nL 594 3053 \nL 172 3053 \nL 172 3500 \nL 594 3500 \nL 594 4494 \nL 1172 4494 \nz\n\" transform=\"scale(0.015625)\"/>\n      <path id=\"DejaVuSans-73\" d=\"M 2834 3397 \nL 2834 2853 \nQ 2591 2978 2328 3040 \nQ 2066 3103 1784 3103 \nQ 1356 3103 1142 2972 \nQ 928 2841 928 2578 \nQ 928 2378 1081 2264 \nQ 1234 2150 1697 2047 \nL 1894 2003 \nQ 2506 1872 2764 1633 \nQ 3022 1394 3022 966 \nQ 3022 478 2636 193 \nQ 2250 -91 1575 -91 \nQ 1294 -91 989 -36 \nQ 684 19 347 128 \nL 347 722 \nQ 666 556 975 473 \nQ 1284 391 1588 391 \nQ 1994 391 2212 530 \nQ 2431 669 2431 922 \nQ 2431 1156 2273 1281 \nQ 2116 1406 1581 1522 \nL 1381 1569 \nQ 847 1681 609 1914 \nQ 372 2147 372 2553 \nQ 372 3047 722 3315 \nQ 1072 3584 1716 3584 \nQ 2034 3584 2315 3537 \nQ 2597 3491 2834 3397 \nz\n\" transform=\"scale(0.015625)\"/>\n      <path id=\"DejaVuSans-65\" d=\"M 3597 1894 \nL 3597 1613 \nL 953 1613 \nQ 991 1019 1311 708 \nQ 1631 397 2203 397 \nQ 2534 397 2845 478 \nQ 3156 559 3463 722 \nL 3463 178 \nQ 3153 47 2828 -22 \nQ 2503 -91 2169 -91 \nQ 1331 -91 842 396 \nQ 353 884 353 1716 \nQ 353 2575 817 3079 \nQ 1281 3584 2069 3584 \nQ 2775 3584 3186 3129 \nQ 3597 2675 3597 1894 \nz\nM 3022 2063 \nQ 3016 2534 2758 2815 \nQ 2500 3097 2075 3097 \nQ 1594 3097 1305 2825 \nQ 1016 2553 972 2059 \nL 3022 2063 \nz\n\" transform=\"scale(0.015625)\"/>\n      <path id=\"DejaVuSans-20\" transform=\"scale(0.015625)\"/>\n      <path id=\"DejaVuSans-6d\" d=\"M 3328 2828 \nQ 3544 3216 3844 3400 \nQ 4144 3584 4550 3584 \nQ 5097 3584 5394 3201 \nQ 5691 2819 5691 2113 \nL 5691 0 \nL 5113 0 \nL 5113 2094 \nQ 5113 2597 4934 2840 \nQ 4756 3084 4391 3084 \nQ 3944 3084 3684 2787 \nQ 3425 2491 3425 1978 \nL 3425 0 \nL 2847 0 \nL 2847 2094 \nQ 2847 2600 2669 2842 \nQ 2491 3084 2119 3084 \nQ 1678 3084 1418 2786 \nQ 1159 2488 1159 1978 \nL 1159 0 \nL 581 0 \nL 581 3500 \nL 1159 3500 \nL 1159 2956 \nQ 1356 3278 1631 3431 \nQ 1906 3584 2284 3584 \nQ 2666 3584 2933 3390 \nQ 3200 3197 3328 2828 \nz\n\" transform=\"scale(0.015625)\"/>\n      <path id=\"DejaVuSans-70\" d=\"M 1159 525 \nL 1159 -1331 \nL 581 -1331 \nL 581 3500 \nL 1159 3500 \nL 1159 2969 \nQ 1341 3281 1617 3432 \nQ 1894 3584 2278 3584 \nQ 2916 3584 3314 3078 \nQ 3713 2572 3713 1747 \nQ 3713 922 3314 415 \nQ 2916 -91 2278 -91 \nQ 1894 -91 1617 61 \nQ 1341 213 1159 525 \nz\nM 3116 1747 \nQ 3116 2381 2855 2742 \nQ 2594 3103 2138 3103 \nQ 1681 3103 1420 2742 \nQ 1159 2381 1159 1747 \nQ 1159 1113 1420 752 \nQ 1681 391 2138 391 \nQ 2594 391 2855 752 \nQ 3116 1113 3116 1747 \nz\n\" transform=\"scale(0.015625)\"/>\n      <path id=\"DejaVuSans-6c\" d=\"M 603 4863 \nL 1178 4863 \nL 1178 0 \nL 603 0 \nL 603 4863 \nz\n\" transform=\"scale(0.015625)\"/>\n     </defs>\n     <use xlink:href=\"#DejaVuSans-44\"/>\n     <use xlink:href=\"#DejaVuSans-61\" x=\"77.001953\"/>\n     <use xlink:href=\"#DejaVuSans-74\" x=\"138.28125\"/>\n     <use xlink:href=\"#DejaVuSans-61\" x=\"177.490234\"/>\n     <use xlink:href=\"#DejaVuSans-73\" x=\"238.769531\"/>\n     <use xlink:href=\"#DejaVuSans-65\" x=\"290.869141\"/>\n     <use xlink:href=\"#DejaVuSans-74\" x=\"352.392578\"/>\n     <use xlink:href=\"#DejaVuSans-20\" x=\"391.601562\"/>\n     <use xlink:href=\"#DejaVuSans-73\" x=\"423.388672\"/>\n     <use xlink:href=\"#DejaVuSans-61\" x=\"475.488281\"/>\n     <use xlink:href=\"#DejaVuSans-6d\" x=\"536.767578\"/>\n     <use xlink:href=\"#DejaVuSans-70\" x=\"634.179688\"/>\n     <use xlink:href=\"#DejaVuSans-6c\" x=\"697.65625\"/>\n     <use xlink:href=\"#DejaVuSans-65\" x=\"725.439453\"/>\n     <use xlink:href=\"#DejaVuSans-73\" x=\"786.962891\"/>\n    </g>\n   </g>\n   <g id=\"legend_1\">\n    <g id=\"patch_7\">\n     <path d=\"M 199.891562 150.994063 \nL 274.524844 150.994063 \nQ 276.724844 150.994063 276.724844 148.794063 \nL 276.724844 117.602188 \nQ 276.724844 115.402188 274.524844 115.402188 \nL 199.891562 115.402188 \nQ 197.691562 115.402188 197.691562 117.602188 \nL 197.691562 148.794063 \nQ 197.691562 150.994063 199.891562 150.994063 \nz\n\" style=\"fill: #eaeaf2; opacity: 0.8; stroke: #cccccc; stroke-linejoin: miter\"/>\n    </g>\n    <g id=\"PathCollection_3\">\n     <g>\n      <use xlink:href=\"#m79ed5118f0\" x=\"213.091562\" y=\"125.272969\" style=\"fill: #4c72b0; stroke: #333333\"/>\n     </g>\n    </g>\n    <g id=\"text_16\">\n     <!-- Class 0 -->\n     <g style=\"fill: #262626\" transform=\"translate(232.891562 128.160469) scale(0.11 -0.11)\">\n      <defs>\n       <path id=\"DejaVuSans-43\" d=\"M 4122 4306 \nL 4122 3641 \nQ 3803 3938 3442 4084 \nQ 3081 4231 2675 4231 \nQ 1875 4231 1450 3742 \nQ 1025 3253 1025 2328 \nQ 1025 1406 1450 917 \nQ 1875 428 2675 428 \nQ 3081 428 3442 575 \nQ 3803 722 4122 1019 \nL 4122 359 \nQ 3791 134 3420 21 \nQ 3050 -91 2638 -91 \nQ 1578 -91 968 557 \nQ 359 1206 359 2328 \nQ 359 3453 968 4101 \nQ 1578 4750 2638 4750 \nQ 3056 4750 3426 4639 \nQ 3797 4528 4122 4306 \nz\n\" transform=\"scale(0.015625)\"/>\n      </defs>\n      <use xlink:href=\"#DejaVuSans-43\"/>\n      <use xlink:href=\"#DejaVuSans-6c\" x=\"69.824219\"/>\n      <use xlink:href=\"#DejaVuSans-61\" x=\"97.607422\"/>\n      <use xlink:href=\"#DejaVuSans-73\" x=\"158.886719\"/>\n      <use xlink:href=\"#DejaVuSans-73\" x=\"210.986328\"/>\n      <use xlink:href=\"#DejaVuSans-20\" x=\"263.085938\"/>\n      <use xlink:href=\"#DejaVuSans-30\" x=\"294.873047\"/>\n     </g>\n    </g>\n    <g id=\"PathCollection_4\">\n     <g>\n      <use xlink:href=\"#m3a76304cea\" x=\"213.091562\" y=\"141.418906\" style=\"fill: #dd8452; stroke: #333333\"/>\n     </g>\n    </g>\n    <g id=\"text_17\">\n     <!-- Class 1 -->\n     <g style=\"fill: #262626\" transform=\"translate(232.891562 144.306406) scale(0.11 -0.11)\">\n      <use xlink:href=\"#DejaVuSans-43\"/>\n      <use xlink:href=\"#DejaVuSans-6c\" x=\"69.824219\"/>\n      <use xlink:href=\"#DejaVuSans-61\" x=\"97.607422\"/>\n      <use xlink:href=\"#DejaVuSans-73\" x=\"158.886719\"/>\n      <use xlink:href=\"#DejaVuSans-73\" x=\"210.986328\"/>\n      <use xlink:href=\"#DejaVuSans-20\" x=\"263.085938\"/>\n      <use xlink:href=\"#DejaVuSans-31\" x=\"294.873047\"/>\n     </g>\n    </g>\n   </g>\n  </g>\n </g>\n <defs>\n  <clipPath id=\"p7fcc36fc15\">\n   <rect x=\"59.024844\" y=\"22.318125\" width=\"223.2\" height=\"221.76\"/>\n  </clipPath>\n </defs>\n</svg>\n"
          },
          "metadata": {}
        }
      ],
      "source": [
        "visualize_samples(dataset.data, dataset.label)\n",
        "plt.show()"
      ]
    },
    {
      "cell_type": "markdown",
      "metadata": {
        "id": "a2utbUnrRJLW"
      },
      "source": [
        "#### The data loader class\n",
        "\n",
        "The class `torch.utils.data.DataLoader` represents a Python iterable over a dataset with support for automatic batching, multi-process data loading and many more features. The data loader communicates with the dataset using the function `__getitem__`, and stacks its outputs as tensors over the first dimension to form a batch.\n",
        "In contrast to the dataset class, we usually don't have to define our own data loader class, but can just create an object of it with the dataset as input. Additionally, we can configure our data loader with the following input arguments (only a selection, see full list [here](https://pytorch.org/docs/stable/data.html#torch.utils.data.DataLoader)):\n",
        "\n",
        "* `batch_size`: Number of samples to stack per batch\n",
        "* `shuffle`: If True, the data is returned in a random order. This is important during training for introducing stochasticity.\n",
        "* `num_workers`: Number of subprocesses to use for data loading. The default, 0, means that the data will be loaded in the main process which can slow down training for datasets where loading a data point takes a considerable amount of time (e.g. large images). More workers are recommended for those, but can cause issues on Windows computers. For tiny datasets as ours, 0 workers are usually faster.\n",
        "* `pin_memory`: If True, the data loader will copy Tensors into CUDA pinned memory before returning them. This can save some time for large data points on GPUs. Usually a good practice to use for a training set, but not necessarily for validation and test to save memory on the GPU.\n",
        "* `drop_last`: If True, the last batch is dropped in case it is smaller than the specified batch size. This occurs when the dataset size is not a multiple of the batch size. Only potentially helpful during training to keep a consistent batch size.\n",
        "\n",
        "Let's create a simple data loader below:"
      ]
    },
    {
      "cell_type": "code",
      "execution_count": 18,
      "metadata": {
        "id": "9sDfOByIRJLX"
      },
      "outputs": [],
      "source": [
        "data_loader = data.DataLoader(dataset, batch_size=8, shuffle=True)"
      ]
    },
    {
      "cell_type": "code",
      "execution_count": 19,
      "metadata": {
        "id": "Z7irtbxZRJLX",
        "outputId": "db96344f-e1c8-4417-e43f-6751c2c68886",
        "colab": {
          "base_uri": "https://localhost:8080/"
        }
      },
      "outputs": [
        {
          "output_type": "stream",
          "name": "stdout",
          "text": [
            "Data inputs torch.Size([8, 2]) \n",
            " tensor([[ 0.9932,  0.0539],\n",
            "        [ 0.0608,  0.0057],\n",
            "        [ 1.0109,  0.7625],\n",
            "        [ 0.8230,  1.2235],\n",
            "        [ 0.9188,  1.0342],\n",
            "        [-0.0290,  0.0943],\n",
            "        [ 1.0914,  0.8363],\n",
            "        [ 0.2223,  0.8980]])\n",
            "Data labels torch.Size([8]) \n",
            " tensor([1, 0, 0, 0, 0, 0, 0, 1])\n"
          ]
        }
      ],
      "source": [
        "# next(iter(...)) catches the first batch of the data loader\n",
        "# If shuffle is True, this will return a different batch every time we run this cell\n",
        "# For iterating over the whole dataset, we can simple use \"for batch in data_loader: ...\"\n",
        "data_inputs, data_labels = next(iter(data_loader))\n",
        "\n",
        "# The shape of the outputs are [batch_size, d_1,...,d_N] where d_1,...,d_N are the\n",
        "# dimensions of the data point returned from the dataset class\n",
        "print(\"Data inputs\", data_inputs.shape, \"\\n\", data_inputs)\n",
        "print(\"Data labels\", data_labels.shape, \"\\n\", data_labels)"
      ]
    },
    {
      "cell_type": "markdown",
      "metadata": {
        "id": "Ttl_1qDhRJLX"
      },
      "source": [
        "### Optimization\n",
        "\n",
        "After defining the model and the dataset, it is time to prepare the optimization of the model. During training, we will perform the following steps:\n",
        "\n",
        "1. Get a batch from the data loader\n",
        "2. Obtain the predictions from the model for the batch\n",
        "3. Calculate the loss based on the difference between predictions and labels\n",
        "4. Backpropagation: calculate the gradients for every parameter with respect to the loss\n",
        "5. Update the parameters of the model in the direction of the gradients\n",
        "\n",
        "We have seen how we can do step 1, 2 and 4 in PyTorch. Now, we will look at step 3 and 5."
      ]
    },
    {
      "cell_type": "markdown",
      "metadata": {
        "id": "vuJy1ec8RJLX"
      },
      "source": [
        "#### Loss modules\n",
        "\n",
        "We can calculate the loss for a batch by simply performing a few tensor operations as those are automatically added to the computation graph. For instance, for binary classification, we can use Binary Cross Entropy (BCE) which is defined as follows:\n",
        "\n",
        "$$\\mathcal{L}_{BCE} = -\\sum_i \\left[ y_i \\log x_i + (1 - y_i) \\log (1 - x_i) \\right]$$\n",
        "\n",
        "where $y$ are our labels, and $x$ our predictions, both in the range of $[0,1]$. However, PyTorch already provides a list of predefined loss functions which we can use (see [here](https://pytorch.org/docs/stable/nn.html#loss-functions) for a full list). For instance, for BCE, PyTorch has two modules: `nn.BCELoss()`, `nn.BCEWithLogitsLoss()`. While `nn.BCELoss` expects the inputs $x$ to be in the range $[0,1]$, i.e. the output of a sigmoid, `nn.BCEWithLogitsLoss` combines a sigmoid layer and the BCE loss in a single class. This version is numerically more stable than using a plain Sigmoid followed by a BCE loss because of the logarithms applied in the loss function. Hence, it is adviced to use loss functions applied on \"logits\" where possible (remember to not apply a sigmoid on the output of the model in this case!). For our model defined above, we therefore use the module `nn.BCEWithLogitsLoss`."
      ]
    },
    {
      "cell_type": "code",
      "execution_count": 20,
      "metadata": {
        "id": "xJs7lgH1RJLX"
      },
      "outputs": [],
      "source": [
        "loss_module = nn.BCEWithLogitsLoss()"
      ]
    },
    {
      "cell_type": "markdown",
      "metadata": {
        "id": "W7W4zcOHRJLY"
      },
      "source": [
        "#### Stochastic Gradient Descent\n",
        "\n",
        "For updating the parameters, PyTorch provides the package `torch.optim` that has most popular optimizers implemented. We will discuss the specific optimizers and their differences later in the course, but will for now use the simplest of them: `torch.optim.SGD`. Stochastic Gradient Descent updates parameters by multiplying the gradients with a small constant, called learning rate, and subtracting those from the parameters (hence minimizing the loss). Therefore, we slowly move towards the direction of minimizing the loss. A good default value of the learning rate for a small network as ours is 0.1."
      ]
    },
    {
      "cell_type": "code",
      "execution_count": 21,
      "metadata": {
        "id": "3q5lwq5cRJLY"
      },
      "outputs": [],
      "source": [
        "# Input to the optimizer are the parameters of the model: model.parameters()\n",
        "optimizer = torch.optim.SGD(model.parameters(), lr=0.1)"
      ]
    },
    {
      "cell_type": "markdown",
      "metadata": {
        "id": "z4TW-aOMRJLY"
      },
      "source": [
        "The optimizer provides two useful functions: `optimizer.step()`, and `optimizer.zero_grad()`. The step function updates the parameters based on the gradients as explained above. The function `optimizer.zero_grad()` sets the gradients of all parameters to zero. While this function seems less relevant at first, it is a crucial pre-step before performing backpropagation. If we call the `backward` function on the loss while the parameter gradients are non-zero from the previous batch, the new gradients would actually be added to the previous ones instead of overwriting them. This is done because a parameter might occur multiple times in a computation graph, and we need to sum the gradients in this case instead of replacing them. Hence, remember to call `optimizer.zero_grad()` before calculating the gradients of a batch."
      ]
    },
    {
      "cell_type": "markdown",
      "metadata": {
        "id": "-Gs2Pze8RJLY"
      },
      "source": [
        "### Training\n",
        "\n",
        "Finally, we are ready to train our model. As a first step, we create a slightly larger dataset and specify a data loader with a larger batch size."
      ]
    },
    {
      "cell_type": "code",
      "execution_count": 22,
      "metadata": {
        "id": "uJPIeHr5RJLY"
      },
      "outputs": [],
      "source": [
        "train_dataset = XORDataset(size=2500)\n",
        "train_data_loader = data.DataLoader(train_dataset, batch_size=128, shuffle=True)"
      ]
    },
    {
      "cell_type": "markdown",
      "metadata": {
        "id": "D0hdGP5vRJLY"
      },
      "source": [
        "Now, we can write a small training function. Remember our five steps: load a batch, obtain the predictions, calculate the loss, backpropagate, and update. Additionally, we have to push all data and model parameters to the device of our choice (GPU if available). For the tiny neural network we have, communicating the data to the GPU actually takes much more time than we could save from running the operation on GPU. For large networks, the communication time is significantly smaller than the actual runtime making a GPU crucial in these cases. Still, to practice, we will push the data to GPU here."
      ]
    },
    {
      "cell_type": "code",
      "execution_count": 23,
      "metadata": {
        "id": "8Ws7u3aRRJLY",
        "outputId": "04c07fec-c41d-4c59-9134-b1050feca7e5",
        "colab": {
          "base_uri": "https://localhost:8080/"
        }
      },
      "outputs": [
        {
          "output_type": "execute_result",
          "data": {
            "text/plain": [
              "SimpleClassifier(\n",
              "  (linear1): Linear(in_features=2, out_features=4, bias=True)\n",
              "  (act_fn): Tanh()\n",
              "  (linear2): Linear(in_features=4, out_features=1, bias=True)\n",
              ")"
            ]
          },
          "metadata": {},
          "execution_count": 23
        }
      ],
      "source": [
        "# Push model to device. Has to be only done once\n",
        "model.to(device)"
      ]
    },
    {
      "cell_type": "markdown",
      "metadata": {
        "id": "q3_4sVZKRJLY"
      },
      "source": [
        "In addition, we set our model to training mode. This is done by calling `model.train()`. There exist certain modules that need to perform a different forward step during training than during testing (e.g. BatchNorm and Dropout), and we can switch between them using `model.train()` and `model.eval()`."
      ]
    },
    {
      "cell_type": "code",
      "execution_count": 24,
      "metadata": {
        "id": "I6HKdk7bRJLY"
      },
      "outputs": [],
      "source": [
        "def train_model(model, optimizer, data_loader, loss_module, num_epochs=9):\n",
        "    # Set model to train mode\n",
        "    model.train()\n",
        "\n",
        "    # Training loop\n",
        "    for epoch in tqdm(range(num_epochs)):\n",
        "        for data_inputs, data_labels in data_loader:\n",
        "\n",
        "            ## Step 1: Move input data to device (only strictly necessary if we use GPU)\n",
        "            data_inputs = data_inputs.to(device)\n",
        "            data_labels = data_labels.to(device)\n",
        "\n",
        "            ## Step 2: Run the model on the input data\n",
        "            preds = model(data_inputs)\n",
        "            preds = preds.squeeze(dim=1) # Output is [Batch size, 1], but we want [Batch size]\n",
        "\n",
        "            ## Step 3: Calculate the loss\n",
        "            loss = loss_module(preds, data_labels.float())\n",
        "\n",
        "            ## Step 4: Perform backpropagation\n",
        "            # Before calculating the gradients, we need to ensure that they are all zero.\n",
        "            # The gradients would not be overwritten, but actually added to the existing ones.\n",
        "            optimizer.zero_grad()\n",
        "            # Perform backpropagation\n",
        "            loss.backward()\n",
        "\n",
        "            ## Step 5: Update the parameters\n",
        "            optimizer.step()"
      ]
    },
    {
      "cell_type": "code",
      "execution_count": 25,
      "metadata": {
        "colab": {
          "referenced_widgets": [
            "f32a38a663a340a89e25f1f04f5263bb",
            "cb5a8806d2cc4da3a57bd1c12f59c00e",
            "258beaa6e5a641e998c2ce75c8384ff7",
            "42b633af282e44c18d18a5ab8349d8b2",
            "2937ec6df6d84b64a01b535982645af5",
            "24cac7349bd449da8b529e4e6aa47cb1",
            "403423cd85b74c0b9673d1287c14ffb4",
            "3774784466014b809ffb05ce293baf29",
            "f459799fa563415c8c01b84a2f5aa71e",
            "683b900131c34d57959a8b61e862e560",
            "d0761704b53a421185e5d9513def8b8b"
          ],
          "base_uri": "https://localhost:8080/",
          "height": 49
        },
        "id": "_4zNfEmDRJLY",
        "outputId": "100aa290-3036-4e66-db54-f770a674a861"
      },
      "outputs": [
        {
          "output_type": "display_data",
          "data": {
            "text/plain": [
              "  0%|          | 0/9 [00:00<?, ?it/s]"
            ],
            "application/vnd.jupyter.widget-view+json": {
              "version_major": 2,
              "version_minor": 0,
              "model_id": "f32a38a663a340a89e25f1f04f5263bb"
            }
          },
          "metadata": {}
        }
      ],
      "source": [
        "\n",
        "\n",
        "train_model(model, optimizer, train_data_loader, loss_module)"
      ]
    },
    {
      "cell_type": "markdown",
      "metadata": {
        "id": "Fk-O0i0YRJLY"
      },
      "source": [
        "#### Saving a model\n",
        "\n",
        "After finish training a model, we save the model to disk so that we can load the same weights at a later time. For this, we extract the so-called `state_dict` from the model which contains all learnable parameters. For our simple model, the state dict contains the following entries:"
      ]
    },
    {
      "cell_type": "code",
      "execution_count": 26,
      "metadata": {
        "id": "lWJLOG8HRJLY",
        "outputId": "335f7757-5b0f-4c00-e116-c102690ccbf2",
        "colab": {
          "base_uri": "https://localhost:8080/"
        }
      },
      "outputs": [
        {
          "output_type": "stream",
          "name": "stdout",
          "text": [
            "OrderedDict([('linear1.weight', tensor([[-0.2957, -0.3357],\n",
            "        [ 0.4323, -0.4728],\n",
            "        [-0.5600,  0.6762],\n",
            "        [-0.6179,  0.3043]], device='cuda:0')), ('linear1.bias', tensor([ 0.5439,  0.2003,  0.4169, -0.0248], device='cuda:0')), ('linear2.weight', tensor([[ 0.3186, -0.0748, -0.6460,  0.3900]], device='cuda:0')), ('linear2.bias', tensor([0.2185], device='cuda:0'))])\n"
          ]
        }
      ],
      "source": [
        "state_dict = model.state_dict()\n",
        "print(state_dict)"
      ]
    },
    {
      "cell_type": "markdown",
      "metadata": {
        "id": "QywcjlC0RJLY"
      },
      "source": [
        "To save the state dictionary, we can use `torch.save`:"
      ]
    },
    {
      "cell_type": "code",
      "execution_count": 27,
      "metadata": {
        "id": "0R0IZKOzRJLY"
      },
      "outputs": [],
      "source": [
        "# torch.save(object, filename). For the filename, any extension can be used\n",
        "torch.save(state_dict, \"our_model.tar\")"
      ]
    },
    {
      "cell_type": "markdown",
      "metadata": {
        "id": "_XX7xAufRJLY"
      },
      "source": [
        "To load a model from a state dict, we use the function `torch.load` to load the state dict from the disk, and the module function `load_state_dict` to overwrite our parameters with the new values:"
      ]
    },
    {
      "cell_type": "code",
      "execution_count": 28,
      "metadata": {
        "id": "GFxf3kSaRJLY",
        "outputId": "e50e8697-03fb-441f-9782-2be4ba1eb25e",
        "colab": {
          "base_uri": "https://localhost:8080/"
        }
      },
      "outputs": [
        {
          "output_type": "stream",
          "name": "stdout",
          "text": [
            "Original model\n",
            " OrderedDict([('linear1.weight', tensor([[-0.2957, -0.3357],\n",
            "        [ 0.4323, -0.4728],\n",
            "        [-0.5600,  0.6762],\n",
            "        [-0.6179,  0.3043]], device='cuda:0')), ('linear1.bias', tensor([ 0.5439,  0.2003,  0.4169, -0.0248], device='cuda:0')), ('linear2.weight', tensor([[ 0.3186, -0.0748, -0.6460,  0.3900]], device='cuda:0')), ('linear2.bias', tensor([0.2185], device='cuda:0'))])\n",
            "\n",
            "Loaded model\n",
            " OrderedDict([('linear1.weight', tensor([[-0.2957, -0.3357],\n",
            "        [ 0.4323, -0.4728],\n",
            "        [-0.5600,  0.6762],\n",
            "        [-0.6179,  0.3043]])), ('linear1.bias', tensor([ 0.5439,  0.2003,  0.4169, -0.0248])), ('linear2.weight', tensor([[ 0.3186, -0.0748, -0.6460,  0.3900]])), ('linear2.bias', tensor([0.2185]))])\n"
          ]
        },
        {
          "output_type": "stream",
          "name": "stderr",
          "text": [
            "<ipython-input-28-9b8ea49100fa>:2: FutureWarning: You are using `torch.load` with `weights_only=False` (the current default value), which uses the default pickle module implicitly. It is possible to construct malicious pickle data which will execute arbitrary code during unpickling (See https://github.com/pytorch/pytorch/blob/main/SECURITY.md#untrusted-models for more details). In a future release, the default value for `weights_only` will be flipped to `True`. This limits the functions that could be executed during unpickling. Arbitrary objects will no longer be allowed to be loaded via this mode unless they are explicitly allowlisted by the user via `torch.serialization.add_safe_globals`. We recommend you start setting `weights_only=True` for any use case where you don't have full control of the loaded file. Please open an issue on GitHub for any issues related to this experimental feature.\n",
            "  state_dict = torch.load(\"our_model.tar\")\n"
          ]
        }
      ],
      "source": [
        "# Load state dict from the disk (make sure it is the same name as above)\n",
        "state_dict = torch.load(\"our_model.tar\")\n",
        "\n",
        "# Create a new model and load the state\n",
        "new_model = SimpleClassifier(num_inputs=2, num_hidden=4, num_outputs=1)\n",
        "new_model.load_state_dict(state_dict)\n",
        "\n",
        "# Verify that the parameters are the same\n",
        "print(\"Original model\\n\", model.state_dict())\n",
        "print(\"\\nLoaded model\\n\", new_model.state_dict())"
      ]
    },
    {
      "cell_type": "markdown",
      "metadata": {
        "id": "awOt801iRJLY"
      },
      "source": [
        "A detailed tutorial on saving and loading models in PyTorch can be found [here](https://pytorch.org/tutorials/beginner/saving_loading_models.html)."
      ]
    },
    {
      "cell_type": "markdown",
      "metadata": {
        "id": "dhPIyM9PRJLZ"
      },
      "source": [
        "### Evaluation\n",
        "\n",
        "Once we have trained a model, it is time to evaluate it on a held-out test set. As our dataset consist of randomly generated data points, we need to first create a test set with a corresponding data loader."
      ]
    },
    {
      "cell_type": "code",
      "execution_count": 29,
      "metadata": {
        "id": "9Rko-LnWRJLZ"
      },
      "outputs": [],
      "source": [
        "test_dataset = XORDataset(size=500)\n",
        "# drop_last -> Don't drop the last batch although it is smaller than 128\n",
        "test_data_loader = data.DataLoader(test_dataset, batch_size=128, shuffle=False, drop_last=False)"
      ]
    },
    {
      "cell_type": "markdown",
      "metadata": {
        "id": "3NKnrdMURJLZ"
      },
      "source": [
        "As metric, we will use accuracy which is calculated as follows:\n",
        "\n",
        "$$acc = \\frac{\\#\\text{correct predictions}}{\\#\\text{all predictions}} = \\frac{TP+TN}{TP+TN+FP+FN}$$\n",
        "\n",
        "where TP are the true positives, TN true negatives, FP false positives, and FN the fale negatives.\n",
        "\n",
        "When evaluating the model, we don't need to keep track of the computation graph as we don't intend to calculate the gradients. This reduces the required memory and speed up the model. In PyTorch, we can deactivate the computation graph using `with torch.no_grad(): ...`. Remember to additionally set the model to eval mode."
      ]
    },
    {
      "cell_type": "code",
      "execution_count": 30,
      "metadata": {
        "id": "-HGmSxtWRJLZ"
      },
      "outputs": [],
      "source": [
        "def eval_model(model, data_loader):\n",
        "    model.eval() # Set model to eval mode\n",
        "    true_preds, num_preds = 0., 0.\n",
        "\n",
        "    with torch.no_grad(): # Deactivate gradients for the following code\n",
        "        for data_inputs, data_labels in data_loader:\n",
        "\n",
        "            # Determine prediction of model on dev set\n",
        "            data_inputs, data_labels = data_inputs.to(device), data_labels.to(device)\n",
        "            preds = model(data_inputs)\n",
        "            preds = preds.squeeze(dim=1)\n",
        "            preds = torch.sigmoid(preds) # Sigmoid to map predictions between 0 and 1\n",
        "            pred_labels = (preds >= 0.5).long() # Binarize predictions to 0 and 1\n",
        "\n",
        "            # Keep records of predictions for the accuracy metric (true_preds=TP+TN, num_preds=TP+TN+FP+FN)\n",
        "            true_preds += (pred_labels == data_labels).sum()\n",
        "            num_preds += data_labels.shape[0]\n",
        "\n",
        "    acc = true_preds / num_preds\n",
        "    print(f\"Accuracy of the model: {100.0*acc:4.2f}%\")"
      ]
    },
    {
      "cell_type": "code",
      "execution_count": 31,
      "metadata": {
        "id": "wiWlFrPURJLZ",
        "outputId": "b435d05f-7a0a-4e67-82d6-c540cb0e7b6a",
        "colab": {
          "base_uri": "https://localhost:8080/"
        }
      },
      "outputs": [
        {
          "output_type": "stream",
          "name": "stdout",
          "text": [
            "Accuracy of the model: 48.80%\n"
          ]
        }
      ],
      "source": [
        "eval_model(model, test_data_loader)"
      ]
    },
    {
      "cell_type": "markdown",
      "metadata": {
        "id": "qck_Fra6RJLZ"
      },
      "source": [
        "If we trained our model correctly, we should see a score close to 100% accuracy. However, this is only possible because of our simple task, and unfortunately, we usually don't get such high scores on test sets of more complex tasks."
      ]
    },
    {
      "cell_type": "markdown",
      "metadata": {
        "id": "gcYWgR-pRJLZ"
      },
      "source": [
        "#### Visualizing classification boundaries\n",
        "\n",
        "To visualize what our model has learned, we can perform a prediction for every data point in a range of $[-0.5, 1.5]$, and visualize the predicted class as in the sample figure at the beginning of this section. This shows where the model has created decision boundaries, and which points would be classified as $0$, and which as $1$. We therefore get a background image out of blue (class 0) and orange (class 1). The spots where the model is uncertain we will see a blurry overlap. The specific code is less relevant compared to the output figure which should hopefully show us a clear separation of classes:"
      ]
    },
    {
      "cell_type": "code",
      "execution_count": 33,
      "metadata": {
        "id": "BH5TYhSkFxhe",
        "outputId": "aeabba1a-7b68-4286-b8a4-126b2f288c2a",
        "colab": {
          "base_uri": "https://localhost:8080/",
          "height": 403
        }
      },
      "outputs": [
        {
          "output_type": "display_data",
          "data": {
            "text/plain": [
              "<Figure size 400x400 with 1 Axes>"
            ],
            "image/svg+xml": "<?xml version=\"1.0\" encoding=\"utf-8\" standalone=\"no\"?>\n<!DOCTYPE svg PUBLIC \"-//W3C//DTD SVG 1.1//EN\"\n  \"http://www.w3.org/Graphics/SVG/1.1/DTD/svg11.dtd\">\n<svg xmlns:xlink=\"http://www.w3.org/1999/xlink\" width=\"303.730313pt\" height=\"287.037813pt\" viewBox=\"0 0 303.730313 287.037813\" xmlns=\"http://www.w3.org/2000/svg\" version=\"1.1\">\n <metadata>\n  <rdf:RDF xmlns:dc=\"http://purl.org/dc/elements/1.1/\" xmlns:cc=\"http://creativecommons.org/ns#\" xmlns:rdf=\"http://www.w3.org/1999/02/22-rdf-syntax-ns#\">\n   <cc:Work>\n    <dc:type rdf:resource=\"http://purl.org/dc/dcmitype/StillImage\"/>\n    <dc:date>2024-11-01T09:40:55.719162</dc:date>\n    <dc:format>image/svg+xml</dc:format>\n    <dc:creator>\n     <cc:Agent>\n      <dc:title>Matplotlib v3.8.0, https://matplotlib.org/</dc:title>\n     </cc:Agent>\n    </dc:creator>\n   </cc:Work>\n  </rdf:RDF>\n </metadata>\n <defs>\n  <style type=\"text/css\">*{stroke-linejoin: round; stroke-linecap: butt}</style>\n </defs>\n <g id=\"figure_1\">\n  <g id=\"patch_1\">\n   <path d=\"M 0 287.037813 \nL 303.730313 287.037813 \nL 303.730313 0 \nL 0 0 \nz\n\" style=\"fill: #ffffff\"/>\n  </g>\n  <g id=\"axes_1\">\n   <g id=\"patch_2\">\n    <path d=\"M 66.023594 244.078125 \nL 287.783594 244.078125 \nL 287.783594 22.318125 \nL 66.023594 22.318125 \nz\n\" style=\"fill: #eaeaf2\"/>\n   </g>\n   <g clip-path=\"url(#pc7fcc7e45d)\">\n    <image xlink:href=\"data:image/png;base64,\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\" id=\"image098d8f4d89\" transform=\"scale(1 -1) translate(0 -221.76)\" x=\"66.023594\" y=\"-22.318125\" width=\"222.48\" height=\"221.76\"/>\n   </g>\n   <g id=\"matplotlib.axis_1\">\n    <g id=\"xtick_1\">\n     <g id=\"text_1\">\n      <!-- −0.5 -->\n      <g style=\"fill: #262626\" transform=\"translate(52.668047 261.936406) scale(0.11 -0.11)\">\n       <defs>\n        <path id=\"DejaVuSans-2212\" d=\"M 678 2272 \nL 4684 2272 \nL 4684 1741 \nL 678 1741 \nL 678 2272 \nz\n\" transform=\"scale(0.015625)\"/>\n        <path id=\"DejaVuSans-30\" d=\"M 2034 4250 \nQ 1547 4250 1301 3770 \nQ 1056 3291 1056 2328 \nQ 1056 1369 1301 889 \nQ 1547 409 2034 409 \nQ 2525 409 2770 889 \nQ 3016 1369 3016 2328 \nQ 3016 3291 2770 3770 \nQ 2525 4250 2034 4250 \nz\nM 2034 4750 \nQ 2819 4750 3233 4129 \nQ 3647 3509 3647 2328 \nQ 3647 1150 3233 529 \nQ 2819 -91 2034 -91 \nQ 1250 -91 836 529 \nQ 422 1150 422 2328 \nQ 422 3509 836 4129 \nQ 1250 4750 2034 4750 \nz\n\" transform=\"scale(0.015625)\"/>\n        <path id=\"DejaVuSans-2e\" d=\"M 684 794 \nL 1344 794 \nL 1344 0 \nL 684 0 \nL 684 794 \nz\n\" transform=\"scale(0.015625)\"/>\n        <path id=\"DejaVuSans-35\" d=\"M 691 4666 \nL 3169 4666 \nL 3169 4134 \nL 1269 4134 \nL 1269 2991 \nQ 1406 3038 1543 3061 \nQ 1681 3084 1819 3084 \nQ 2600 3084 3056 2656 \nQ 3513 2228 3513 1497 \nQ 3513 744 3044 326 \nQ 2575 -91 1722 -91 \nQ 1428 -91 1123 -41 \nQ 819 9 494 109 \nL 494 744 \nQ 775 591 1075 516 \nQ 1375 441 1709 441 \nQ 2250 441 2565 725 \nQ 2881 1009 2881 1497 \nQ 2881 1984 2565 2268 \nQ 2250 2553 1709 2553 \nQ 1456 2553 1204 2497 \nQ 953 2441 691 2322 \nL 691 4666 \nz\n\" transform=\"scale(0.015625)\"/>\n       </defs>\n       <use xlink:href=\"#DejaVuSans-2212\"/>\n       <use xlink:href=\"#DejaVuSans-30\" x=\"83.789062\"/>\n       <use xlink:href=\"#DejaVuSans-2e\" x=\"147.412109\"/>\n       <use xlink:href=\"#DejaVuSans-35\" x=\"179.199219\"/>\n      </g>\n     </g>\n    </g>\n    <g id=\"xtick_2\">\n     <g id=\"text_2\">\n      <!-- 0.0 -->\n      <g style=\"fill: #262626\" transform=\"translate(112.716875 261.936406) scale(0.11 -0.11)\">\n       <use xlink:href=\"#DejaVuSans-30\"/>\n       <use xlink:href=\"#DejaVuSans-2e\" x=\"63.623047\"/>\n       <use xlink:href=\"#DejaVuSans-30\" x=\"95.410156\"/>\n      </g>\n     </g>\n    </g>\n    <g id=\"xtick_3\">\n     <g id=\"text_3\">\n      <!-- 0.5 -->\n      <g style=\"fill: #262626\" transform=\"translate(168.156875 261.936406) scale(0.11 -0.11)\">\n       <use xlink:href=\"#DejaVuSans-30\"/>\n       <use xlink:href=\"#DejaVuSans-2e\" x=\"63.623047\"/>\n       <use xlink:href=\"#DejaVuSans-35\" x=\"95.410156\"/>\n      </g>\n     </g>\n    </g>\n    <g id=\"xtick_4\">\n     <g id=\"text_4\">\n      <!-- 1.0 -->\n      <g style=\"fill: #262626\" transform=\"translate(223.596875 261.936406) scale(0.11 -0.11)\">\n       <defs>\n        <path id=\"DejaVuSans-31\" d=\"M 794 531 \nL 1825 531 \nL 1825 4091 \nL 703 3866 \nL 703 4441 \nL 1819 4666 \nL 2450 4666 \nL 2450 531 \nL 3481 531 \nL 3481 0 \nL 794 0 \nL 794 531 \nz\n\" transform=\"scale(0.015625)\"/>\n       </defs>\n       <use xlink:href=\"#DejaVuSans-31\"/>\n       <use xlink:href=\"#DejaVuSans-2e\" x=\"63.623047\"/>\n       <use xlink:href=\"#DejaVuSans-30\" x=\"95.410156\"/>\n      </g>\n     </g>\n    </g>\n    <g id=\"xtick_5\">\n     <g id=\"text_5\">\n      <!-- 1.5 -->\n      <g style=\"fill: #262626\" transform=\"translate(279.036875 261.936406) scale(0.11 -0.11)\">\n       <use xlink:href=\"#DejaVuSans-31\"/>\n       <use xlink:href=\"#DejaVuSans-2e\" x=\"63.623047\"/>\n       <use xlink:href=\"#DejaVuSans-35\" x=\"95.410156\"/>\n      </g>\n     </g>\n    </g>\n    <g id=\"text_6\">\n     <!-- $x_1$ -->\n     <g style=\"fill: #262626\" transform=\"translate(170.483594 277.342188) scale(0.12 -0.12)\">\n      <defs>\n       <path id=\"DejaVuSans-Oblique-78\" d=\"M 3841 3500 \nL 2234 1784 \nL 3219 0 \nL 2559 0 \nL 1819 1388 \nL 531 0 \nL -166 0 \nL 1556 1844 \nL 641 3500 \nL 1300 3500 \nL 1972 2234 \nL 3144 3500 \nL 3841 3500 \nz\n\" transform=\"scale(0.015625)\"/>\n      </defs>\n      <use xlink:href=\"#DejaVuSans-Oblique-78\" transform=\"translate(0 0.3125)\"/>\n      <use xlink:href=\"#DejaVuSans-31\" transform=\"translate(59.179688 -16.09375) scale(0.7)\"/>\n     </g>\n    </g>\n   </g>\n   <g id=\"matplotlib.axis_2\">\n    <g id=\"ytick_1\">\n     <g id=\"text_7\">\n      <!-- −0.50 -->\n      <g style=\"fill: #262626\" transform=\"translate(22.81375 248.257266) scale(0.11 -0.11)\">\n       <use xlink:href=\"#DejaVuSans-2212\"/>\n       <use xlink:href=\"#DejaVuSans-30\" x=\"83.789062\"/>\n       <use xlink:href=\"#DejaVuSans-2e\" x=\"147.412109\"/>\n       <use xlink:href=\"#DejaVuSans-35\" x=\"179.199219\"/>\n       <use xlink:href=\"#DejaVuSans-30\" x=\"242.822266\"/>\n      </g>\n     </g>\n    </g>\n    <g id=\"ytick_2\">\n     <g id=\"text_8\">\n      <!-- −0.25 -->\n      <g style=\"fill: #262626\" transform=\"translate(22.81375 220.537266) scale(0.11 -0.11)\">\n       <defs>\n        <path id=\"DejaVuSans-32\" d=\"M 1228 531 \nL 3431 531 \nL 3431 0 \nL 469 0 \nL 469 531 \nQ 828 903 1448 1529 \nQ 2069 2156 2228 2338 \nQ 2531 2678 2651 2914 \nQ 2772 3150 2772 3378 \nQ 2772 3750 2511 3984 \nQ 2250 4219 1831 4219 \nQ 1534 4219 1204 4116 \nQ 875 4013 500 3803 \nL 500 4441 \nQ 881 4594 1212 4672 \nQ 1544 4750 1819 4750 \nQ 2544 4750 2975 4387 \nQ 3406 4025 3406 3419 \nQ 3406 3131 3298 2873 \nQ 3191 2616 2906 2266 \nQ 2828 2175 2409 1742 \nQ 1991 1309 1228 531 \nz\n\" transform=\"scale(0.015625)\"/>\n       </defs>\n       <use xlink:href=\"#DejaVuSans-2212\"/>\n       <use xlink:href=\"#DejaVuSans-30\" x=\"83.789062\"/>\n       <use xlink:href=\"#DejaVuSans-2e\" x=\"147.412109\"/>\n       <use xlink:href=\"#DejaVuSans-32\" x=\"179.199219\"/>\n       <use xlink:href=\"#DejaVuSans-35\" x=\"242.822266\"/>\n      </g>\n     </g>\n    </g>\n    <g id=\"ytick_3\">\n     <g id=\"text_9\">\n      <!-- 0.00 -->\n      <g style=\"fill: #262626\" transform=\"translate(32.031406 192.817266) scale(0.11 -0.11)\">\n       <use xlink:href=\"#DejaVuSans-30\"/>\n       <use xlink:href=\"#DejaVuSans-2e\" x=\"63.623047\"/>\n       <use xlink:href=\"#DejaVuSans-30\" x=\"95.410156\"/>\n       <use xlink:href=\"#DejaVuSans-30\" x=\"159.033203\"/>\n      </g>\n     </g>\n    </g>\n    <g id=\"ytick_4\">\n     <g id=\"text_10\">\n      <!-- 0.25 -->\n      <g style=\"fill: #262626\" transform=\"translate(32.031406 165.097266) scale(0.11 -0.11)\">\n       <use xlink:href=\"#DejaVuSans-30\"/>\n       <use xlink:href=\"#DejaVuSans-2e\" x=\"63.623047\"/>\n       <use xlink:href=\"#DejaVuSans-32\" x=\"95.410156\"/>\n       <use xlink:href=\"#DejaVuSans-35\" x=\"159.033203\"/>\n      </g>\n     </g>\n    </g>\n    <g id=\"ytick_5\">\n     <g id=\"text_11\">\n      <!-- 0.50 -->\n      <g style=\"fill: #262626\" transform=\"translate(32.031406 137.377266) scale(0.11 -0.11)\">\n       <use xlink:href=\"#DejaVuSans-30\"/>\n       <use xlink:href=\"#DejaVuSans-2e\" x=\"63.623047\"/>\n       <use xlink:href=\"#DejaVuSans-35\" x=\"95.410156\"/>\n       <use xlink:href=\"#DejaVuSans-30\" x=\"159.033203\"/>\n      </g>\n     </g>\n    </g>\n    <g id=\"ytick_6\">\n     <g id=\"text_12\">\n      <!-- 0.75 -->\n      <g style=\"fill: #262626\" transform=\"translate(32.031406 109.657266) scale(0.11 -0.11)\">\n       <defs>\n        <path id=\"DejaVuSans-37\" d=\"M 525 4666 \nL 3525 4666 \nL 3525 4397 \nL 1831 0 \nL 1172 0 \nL 2766 4134 \nL 525 4134 \nL 525 4666 \nz\n\" transform=\"scale(0.015625)\"/>\n       </defs>\n       <use xlink:href=\"#DejaVuSans-30\"/>\n       <use xlink:href=\"#DejaVuSans-2e\" x=\"63.623047\"/>\n       <use xlink:href=\"#DejaVuSans-37\" x=\"95.410156\"/>\n       <use xlink:href=\"#DejaVuSans-35\" x=\"159.033203\"/>\n      </g>\n     </g>\n    </g>\n    <g id=\"ytick_7\">\n     <g id=\"text_13\">\n      <!-- 1.00 -->\n      <g style=\"fill: #262626\" transform=\"translate(32.031406 81.937266) scale(0.11 -0.11)\">\n       <use xlink:href=\"#DejaVuSans-31\"/>\n       <use xlink:href=\"#DejaVuSans-2e\" x=\"63.623047\"/>\n       <use xlink:href=\"#DejaVuSans-30\" x=\"95.410156\"/>\n       <use xlink:href=\"#DejaVuSans-30\" x=\"159.033203\"/>\n      </g>\n     </g>\n    </g>\n    <g id=\"ytick_8\">\n     <g id=\"text_14\">\n      <!-- 1.25 -->\n      <g style=\"fill: #262626\" transform=\"translate(32.031406 54.217266) scale(0.11 -0.11)\">\n       <use xlink:href=\"#DejaVuSans-31\"/>\n       <use xlink:href=\"#DejaVuSans-2e\" x=\"63.623047\"/>\n       <use xlink:href=\"#DejaVuSans-32\" x=\"95.410156\"/>\n       <use xlink:href=\"#DejaVuSans-35\" x=\"159.033203\"/>\n      </g>\n     </g>\n    </g>\n    <g id=\"ytick_9\">\n     <g id=\"text_15\">\n      <!-- 1.50 -->\n      <g style=\"fill: #262626\" transform=\"translate(32.031406 26.497266) scale(0.11 -0.11)\">\n       <use xlink:href=\"#DejaVuSans-31\"/>\n       <use xlink:href=\"#DejaVuSans-2e\" x=\"63.623047\"/>\n       <use xlink:href=\"#DejaVuSans-35\" x=\"95.410156\"/>\n       <use xlink:href=\"#DejaVuSans-30\" x=\"159.033203\"/>\n      </g>\n     </g>\n    </g>\n    <g id=\"text_16\">\n     <!-- $x_2$ -->\n     <g style=\"fill: #262626\" transform=\"translate(16.318125 139.618125) rotate(-90) scale(0.12 -0.12)\">\n      <use xlink:href=\"#DejaVuSans-Oblique-78\" transform=\"translate(0 0.3125)\"/>\n      <use xlink:href=\"#DejaVuSans-32\" transform=\"translate(59.179688 -16.09375) scale(0.7)\"/>\n     </g>\n    </g>\n   </g>\n   <g id=\"PathCollection_1\">\n    <defs>\n     <path id=\"m5184c45358\" d=\"M 0 3 \nC 0.795609 3 1.55874 2.683901 2.12132 2.12132 \nC 2.683901 1.55874 3 0.795609 3 0 \nC 3 -0.795609 2.683901 -1.55874 2.12132 -2.12132 \nC 1.55874 -2.683901 0.795609 -3 0 -3 \nC -0.795609 -3 -1.55874 -2.683901 -2.12132 -2.12132 \nC -2.683901 -1.55874 -3 -0.795609 -3 0 \nC -3 0.795609 -2.683901 1.55874 -2.12132 2.12132 \nC -1.55874 2.683901 -0.795609 3 0 3 \nz\n\" style=\"stroke: #333333\"/>\n    </defs>\n    <g clip-path=\"url(#pc7fcc7e45d)\">\n     <use xlink:href=\"#m5184c45358\" x=\"112.953709\" y=\"190.635671\" style=\"fill: #4c72b0; stroke: #333333\"/>\n     <use xlink:href=\"#m5184c45358\" x=\"124.827509\" y=\"186.035556\" style=\"fill: #4c72b0; stroke: #333333\"/>\n     <use xlink:href=\"#m5184c45358\" x=\"227.828727\" y=\"74.729436\" style=\"fill: #4c72b0; stroke: #333333\"/>\n     <use xlink:href=\"#m5184c45358\" x=\"122.852686\" y=\"216.823105\" style=\"fill: #4c72b0; stroke: #333333\"/>\n     <use xlink:href=\"#m5184c45358\" x=\"225.666122\" y=\"72.599433\" style=\"fill: #4c72b0; stroke: #333333\"/>\n     <use xlink:href=\"#m5184c45358\" x=\"124.944268\" y=\"189.631388\" style=\"fill: #4c72b0; stroke: #333333\"/>\n     <use xlink:href=\"#m5184c45358\" x=\"222.50111\" y=\"77.207189\" style=\"fill: #4c72b0; stroke: #333333\"/>\n     <use xlink:href=\"#m5184c45358\" x=\"234.581124\" y=\"40.34119\" style=\"fill: #4c72b0; stroke: #333333\"/>\n     <use xlink:href=\"#m5184c45358\" x=\"130.234891\" y=\"173.197606\" style=\"fill: #4c72b0; stroke: #333333\"/>\n     <use xlink:href=\"#m5184c45358\" x=\"139.00106\" y=\"201.521062\" style=\"fill: #4c72b0; stroke: #333333\"/>\n     <use xlink:href=\"#m5184c45358\" x=\"228.873545\" y=\"80.307328\" style=\"fill: #4c72b0; stroke: #333333\"/>\n     <use xlink:href=\"#m5184c45358\" x=\"134.676463\" y=\"175.86471\" style=\"fill: #4c72b0; stroke: #333333\"/>\n     <use xlink:href=\"#m5184c45358\" x=\"235.425472\" y=\"52.934701\" style=\"fill: #4c72b0; stroke: #333333\"/>\n     <use xlink:href=\"#m5184c45358\" x=\"231.916179\" y=\"89.959467\" style=\"fill: #4c72b0; stroke: #333333\"/>\n     <use xlink:href=\"#m5184c45358\" x=\"149.275468\" y=\"175.857087\" style=\"fill: #4c72b0; stroke: #333333\"/>\n     <use xlink:href=\"#m5184c45358\" x=\"110.599832\" y=\"168.367578\" style=\"fill: #4c72b0; stroke: #333333\"/>\n     <use xlink:href=\"#m5184c45358\" x=\"98.351812\" y=\"195.290149\" style=\"fill: #4c72b0; stroke: #333333\"/>\n     <use xlink:href=\"#m5184c45358\" x=\"229.094509\" y=\"87.27634\" style=\"fill: #4c72b0; stroke: #333333\"/>\n     <use xlink:href=\"#m5184c45358\" x=\"242.426215\" y=\"72.303959\" style=\"fill: #4c72b0; stroke: #333333\"/>\n     <use xlink:href=\"#m5184c45358\" x=\"123.910428\" y=\"159.86461\" style=\"fill: #4c72b0; stroke: #333333\"/>\n     <use xlink:href=\"#m5184c45358\" x=\"211.305923\" y=\"81.693881\" style=\"fill: #4c72b0; stroke: #333333\"/>\n     <use xlink:href=\"#m5184c45358\" x=\"216.412246\" y=\"98.218443\" style=\"fill: #4c72b0; stroke: #333333\"/>\n     <use xlink:href=\"#m5184c45358\" x=\"215.053416\" y=\"80.120353\" style=\"fill: #4c72b0; stroke: #333333\"/>\n     <use xlink:href=\"#m5184c45358\" x=\"122.727447\" y=\"186.35329\" style=\"fill: #4c72b0; stroke: #333333\"/>\n     <use xlink:href=\"#m5184c45358\" x=\"109.986758\" y=\"180.41218\" style=\"fill: #4c72b0; stroke: #333333\"/>\n     <use xlink:href=\"#m5184c45358\" x=\"219.069756\" y=\"103.426802\" style=\"fill: #4c72b0; stroke: #333333\"/>\n     <use xlink:href=\"#m5184c45358\" x=\"118.252092\" y=\"178.187531\" style=\"fill: #4c72b0; stroke: #333333\"/>\n     <use xlink:href=\"#m5184c45358\" x=\"108.0817\" y=\"187.954349\" style=\"fill: #4c72b0; stroke: #333333\"/>\n     <use xlink:href=\"#m5184c45358\" x=\"120.2339\" y=\"196.547776\" style=\"fill: #4c72b0; stroke: #333333\"/>\n     <use xlink:href=\"#m5184c45358\" x=\"250.51766\" y=\"87.832227\" style=\"fill: #4c72b0; stroke: #333333\"/>\n     <use xlink:href=\"#m5184c45358\" x=\"223.337586\" y=\"73.970211\" style=\"fill: #4c72b0; stroke: #333333\"/>\n     <use xlink:href=\"#m5184c45358\" x=\"232.813042\" y=\"84.618017\" style=\"fill: #4c72b0; stroke: #333333\"/>\n     <use xlink:href=\"#m5184c45358\" x=\"225.184428\" y=\"73.743537\" style=\"fill: #4c72b0; stroke: #333333\"/>\n     <use xlink:href=\"#m5184c45358\" x=\"226.957077\" y=\"77.01734\" style=\"fill: #4c72b0; stroke: #333333\"/>\n     <use xlink:href=\"#m5184c45358\" x=\"208.441631\" y=\"94.389316\" style=\"fill: #4c72b0; stroke: #333333\"/>\n     <use xlink:href=\"#m5184c45358\" x=\"114.346784\" y=\"179.081344\" style=\"fill: #4c72b0; stroke: #333333\"/>\n     <use xlink:href=\"#m5184c45358\" x=\"105.750873\" y=\"189.816123\" style=\"fill: #4c72b0; stroke: #333333\"/>\n     <use xlink:href=\"#m5184c45358\" x=\"114.593494\" y=\"175.447604\" style=\"fill: #4c72b0; stroke: #333333\"/>\n     <use xlink:href=\"#m5184c45358\" x=\"225.741557\" y=\"77.23566\" style=\"fill: #4c72b0; stroke: #333333\"/>\n     <use xlink:href=\"#m5184c45358\" x=\"122.803145\" y=\"199.00254\" style=\"fill: #4c72b0; stroke: #333333\"/>\n     <use xlink:href=\"#m5184c45358\" x=\"242.473165\" y=\"95.909245\" style=\"fill: #4c72b0; stroke: #333333\"/>\n     <use xlink:href=\"#m5184c45358\" x=\"119.409918\" y=\"206.501252\" style=\"fill: #4c72b0; stroke: #333333\"/>\n     <use xlink:href=\"#m5184c45358\" x=\"127.48838\" y=\"190.489819\" style=\"fill: #4c72b0; stroke: #333333\"/>\n     <use xlink:href=\"#m5184c45358\" x=\"128.205047\" y=\"188.005869\" style=\"fill: #4c72b0; stroke: #333333\"/>\n     <use xlink:href=\"#m5184c45358\" x=\"236.040767\" y=\"88.561955\" style=\"fill: #4c72b0; stroke: #333333\"/>\n     <use xlink:href=\"#m5184c45358\" x=\"219.91953\" y=\"85.054215\" style=\"fill: #4c72b0; stroke: #333333\"/>\n     <use xlink:href=\"#m5184c45358\" x=\"126.152735\" y=\"199.142499\" style=\"fill: #4c72b0; stroke: #333333\"/>\n     <use xlink:href=\"#m5184c45358\" x=\"125.690064\" y=\"188.377514\" style=\"fill: #4c72b0; stroke: #333333\"/>\n     <use xlink:href=\"#m5184c45358\" x=\"115.155274\" y=\"205.325923\" style=\"fill: #4c72b0; stroke: #333333\"/>\n     <use xlink:href=\"#m5184c45358\" x=\"237.688037\" y=\"94.554553\" style=\"fill: #4c72b0; stroke: #333333\"/>\n     <use xlink:href=\"#m5184c45358\" x=\"233.556841\" y=\"104.08746\" style=\"fill: #4c72b0; stroke: #333333\"/>\n     <use xlink:href=\"#m5184c45358\" x=\"141.775591\" y=\"170.502131\" style=\"fill: #4c72b0; stroke: #333333\"/>\n     <use xlink:href=\"#m5184c45358\" x=\"230.163184\" y=\"73.167936\" style=\"fill: #4c72b0; stroke: #333333\"/>\n     <use xlink:href=\"#m5184c45358\" x=\"231.718392\" y=\"59.807653\" style=\"fill: #4c72b0; stroke: #333333\"/>\n     <use xlink:href=\"#m5184c45358\" x=\"245.53129\" y=\"38.243148\" style=\"fill: #4c72b0; stroke: #333333\"/>\n     <use xlink:href=\"#m5184c45358\" x=\"109.822862\" y=\"186.682651\" style=\"fill: #4c72b0; stroke: #333333\"/>\n     <use xlink:href=\"#m5184c45358\" x=\"245.470633\" y=\"95.777073\" style=\"fill: #4c72b0; stroke: #333333\"/>\n     <use xlink:href=\"#m5184c45358\" x=\"221.516817\" y=\"70.091873\" style=\"fill: #4c72b0; stroke: #333333\"/>\n     <use xlink:href=\"#m5184c45358\" x=\"249.213368\" y=\"74.146935\" style=\"fill: #4c72b0; stroke: #333333\"/>\n     <use xlink:href=\"#m5184c45358\" x=\"115.322752\" y=\"193.658834\" style=\"fill: #4c72b0; stroke: #333333\"/>\n     <use xlink:href=\"#m5184c45358\" x=\"128.406997\" y=\"178.524968\" style=\"fill: #4c72b0; stroke: #333333\"/>\n     <use xlink:href=\"#m5184c45358\" x=\"232.772542\" y=\"84.976348\" style=\"fill: #4c72b0; stroke: #333333\"/>\n     <use xlink:href=\"#m5184c45358\" x=\"112.747556\" y=\"197.96232\" style=\"fill: #4c72b0; stroke: #333333\"/>\n     <use xlink:href=\"#m5184c45358\" x=\"216.934539\" y=\"86.802954\" style=\"fill: #4c72b0; stroke: #333333\"/>\n     <use xlink:href=\"#m5184c45358\" x=\"244.15241\" y=\"60.047664\" style=\"fill: #4c72b0; stroke: #333333\"/>\n     <use xlink:href=\"#m5184c45358\" x=\"109.755413\" y=\"182.444561\" style=\"fill: #4c72b0; stroke: #333333\"/>\n     <use xlink:href=\"#m5184c45358\" x=\"221.018587\" y=\"74.807646\" style=\"fill: #4c72b0; stroke: #333333\"/>\n     <use xlink:href=\"#m5184c45358\" x=\"225.568429\" y=\"68.683662\" style=\"fill: #4c72b0; stroke: #333333\"/>\n     <use xlink:href=\"#m5184c45358\" x=\"113.545717\" y=\"192.829023\" style=\"fill: #4c72b0; stroke: #333333\"/>\n     <use xlink:href=\"#m5184c45358\" x=\"242.274499\" y=\"88.928244\" style=\"fill: #4c72b0; stroke: #333333\"/>\n     <use xlink:href=\"#m5184c45358\" x=\"115.047838\" y=\"197.924457\" style=\"fill: #4c72b0; stroke: #333333\"/>\n     <use xlink:href=\"#m5184c45358\" x=\"229.213893\" y=\"72.799182\" style=\"fill: #4c72b0; stroke: #333333\"/>\n     <use xlink:href=\"#m5184c45358\" x=\"212.718291\" y=\"52.980977\" style=\"fill: #4c72b0; stroke: #333333\"/>\n     <use xlink:href=\"#m5184c45358\" x=\"226.066467\" y=\"70.489429\" style=\"fill: #4c72b0; stroke: #333333\"/>\n     <use xlink:href=\"#m5184c45358\" x=\"99.749277\" y=\"192.255511\" style=\"fill: #4c72b0; stroke: #333333\"/>\n     <use xlink:href=\"#m5184c45358\" x=\"117.995252\" y=\"196.693779\" style=\"fill: #4c72b0; stroke: #333333\"/>\n     <use xlink:href=\"#m5184c45358\" x=\"153.645539\" y=\"162.532523\" style=\"fill: #4c72b0; stroke: #333333\"/>\n     <use xlink:href=\"#m5184c45358\" x=\"127.938869\" y=\"190.112011\" style=\"fill: #4c72b0; stroke: #333333\"/>\n     <use xlink:href=\"#m5184c45358\" x=\"115.717499\" y=\"196.525961\" style=\"fill: #4c72b0; stroke: #333333\"/>\n     <use xlink:href=\"#m5184c45358\" x=\"119.7189\" y=\"169.292753\" style=\"fill: #4c72b0; stroke: #333333\"/>\n     <use xlink:href=\"#m5184c45358\" x=\"227.891843\" y=\"74.036473\" style=\"fill: #4c72b0; stroke: #333333\"/>\n     <use xlink:href=\"#m5184c45358\" x=\"227.825574\" y=\"74.582796\" style=\"fill: #4c72b0; stroke: #333333\"/>\n     <use xlink:href=\"#m5184c45358\" x=\"123.640082\" y=\"178.553593\" style=\"fill: #4c72b0; stroke: #333333\"/>\n     <use xlink:href=\"#m5184c45358\" x=\"139.559045\" y=\"189.696039\" style=\"fill: #4c72b0; stroke: #333333\"/>\n     <use xlink:href=\"#m5184c45358\" x=\"223.755828\" y=\"80.090792\" style=\"fill: #4c72b0; stroke: #333333\"/>\n     <use xlink:href=\"#m5184c45358\" x=\"254.126538\" y=\"89.390719\" style=\"fill: #4c72b0; stroke: #333333\"/>\n     <use xlink:href=\"#m5184c45358\" x=\"116.031648\" y=\"194.275806\" style=\"fill: #4c72b0; stroke: #333333\"/>\n     <use xlink:href=\"#m5184c45358\" x=\"248.332552\" y=\"65.969255\" style=\"fill: #4c72b0; stroke: #333333\"/>\n     <use xlink:href=\"#m5184c45358\" x=\"197.991922\" y=\"73.898107\" style=\"fill: #4c72b0; stroke: #333333\"/>\n     <use xlink:href=\"#m5184c45358\" x=\"225.162645\" y=\"109.549497\" style=\"fill: #4c72b0; stroke: #333333\"/>\n     <use xlink:href=\"#m5184c45358\" x=\"112.200209\" y=\"188.658356\" style=\"fill: #4c72b0; stroke: #333333\"/>\n     <use xlink:href=\"#m5184c45358\" x=\"109.070773\" y=\"197.031061\" style=\"fill: #4c72b0; stroke: #333333\"/>\n     <use xlink:href=\"#m5184c45358\" x=\"238.849166\" y=\"83.771376\" style=\"fill: #4c72b0; stroke: #333333\"/>\n     <use xlink:href=\"#m5184c45358\" x=\"230.876285\" y=\"96.609994\" style=\"fill: #4c72b0; stroke: #333333\"/>\n     <use xlink:href=\"#m5184c45358\" x=\"234.836746\" y=\"74.278955\" style=\"fill: #4c72b0; stroke: #333333\"/>\n     <use xlink:href=\"#m5184c45358\" x=\"132.500242\" y=\"178.339451\" style=\"fill: #4c72b0; stroke: #333333\"/>\n     <use xlink:href=\"#m5184c45358\" x=\"142.052974\" y=\"175.234188\" style=\"fill: #4c72b0; stroke: #333333\"/>\n     <use xlink:href=\"#m5184c45358\" x=\"233.15417\" y=\"73.071458\" style=\"fill: #4c72b0; stroke: #333333\"/>\n     <use xlink:href=\"#m5184c45358\" x=\"253.604773\" y=\"69.507271\" style=\"fill: #4c72b0; stroke: #333333\"/>\n    </g>\n   </g>\n   <g id=\"PathCollection_2\">\n    <defs>\n     <path id=\"me708997e64\" d=\"M 0 3 \nC 0.795609 3 1.55874 2.683901 2.12132 2.12132 \nC 2.683901 1.55874 3 0.795609 3 0 \nC 3 -0.795609 2.683901 -1.55874 2.12132 -2.12132 \nC 1.55874 -2.683901 0.795609 -3 0 -3 \nC -0.795609 -3 -1.55874 -2.683901 -2.12132 -2.12132 \nC -2.683901 -1.55874 -3 -0.795609 -3 0 \nC -3 0.795609 -2.683901 1.55874 -2.12132 2.12132 \nC -1.55874 2.683901 -0.795609 3 0 3 \nz\n\" style=\"stroke: #333333\"/>\n    </defs>\n    <g clip-path=\"url(#pc7fcc7e45d)\">\n     <use xlink:href=\"#me708997e64\" x=\"232.367835\" y=\"189.450812\" style=\"fill: #dd8452; stroke: #333333\"/>\n     <use xlink:href=\"#me708997e64\" x=\"115.428789\" y=\"84.060538\" style=\"fill: #dd8452; stroke: #333333\"/>\n     <use xlink:href=\"#me708997e64\" x=\"231.589756\" y=\"182.656196\" style=\"fill: #dd8452; stroke: #333333\"/>\n     <use xlink:href=\"#me708997e64\" x=\"223.660606\" y=\"193.350247\" style=\"fill: #dd8452; stroke: #333333\"/>\n     <use xlink:href=\"#me708997e64\" x=\"123.093462\" y=\"67.474407\" style=\"fill: #dd8452; stroke: #333333\"/>\n     <use xlink:href=\"#me708997e64\" x=\"129.75109\" y=\"69.189935\" style=\"fill: #dd8452; stroke: #333333\"/>\n     <use xlink:href=\"#me708997e64\" x=\"215.50541\" y=\"182.402202\" style=\"fill: #dd8452; stroke: #333333\"/>\n     <use xlink:href=\"#me708997e64\" x=\"239.513975\" y=\"185.225842\" style=\"fill: #dd8452; stroke: #333333\"/>\n     <use xlink:href=\"#me708997e64\" x=\"229.169163\" y=\"189.243715\" style=\"fill: #dd8452; stroke: #333333\"/>\n     <use xlink:href=\"#me708997e64\" x=\"230.072106\" y=\"189.95327\" style=\"fill: #dd8452; stroke: #333333\"/>\n     <use xlink:href=\"#me708997e64\" x=\"108.907074\" y=\"81.088712\" style=\"fill: #dd8452; stroke: #333333\"/>\n     <use xlink:href=\"#me708997e64\" x=\"111.053572\" y=\"68.07532\" style=\"fill: #dd8452; stroke: #333333\"/>\n     <use xlink:href=\"#me708997e64\" x=\"109.704402\" y=\"82.175886\" style=\"fill: #dd8452; stroke: #333333\"/>\n     <use xlink:href=\"#me708997e64\" x=\"114.470747\" y=\"50.582214\" style=\"fill: #dd8452; stroke: #333333\"/>\n     <use xlink:href=\"#me708997e64\" x=\"114.931833\" y=\"71.673834\" style=\"fill: #dd8452; stroke: #333333\"/>\n     <use xlink:href=\"#me708997e64\" x=\"128.296434\" y=\"55.369298\" style=\"fill: #dd8452; stroke: #333333\"/>\n     <use xlink:href=\"#me708997e64\" x=\"258.603846\" y=\"206.38629\" style=\"fill: #dd8452; stroke: #333333\"/>\n     <use xlink:href=\"#me708997e64\" x=\"233.556722\" y=\"178.392649\" style=\"fill: #dd8452; stroke: #333333\"/>\n     <use xlink:href=\"#me708997e64\" x=\"116.997537\" y=\"74.719152\" style=\"fill: #dd8452; stroke: #333333\"/>\n     <use xlink:href=\"#me708997e64\" x=\"110.296389\" y=\"83.444834\" style=\"fill: #dd8452; stroke: #333333\"/>\n     <use xlink:href=\"#me708997e64\" x=\"228.396206\" y=\"188.4434\" style=\"fill: #dd8452; stroke: #333333\"/>\n     <use xlink:href=\"#me708997e64\" x=\"127.687906\" y=\"84.425207\" style=\"fill: #dd8452; stroke: #333333\"/>\n     <use xlink:href=\"#me708997e64\" x=\"234.542224\" y=\"201.925723\" style=\"fill: #dd8452; stroke: #333333\"/>\n     <use xlink:href=\"#me708997e64\" x=\"219.333288\" y=\"175.857083\" style=\"fill: #dd8452; stroke: #333333\"/>\n     <use xlink:href=\"#me708997e64\" x=\"112.525612\" y=\"69.790174\" style=\"fill: #dd8452; stroke: #333333\"/>\n     <use xlink:href=\"#me708997e64\" x=\"236.983826\" y=\"180.236952\" style=\"fill: #dd8452; stroke: #333333\"/>\n     <use xlink:href=\"#me708997e64\" x=\"243.241457\" y=\"180.477694\" style=\"fill: #dd8452; stroke: #333333\"/>\n     <use xlink:href=\"#me708997e64\" x=\"121.692273\" y=\"97.170255\" style=\"fill: #dd8452; stroke: #333333\"/>\n     <use xlink:href=\"#me708997e64\" x=\"239.522011\" y=\"198.272082\" style=\"fill: #dd8452; stroke: #333333\"/>\n     <use xlink:href=\"#me708997e64\" x=\"225.963783\" y=\"206.140282\" style=\"fill: #dd8452; stroke: #333333\"/>\n     <use xlink:href=\"#me708997e64\" x=\"244.959879\" y=\"197.694665\" style=\"fill: #dd8452; stroke: #333333\"/>\n     <use xlink:href=\"#me708997e64\" x=\"239.666986\" y=\"187.187474\" style=\"fill: #dd8452; stroke: #333333\"/>\n     <use xlink:href=\"#me708997e64\" x=\"114.869085\" y=\"77.185194\" style=\"fill: #dd8452; stroke: #333333\"/>\n     <use xlink:href=\"#me708997e64\" x=\"223.83466\" y=\"183.652175\" style=\"fill: #dd8452; stroke: #333333\"/>\n     <use xlink:href=\"#me708997e64\" x=\"124.356733\" y=\"58.919725\" style=\"fill: #dd8452; stroke: #333333\"/>\n     <use xlink:href=\"#me708997e64\" x=\"127.329667\" y=\"63.020019\" style=\"fill: #dd8452; stroke: #333333\"/>\n     <use xlink:href=\"#me708997e64\" x=\"127.883969\" y=\"96.143308\" style=\"fill: #dd8452; stroke: #333333\"/>\n     <use xlink:href=\"#me708997e64\" x=\"124.872581\" y=\"68.984052\" style=\"fill: #dd8452; stroke: #333333\"/>\n     <use xlink:href=\"#me708997e64\" x=\"141.608577\" y=\"72.741697\" style=\"fill: #dd8452; stroke: #333333\"/>\n     <use xlink:href=\"#me708997e64\" x=\"225.98369\" y=\"189.746503\" style=\"fill: #dd8452; stroke: #333333\"/>\n     <use xlink:href=\"#me708997e64\" x=\"131.879638\" y=\"81.460175\" style=\"fill: #dd8452; stroke: #333333\"/>\n     <use xlink:href=\"#me708997e64\" x=\"134.049695\" y=\"100.753351\" style=\"fill: #dd8452; stroke: #333333\"/>\n     <use xlink:href=\"#me708997e64\" x=\"259.376513\" y=\"192.377848\" style=\"fill: #dd8452; stroke: #333333\"/>\n     <use xlink:href=\"#me708997e64\" x=\"245.926255\" y=\"193.771586\" style=\"fill: #dd8452; stroke: #333333\"/>\n     <use xlink:href=\"#me708997e64\" x=\"242.026227\" y=\"176.858224\" style=\"fill: #dd8452; stroke: #333333\"/>\n     <use xlink:href=\"#me708997e64\" x=\"115.249168\" y=\"88.641151\" style=\"fill: #dd8452; stroke: #333333\"/>\n     <use xlink:href=\"#me708997e64\" x=\"124.945909\" y=\"76.007358\" style=\"fill: #dd8452; stroke: #333333\"/>\n     <use xlink:href=\"#me708997e64\" x=\"131.424514\" y=\"75.717158\" style=\"fill: #dd8452; stroke: #333333\"/>\n     <use xlink:href=\"#me708997e64\" x=\"122.252615\" y=\"77.874159\" style=\"fill: #dd8452; stroke: #333333\"/>\n     <use xlink:href=\"#me708997e64\" x=\"120.616128\" y=\"69.145853\" style=\"fill: #dd8452; stroke: #333333\"/>\n     <use xlink:href=\"#me708997e64\" x=\"226.102651\" y=\"189.911472\" style=\"fill: #dd8452; stroke: #333333\"/>\n     <use xlink:href=\"#me708997e64\" x=\"107.173862\" y=\"74.340855\" style=\"fill: #dd8452; stroke: #333333\"/>\n     <use xlink:href=\"#me708997e64\" x=\"223.060175\" y=\"177.194787\" style=\"fill: #dd8452; stroke: #333333\"/>\n     <use xlink:href=\"#me708997e64\" x=\"235.955974\" y=\"199.77263\" style=\"fill: #dd8452; stroke: #333333\"/>\n     <use xlink:href=\"#me708997e64\" x=\"222.848338\" y=\"175.234164\" style=\"fill: #dd8452; stroke: #333333\"/>\n     <use xlink:href=\"#me708997e64\" x=\"116.532551\" y=\"80.211101\" style=\"fill: #dd8452; stroke: #333333\"/>\n     <use xlink:href=\"#me708997e64\" x=\"209.578796\" y=\"184.143667\" style=\"fill: #dd8452; stroke: #333333\"/>\n     <use xlink:href=\"#me708997e64\" x=\"220.878094\" y=\"189.376361\" style=\"fill: #dd8452; stroke: #333333\"/>\n     <use xlink:href=\"#me708997e64\" x=\"131.03662\" y=\"84.908679\" style=\"fill: #dd8452; stroke: #333333\"/>\n     <use xlink:href=\"#me708997e64\" x=\"110.585638\" y=\"69.042251\" style=\"fill: #dd8452; stroke: #333333\"/>\n     <use xlink:href=\"#me708997e64\" x=\"234.975309\" y=\"181.848587\" style=\"fill: #dd8452; stroke: #333333\"/>\n     <use xlink:href=\"#me708997e64\" x=\"136.30236\" y=\"78.089862\" style=\"fill: #dd8452; stroke: #333333\"/>\n     <use xlink:href=\"#me708997e64\" x=\"243.728048\" y=\"195.679763\" style=\"fill: #dd8452; stroke: #333333\"/>\n     <use xlink:href=\"#me708997e64\" x=\"131.812698\" y=\"75.681906\" style=\"fill: #dd8452; stroke: #333333\"/>\n     <use xlink:href=\"#me708997e64\" x=\"109.140787\" y=\"67.49163\" style=\"fill: #dd8452; stroke: #333333\"/>\n     <use xlink:href=\"#me708997e64\" x=\"225.072783\" y=\"180.982357\" style=\"fill: #dd8452; stroke: #333333\"/>\n     <use xlink:href=\"#me708997e64\" x=\"248.677778\" y=\"190.938419\" style=\"fill: #dd8452; stroke: #333333\"/>\n     <use xlink:href=\"#me708997e64\" x=\"243.008768\" y=\"173.900443\" style=\"fill: #dd8452; stroke: #333333\"/>\n     <use xlink:href=\"#me708997e64\" x=\"146.11265\" y=\"89.069689\" style=\"fill: #dd8452; stroke: #333333\"/>\n     <use xlink:href=\"#me708997e64\" x=\"109.445957\" y=\"59.467503\" style=\"fill: #dd8452; stroke: #333333\"/>\n     <use xlink:href=\"#me708997e64\" x=\"116.443359\" y=\"87.678516\" style=\"fill: #dd8452; stroke: #333333\"/>\n     <use xlink:href=\"#me708997e64\" x=\"223.405447\" y=\"197.40909\" style=\"fill: #dd8452; stroke: #333333\"/>\n     <use xlink:href=\"#me708997e64\" x=\"122.577287\" y=\"85.194788\" style=\"fill: #dd8452; stroke: #333333\"/>\n     <use xlink:href=\"#me708997e64\" x=\"218.184076\" y=\"186.354281\" style=\"fill: #dd8452; stroke: #333333\"/>\n     <use xlink:href=\"#me708997e64\" x=\"114.501192\" y=\"69.343778\" style=\"fill: #dd8452; stroke: #333333\"/>\n     <use xlink:href=\"#me708997e64\" x=\"117.592247\" y=\"76.94932\" style=\"fill: #dd8452; stroke: #333333\"/>\n     <use xlink:href=\"#me708997e64\" x=\"113.025965\" y=\"77.10664\" style=\"fill: #dd8452; stroke: #333333\"/>\n     <use xlink:href=\"#me708997e64\" x=\"216.518564\" y=\"196.878278\" style=\"fill: #dd8452; stroke: #333333\"/>\n     <use xlink:href=\"#me708997e64\" x=\"243.570728\" y=\"192.338412\" style=\"fill: #dd8452; stroke: #333333\"/>\n     <use xlink:href=\"#me708997e64\" x=\"130.713084\" y=\"77.752388\" style=\"fill: #dd8452; stroke: #333333\"/>\n     <use xlink:href=\"#me708997e64\" x=\"229.143712\" y=\"189.768786\" style=\"fill: #dd8452; stroke: #333333\"/>\n     <use xlink:href=\"#me708997e64\" x=\"118.294352\" y=\"63.114223\" style=\"fill: #dd8452; stroke: #333333\"/>\n     <use xlink:href=\"#me708997e64\" x=\"228.55872\" y=\"195.20357\" style=\"fill: #dd8452; stroke: #333333\"/>\n     <use xlink:href=\"#me708997e64\" x=\"247.082163\" y=\"185.187105\" style=\"fill: #dd8452; stroke: #333333\"/>\n     <use xlink:href=\"#me708997e64\" x=\"246.827202\" y=\"172.924995\" style=\"fill: #dd8452; stroke: #333333\"/>\n     <use xlink:href=\"#me708997e64\" x=\"115.815193\" y=\"81.087707\" style=\"fill: #dd8452; stroke: #333333\"/>\n     <use xlink:href=\"#me708997e64\" x=\"237.57279\" y=\"190.666962\" style=\"fill: #dd8452; stroke: #333333\"/>\n     <use xlink:href=\"#me708997e64\" x=\"222.268302\" y=\"201.779085\" style=\"fill: #dd8452; stroke: #333333\"/>\n     <use xlink:href=\"#me708997e64\" x=\"237.728577\" y=\"187.565042\" style=\"fill: #dd8452; stroke: #333333\"/>\n     <use xlink:href=\"#me708997e64\" x=\"240.945225\" y=\"201.701051\" style=\"fill: #dd8452; stroke: #333333\"/>\n     <use xlink:href=\"#me708997e64\" x=\"116.522759\" y=\"61.506328\" style=\"fill: #dd8452; stroke: #333333\"/>\n     <use xlink:href=\"#me708997e64\" x=\"220.405229\" y=\"180.875057\" style=\"fill: #dd8452; stroke: #333333\"/>\n     <use xlink:href=\"#me708997e64\" x=\"213.896088\" y=\"172.191435\" style=\"fill: #dd8452; stroke: #333333\"/>\n     <use xlink:href=\"#me708997e64\" x=\"121.932263\" y=\"102.843958\" style=\"fill: #dd8452; stroke: #333333\"/>\n     <use xlink:href=\"#me708997e64\" x=\"132.188709\" y=\"89.193759\" style=\"fill: #dd8452; stroke: #333333\"/>\n     <use xlink:href=\"#me708997e64\" x=\"227.604881\" y=\"182.296816\" style=\"fill: #dd8452; stroke: #333333\"/>\n     <use xlink:href=\"#me708997e64\" x=\"120.350841\" y=\"86.216586\" style=\"fill: #dd8452; stroke: #333333\"/>\n     <use xlink:href=\"#me708997e64\" x=\"250.160565\" y=\"202.088653\" style=\"fill: #dd8452; stroke: #333333\"/>\n     <use xlink:href=\"#me708997e64\" x=\"106.001541\" y=\"97.750397\" style=\"fill: #dd8452; stroke: #333333\"/>\n     <use xlink:href=\"#me708997e64\" x=\"240.383424\" y=\"181.956893\" style=\"fill: #dd8452; stroke: #333333\"/>\n     <use xlink:href=\"#me708997e64\" x=\"235.284212\" y=\"179.467612\" style=\"fill: #dd8452; stroke: #333333\"/>\n    </g>\n   </g>\n   <g id=\"patch_3\">\n    <path d=\"M 66.023594 244.078125 \nL 66.023594 22.318125 \n\" style=\"fill: none; stroke: #ffffff; stroke-width: 1.25; stroke-linejoin: miter; stroke-linecap: square\"/>\n   </g>\n   <g id=\"patch_4\">\n    <path d=\"M 287.783594 244.078125 \nL 287.783594 22.318125 \n\" style=\"fill: none; stroke: #ffffff; stroke-width: 1.25; stroke-linejoin: miter; stroke-linecap: square\"/>\n   </g>\n   <g id=\"patch_5\">\n    <path d=\"M 66.023594 244.078125 \nL 287.783594 244.078125 \n\" style=\"fill: none; stroke: #ffffff; stroke-width: 1.25; stroke-linejoin: miter; stroke-linecap: square\"/>\n   </g>\n   <g id=\"patch_6\">\n    <path d=\"M 66.023594 22.318125 \nL 287.783594 22.318125 \n\" style=\"fill: none; stroke: #ffffff; stroke-width: 1.25; stroke-linejoin: miter; stroke-linecap: square\"/>\n   </g>\n   <g id=\"text_17\">\n    <!-- Dataset samples -->\n    <g style=\"fill: #262626\" transform=\"translate(126.560781 16.318125) scale(0.12 -0.12)\">\n     <defs>\n      <path id=\"DejaVuSans-44\" d=\"M 1259 4147 \nL 1259 519 \nL 2022 519 \nQ 2988 519 3436 956 \nQ 3884 1394 3884 2338 \nQ 3884 3275 3436 3711 \nQ 2988 4147 2022 4147 \nL 1259 4147 \nz\nM 628 4666 \nL 1925 4666 \nQ 3281 4666 3915 4102 \nQ 4550 3538 4550 2338 \nQ 4550 1131 3912 565 \nQ 3275 0 1925 0 \nL 628 0 \nL 628 4666 \nz\n\" transform=\"scale(0.015625)\"/>\n      <path id=\"DejaVuSans-61\" d=\"M 2194 1759 \nQ 1497 1759 1228 1600 \nQ 959 1441 959 1056 \nQ 959 750 1161 570 \nQ 1363 391 1709 391 \nQ 2188 391 2477 730 \nQ 2766 1069 2766 1631 \nL 2766 1759 \nL 2194 1759 \nz\nM 3341 1997 \nL 3341 0 \nL 2766 0 \nL 2766 531 \nQ 2569 213 2275 61 \nQ 1981 -91 1556 -91 \nQ 1019 -91 701 211 \nQ 384 513 384 1019 \nQ 384 1609 779 1909 \nQ 1175 2209 1959 2209 \nL 2766 2209 \nL 2766 2266 \nQ 2766 2663 2505 2880 \nQ 2244 3097 1772 3097 \nQ 1472 3097 1187 3025 \nQ 903 2953 641 2809 \nL 641 3341 \nQ 956 3463 1253 3523 \nQ 1550 3584 1831 3584 \nQ 2591 3584 2966 3190 \nQ 3341 2797 3341 1997 \nz\n\" transform=\"scale(0.015625)\"/>\n      <path id=\"DejaVuSans-74\" d=\"M 1172 4494 \nL 1172 3500 \nL 2356 3500 \nL 2356 3053 \nL 1172 3053 \nL 1172 1153 \nQ 1172 725 1289 603 \nQ 1406 481 1766 481 \nL 2356 481 \nL 2356 0 \nL 1766 0 \nQ 1100 0 847 248 \nQ 594 497 594 1153 \nL 594 3053 \nL 172 3053 \nL 172 3500 \nL 594 3500 \nL 594 4494 \nL 1172 4494 \nz\n\" transform=\"scale(0.015625)\"/>\n      <path id=\"DejaVuSans-73\" d=\"M 2834 3397 \nL 2834 2853 \nQ 2591 2978 2328 3040 \nQ 2066 3103 1784 3103 \nQ 1356 3103 1142 2972 \nQ 928 2841 928 2578 \nQ 928 2378 1081 2264 \nQ 1234 2150 1697 2047 \nL 1894 2003 \nQ 2506 1872 2764 1633 \nQ 3022 1394 3022 966 \nQ 3022 478 2636 193 \nQ 2250 -91 1575 -91 \nQ 1294 -91 989 -36 \nQ 684 19 347 128 \nL 347 722 \nQ 666 556 975 473 \nQ 1284 391 1588 391 \nQ 1994 391 2212 530 \nQ 2431 669 2431 922 \nQ 2431 1156 2273 1281 \nQ 2116 1406 1581 1522 \nL 1381 1569 \nQ 847 1681 609 1914 \nQ 372 2147 372 2553 \nQ 372 3047 722 3315 \nQ 1072 3584 1716 3584 \nQ 2034 3584 2315 3537 \nQ 2597 3491 2834 3397 \nz\n\" transform=\"scale(0.015625)\"/>\n      <path id=\"DejaVuSans-65\" d=\"M 3597 1894 \nL 3597 1613 \nL 953 1613 \nQ 991 1019 1311 708 \nQ 1631 397 2203 397 \nQ 2534 397 2845 478 \nQ 3156 559 3463 722 \nL 3463 178 \nQ 3153 47 2828 -22 \nQ 2503 -91 2169 -91 \nQ 1331 -91 842 396 \nQ 353 884 353 1716 \nQ 353 2575 817 3079 \nQ 1281 3584 2069 3584 \nQ 2775 3584 3186 3129 \nQ 3597 2675 3597 1894 \nz\nM 3022 2063 \nQ 3016 2534 2758 2815 \nQ 2500 3097 2075 3097 \nQ 1594 3097 1305 2825 \nQ 1016 2553 972 2059 \nL 3022 2063 \nz\n\" transform=\"scale(0.015625)\"/>\n      <path id=\"DejaVuSans-20\" transform=\"scale(0.015625)\"/>\n      <path id=\"DejaVuSans-6d\" d=\"M 3328 2828 \nQ 3544 3216 3844 3400 \nQ 4144 3584 4550 3584 \nQ 5097 3584 5394 3201 \nQ 5691 2819 5691 2113 \nL 5691 0 \nL 5113 0 \nL 5113 2094 \nQ 5113 2597 4934 2840 \nQ 4756 3084 4391 3084 \nQ 3944 3084 3684 2787 \nQ 3425 2491 3425 1978 \nL 3425 0 \nL 2847 0 \nL 2847 2094 \nQ 2847 2600 2669 2842 \nQ 2491 3084 2119 3084 \nQ 1678 3084 1418 2786 \nQ 1159 2488 1159 1978 \nL 1159 0 \nL 581 0 \nL 581 3500 \nL 1159 3500 \nL 1159 2956 \nQ 1356 3278 1631 3431 \nQ 1906 3584 2284 3584 \nQ 2666 3584 2933 3390 \nQ 3200 3197 3328 2828 \nz\n\" transform=\"scale(0.015625)\"/>\n      <path id=\"DejaVuSans-70\" d=\"M 1159 525 \nL 1159 -1331 \nL 581 -1331 \nL 581 3500 \nL 1159 3500 \nL 1159 2969 \nQ 1341 3281 1617 3432 \nQ 1894 3584 2278 3584 \nQ 2916 3584 3314 3078 \nQ 3713 2572 3713 1747 \nQ 3713 922 3314 415 \nQ 2916 -91 2278 -91 \nQ 1894 -91 1617 61 \nQ 1341 213 1159 525 \nz\nM 3116 1747 \nQ 3116 2381 2855 2742 \nQ 2594 3103 2138 3103 \nQ 1681 3103 1420 2742 \nQ 1159 2381 1159 1747 \nQ 1159 1113 1420 752 \nQ 1681 391 2138 391 \nQ 2594 391 2855 752 \nQ 3116 1113 3116 1747 \nz\n\" transform=\"scale(0.015625)\"/>\n      <path id=\"DejaVuSans-6c\" d=\"M 603 4863 \nL 1178 4863 \nL 1178 0 \nL 603 0 \nL 603 4863 \nz\n\" transform=\"scale(0.015625)\"/>\n     </defs>\n     <use xlink:href=\"#DejaVuSans-44\"/>\n     <use xlink:href=\"#DejaVuSans-61\" x=\"77.001953\"/>\n     <use xlink:href=\"#DejaVuSans-74\" x=\"138.28125\"/>\n     <use xlink:href=\"#DejaVuSans-61\" x=\"177.490234\"/>\n     <use xlink:href=\"#DejaVuSans-73\" x=\"238.769531\"/>\n     <use xlink:href=\"#DejaVuSans-65\" x=\"290.869141\"/>\n     <use xlink:href=\"#DejaVuSans-74\" x=\"352.392578\"/>\n     <use xlink:href=\"#DejaVuSans-20\" x=\"391.601562\"/>\n     <use xlink:href=\"#DejaVuSans-73\" x=\"423.388672\"/>\n     <use xlink:href=\"#DejaVuSans-61\" x=\"475.488281\"/>\n     <use xlink:href=\"#DejaVuSans-6d\" x=\"536.767578\"/>\n     <use xlink:href=\"#DejaVuSans-70\" x=\"634.179688\"/>\n     <use xlink:href=\"#DejaVuSans-6c\" x=\"697.65625\"/>\n     <use xlink:href=\"#DejaVuSans-65\" x=\"725.439453\"/>\n     <use xlink:href=\"#DejaVuSans-73\" x=\"786.962891\"/>\n    </g>\n   </g>\n   <g id=\"legend_1\">\n    <g id=\"patch_7\">\n     <path d=\"M 205.450312 150.994063 \nL 280.083594 150.994063 \nQ 282.283594 150.994063 282.283594 148.794063 \nL 282.283594 117.602188 \nQ 282.283594 115.402188 280.083594 115.402188 \nL 205.450312 115.402188 \nQ 203.250313 115.402188 203.250313 117.602188 \nL 203.250313 148.794063 \nQ 203.250313 150.994063 205.450312 150.994063 \nz\n\" style=\"fill: #eaeaf2; opacity: 0.8; stroke: #cccccc; stroke-linejoin: miter\"/>\n    </g>\n    <g id=\"PathCollection_3\">\n     <g>\n      <use xlink:href=\"#m5184c45358\" x=\"218.650313\" y=\"125.272969\" style=\"fill: #4c72b0; stroke: #333333\"/>\n     </g>\n    </g>\n    <g id=\"text_18\">\n     <!-- Class 0 -->\n     <g style=\"fill: #262626\" transform=\"translate(238.450313 128.160469) scale(0.11 -0.11)\">\n      <defs>\n       <path id=\"DejaVuSans-43\" d=\"M 4122 4306 \nL 4122 3641 \nQ 3803 3938 3442 4084 \nQ 3081 4231 2675 4231 \nQ 1875 4231 1450 3742 \nQ 1025 3253 1025 2328 \nQ 1025 1406 1450 917 \nQ 1875 428 2675 428 \nQ 3081 428 3442 575 \nQ 3803 722 4122 1019 \nL 4122 359 \nQ 3791 134 3420 21 \nQ 3050 -91 2638 -91 \nQ 1578 -91 968 557 \nQ 359 1206 359 2328 \nQ 359 3453 968 4101 \nQ 1578 4750 2638 4750 \nQ 3056 4750 3426 4639 \nQ 3797 4528 4122 4306 \nz\n\" transform=\"scale(0.015625)\"/>\n      </defs>\n      <use xlink:href=\"#DejaVuSans-43\"/>\n      <use xlink:href=\"#DejaVuSans-6c\" x=\"69.824219\"/>\n      <use xlink:href=\"#DejaVuSans-61\" x=\"97.607422\"/>\n      <use xlink:href=\"#DejaVuSans-73\" x=\"158.886719\"/>\n      <use xlink:href=\"#DejaVuSans-73\" x=\"210.986328\"/>\n      <use xlink:href=\"#DejaVuSans-20\" x=\"263.085938\"/>\n      <use xlink:href=\"#DejaVuSans-30\" x=\"294.873047\"/>\n     </g>\n    </g>\n    <g id=\"PathCollection_4\">\n     <g>\n      <use xlink:href=\"#me708997e64\" x=\"218.650313\" y=\"141.418906\" style=\"fill: #dd8452; stroke: #333333\"/>\n     </g>\n    </g>\n    <g id=\"text_19\">\n     <!-- Class 1 -->\n     <g style=\"fill: #262626\" transform=\"translate(238.450313 144.306406) scale(0.11 -0.11)\">\n      <use xlink:href=\"#DejaVuSans-43\"/>\n      <use xlink:href=\"#DejaVuSans-6c\" x=\"69.824219\"/>\n      <use xlink:href=\"#DejaVuSans-61\" x=\"97.607422\"/>\n      <use xlink:href=\"#DejaVuSans-73\" x=\"158.886719\"/>\n      <use xlink:href=\"#DejaVuSans-73\" x=\"210.986328\"/>\n      <use xlink:href=\"#DejaVuSans-20\" x=\"263.085938\"/>\n      <use xlink:href=\"#DejaVuSans-31\" x=\"294.873047\"/>\n     </g>\n    </g>\n   </g>\n  </g>\n </g>\n <defs>\n  <clipPath id=\"pc7fcc7e45d\">\n   <rect x=\"66.023594\" y=\"22.318125\" width=\"221.76\" height=\"221.76\"/>\n  </clipPath>\n </defs>\n</svg>\n"
          },
          "metadata": {}
        }
      ],
      "source": [
        "device = 'cpu'\n",
        "from matplotlib.colors import to_rgba\n",
        "@torch.no_grad() # Decorator, same effect as \"with torch.no_grad(): ...\" over the whole function.\n",
        "def visualize_classification(model, data, label):\n",
        "    if isinstance(data, torch.Tensor):\n",
        "        data = data.cpu().numpy()\n",
        "    if isinstance(label, torch.Tensor):\n",
        "        label = label.cpu().numpy()\n",
        "    data_0 = data[label == 0]\n",
        "    data_1 = data[label == 1]\n",
        "\n",
        "    plt.figure(figsize=(4,4))\n",
        "    plt.scatter(data_0[:,0], data_0[:,1], edgecolor=\"#333\", label=\"Class 0\")\n",
        "    plt.scatter(data_1[:,0], data_1[:,1], edgecolor=\"#333\", label=\"Class 1\")\n",
        "    plt.title(\"Dataset samples\")\n",
        "    plt.ylabel(r\"$x_2$\")\n",
        "    plt.xlabel(r\"$x_1$\")\n",
        "    plt.legend()\n",
        "\n",
        "    # Let's make use of a lot of operations we have learned above\n",
        "    model.to(device)\n",
        "    c0 = torch.Tensor(to_rgba(\"C0\")).to(device)\n",
        "    c1 = torch.Tensor(to_rgba(\"C1\")).to(device)\n",
        "    x1 = torch.arange(-0.5, 1.5, step=0.01, device=device)\n",
        "    x2 = torch.arange(-0.5, 1.5, step=0.01, device=device)\n",
        "    xx1, xx2 = torch.meshgrid(x1, x2) # Meshgrid function as in numpy\n",
        "    model_inputs = torch.stack([xx1, xx2], dim=-1)\n",
        "    preds = model(model_inputs)\n",
        "    preds = torch.sigmoid(preds)\n",
        "    output_image = preds * c0[None,None] + (1 - preds) * c1[None,None] # Specifying \"None\" in a dimension creates a new one\n",
        "    output_image = output_image.cpu().numpy() # Convert to numpy array. This only works for tensors on CPU, hence first push to CPU\n",
        "    plt.imshow(output_image, origin='upper', extent=(-0.5, 1.5, -0.5, 1.5))\n",
        "    plt.grid(False)\n",
        "\n",
        "visualize_classification(model, dataset.data, dataset.label)\n",
        "plt.show()"
      ]
    },
    {
      "cell_type": "code",
      "execution_count": null,
      "metadata": {
        "id": "5mFl1e_uRJLZ"
      },
      "outputs": [],
      "source": []
    },
    {
      "cell_type": "markdown",
      "metadata": {
        "id": "JxMxC6epRJLZ"
      },
      "source": [
        "The decision boundaries might not look exactly as in the figure in the preamble of this section which can be caused by running it on CPU or a different GPU architecture. Nevertheless, the result on the accuracy metric should be the approximately the same."
      ]
    },
    {
      "cell_type": "markdown",
      "metadata": {
        "id": "gu9giopPRJLZ"
      },
      "source": [
        "## Additional features we didn't get to discuss yet\n",
        "\n",
        "Finally, you are all set to start with your own PyTorch project! In summary, we have looked at how we can build neural networks in PyTorch, and train and test them on data. However, there is still much more to PyTorch we haven't discussed yet. In the coming series of Jupyter notebooks, we will discover more and more functionalities of PyTorch, so that you also get familiar to PyTorch concepts beyond the basics. If you are already interested in learning more of PyTorch, we recommend the official [tutorial website](https://pytorch.org/tutorials/) that contains many tutorials on various topics. Especially logging with Tensorboard ([official tutorial here](https://pytorch.org/tutorials/intermediate/tensorboard_tutorial.html)) is a good practice that we will explore further from Tutorial 5 on in combination with PyTorch Lightning.\n",
        "Nonetheless, let's check it shortly out how we could use TensorBoard in our small example."
      ]
    },
    {
      "cell_type": "markdown",
      "metadata": {
        "id": "fN1nwn6VRJLZ"
      },
      "source": [
        "### TensorBoard logging\n",
        "\n",
        "TensorBoard is a logging and visualization tool that is a popular choice for training deep learning models. Although initially published for TensorFlow, TensorBoard is also integrated in PyTorch allowing us to easily use it. First, let's import it below."
      ]
    },
    {
      "cell_type": "code",
      "execution_count": 34,
      "metadata": {
        "id": "6Xtar3icRJLZ",
        "outputId": "630efc4a-1315-42ce-cf81-dc833e174a60",
        "colab": {
          "base_uri": "https://localhost:8080/"
        }
      },
      "outputs": [
        {
          "output_type": "stream",
          "name": "stdout",
          "text": [
            "\u001b[?25l   \u001b[90m━━━━━━━━━━━━━━━━━━━━━━━━━━━━━━━━━━━━━━━━\u001b[0m \u001b[32m0.0/5.5 MB\u001b[0m \u001b[31m?\u001b[0m eta \u001b[36m-:--:--\u001b[0m\r\u001b[2K   \u001b[91m━━━━\u001b[0m\u001b[90m╺\u001b[0m\u001b[90m━━━━━━━━━━━━━━━━━━━━━━━━━━━━━━━━━━━\u001b[0m \u001b[32m0.6/5.5 MB\u001b[0m \u001b[31m17.3 MB/s\u001b[0m eta \u001b[36m0:00:01\u001b[0m\r\u001b[2K   \u001b[91m━━━━━━━━━━━━━━━━━━━━━━━━━━━━━━━━━━━━\u001b[0m\u001b[91m╸\u001b[0m\u001b[90m━━━\u001b[0m \u001b[32m5.0/5.5 MB\u001b[0m \u001b[31m72.8 MB/s\u001b[0m eta \u001b[36m0:00:01\u001b[0m\r\u001b[2K   \u001b[90m━━━━━━━━━━━━━━━━━━━━━━━━━━━━━━━━━━━━━━━━\u001b[0m \u001b[32m5.5/5.5 MB\u001b[0m \u001b[31m54.0 MB/s\u001b[0m eta \u001b[36m0:00:00\u001b[0m\n",
            "\u001b[?25h"
          ]
        }
      ],
      "source": [
        "# Import tensorboard logger from PyTorch\n",
        "\n",
        "! pip install -q tb-nightly\n",
        "\n",
        "\n",
        "from torch.utils.tensorboard import SummaryWriter\n",
        "\n",
        "# Load tensorboard extension for Jupyter Notebook, only need to start TB in the notebook\n",
        "%load_ext tensorboard"
      ]
    },
    {
      "cell_type": "markdown",
      "metadata": {
        "id": "scPauQ0JRJLZ"
      },
      "source": [
        "The last line is required if you want to run TensorBoard directly in the Jupyter Notebook. Otherwise, you can start TensorBoard from the terminal.\n",
        "\n",
        "PyTorch's TensorBoard API is simple to use. We start the logging process by creating a new object, `writer = SummaryWriter(...)`, where we specify the directory in which the logging file should be saved. With this object, we can log different aspects of our model by calling functions of the style `writer.add_...`. For example, we can visualize the computation graph with the function `writer.add_graph`, or add a scalar value like the loss with `writer.add_scalar`. Let's adapt our initial training function with adding a TensorBoard logger below."
      ]
    },
    {
      "cell_type": "code",
      "execution_count": 35,
      "metadata": {
        "id": "B0DOpBcWRJLZ"
      },
      "outputs": [],
      "source": [
        "def train_model_with_logger(model, optimizer, data_loader, loss_module, val_dataset, num_epochs=9, logging_dir='runs/our_experiment'):\n",
        "    # Create TensorBoard logger\n",
        "    writer = SummaryWriter(logging_dir)\n",
        "    model_plotted = False\n",
        "\n",
        "    # Set model to train mode\n",
        "    model.train()\n",
        "\n",
        "    # Training loop\n",
        "    for epoch in tqdm(range(num_epochs)):\n",
        "        epoch_loss = 0.0\n",
        "        for data_inputs, data_labels in data_loader:\n",
        "\n",
        "            ## Step 1: Move input data to device (only strictly necessary if we use GPU)\n",
        "            data_inputs = data_inputs.to(device)\n",
        "            data_labels = data_labels.to(device)\n",
        "\n",
        "            # For the very first batch, we visualize the computation graph in TensorBoard\n",
        "            if not model_plotted:\n",
        "                writer.add_graph(model, data_inputs)\n",
        "                model_plotted = True\n",
        "\n",
        "            ## Step 2: Run the model on the input data\n",
        "            preds = model(data_inputs)\n",
        "            preds = preds.squeeze(dim=1) # Output is [Batch size, 1], but we want [Batch size]\n",
        "\n",
        "            ## Step 3: Calculate the loss\n",
        "            loss = loss_module(preds, data_labels.float())\n",
        "\n",
        "            ## Step 4: Perform backpropagation\n",
        "            # Before calculating the gradients, we need to ensure that they are all zero.\n",
        "            # The gradients would not be overwritten, but actually added to the existing ones.\n",
        "            optimizer.zero_grad()\n",
        "            # Perform backpropagation\n",
        "            loss.backward()\n",
        "\n",
        "            ## Step 5: Update the parameters\n",
        "            optimizer.step()\n",
        "\n",
        "            ## Step 6: Take the running average of the loss\n",
        "            epoch_loss += loss.item()\n",
        "\n",
        "        # Add average loss to TensorBoard\n",
        "        epoch_loss /= len(data_loader)\n",
        "        writer.add_scalar('training_loss',\n",
        "                          epoch_loss,\n",
        "                          global_step = epoch + 1)\n",
        "\n",
        "        # Visualize prediction and add figure to TensorBoard\n",
        "        # Since matplotlib figures can be slow in rendering, we only do it every 10th epoch\n",
        "        if (epoch + 1) % 10 == 0:\n",
        "            fig = visualize_classification(model, val_dataset.data, val_dataset.label)\n",
        "            writer.add_figure('predictions',\n",
        "                              fig,\n",
        "                              global_step = epoch + 1)\n",
        "\n",
        "    writer.close()"
      ]
    },
    {
      "cell_type": "markdown",
      "metadata": {
        "id": "djapDSjJRJLZ"
      },
      "source": [
        "Let's use this method to train a model as before, with a new model and optimizer."
      ]
    },
    {
      "cell_type": "code",
      "execution_count": 36,
      "metadata": {
        "colab": {
          "referenced_widgets": [
            "3939fc079a9d4edc8cb73e57d14178ec",
            "c04e3f7869da4528a703ec853eb5f0f0",
            "36770eaa041248b986a37f6cfc9e03be",
            "fb5fbef2fd154ff38da64b0aa353387f",
            "27c6f05e93a14f01ae4d664f6577a17f",
            "13e988c22aba4586bfbe9beba0e4bc44",
            "1efb3c7a85014862903e8ff2f3c21163",
            "fb3d65db4b2743e1a96559810dcca615",
            "8b244ba4605a412e8e287e2e70cfd8a2",
            "8095d2b7696c455782bad5101ddbc3e3",
            "b5d876d4efc346639e49ebd8506a3001"
          ],
          "base_uri": "https://localhost:8080/",
          "height": 49
        },
        "id": "CZXi0dW6RJLZ",
        "outputId": "b10949fe-0730-47e5-d89b-164c904e4a7f"
      },
      "outputs": [
        {
          "output_type": "display_data",
          "data": {
            "text/plain": [
              "  0%|          | 0/9 [00:00<?, ?it/s]"
            ],
            "application/vnd.jupyter.widget-view+json": {
              "version_major": 2,
              "version_minor": 0,
              "model_id": "3939fc079a9d4edc8cb73e57d14178ec"
            }
          },
          "metadata": {}
        }
      ],
      "source": [
        "from torch.utils.tensorboard import SummaryWriter\n",
        "%reload_ext tensorboard\n",
        "model = SimpleClassifier(num_inputs=2, num_hidden=4, num_outputs=1).to(device)\n",
        "optimizer = torch.optim.SGD(model.parameters(), lr=0.1)\n",
        "train_model_with_logger(model, optimizer, train_data_loader, loss_module, val_dataset=dataset)"
      ]
    },
    {
      "cell_type": "markdown",
      "metadata": {
        "id": "gVW42XWvRJLZ"
      },
      "source": [
        "The TensorBoard file in the folder `runs/our_experiment` now contains a loss curve, the computation graph of our network, and a visualization of the learned predictions over number of epochs. To start the TensorBoard visualizer, simply run the following statement:"
      ]
    },
    {
      "cell_type": "code",
      "execution_count": 37,
      "metadata": {
        "id": "7OuuYUoHRJLZ",
        "outputId": "d06e6a16-7cc9-4272-a306-b3f52ea53e2e",
        "colab": {
          "base_uri": "https://localhost:8080/",
          "height": 696
        }
      },
      "outputs": [
        {
          "data": {
            "text/plain": [
              "ERROR: Failed to launch TensorBoard (exited with 1).\n",
              "Contents of stderr:\n",
              "2024-11-01 09:41:37.877040: E external/local_xla/xla/stream_executor/cuda/cuda_fft.cc:485] Unable to register cuFFT factory: Attempting to register factory for plugin cuFFT when one has already been registered\n",
              "2024-11-01 09:41:37.897320: E external/local_xla/xla/stream_executor/cuda/cuda_dnn.cc:8454] Unable to register cuDNN factory: Attempting to register factory for plugin cuDNN when one has already been registered\n",
              "2024-11-01 09:41:37.903039: E external/local_xla/xla/stream_executor/cuda/cuda_blas.cc:1452] Unable to register cuBLAS factory: Attempting to register factory for plugin cuBLAS when one has already been registered\n",
              "2024-11-01 09:41:38.897434: W tensorflow/compiler/tf2tensorrt/utils/py_utils.cc:38] TF-TRT Warning: Could not find TensorRT\n",
              "WARNING: All log messages before absl::InitializeLog() is called are written to STDERR\n",
              "I0000 00:00:1730454100.468911    1329 cuda_executor.cc:1015] successful NUMA node read from SysFS had negative value (-1), but there must be at least one NUMA node, so returning NUMA node zero. See more at https://github.com/torvalds/linux/blob/v6.0/Documentation/ABI/testing/sysfs-bus-pci#L344-L355\n",
              "I0000 00:00:1730454101.252075    1329 cuda_executor.cc:1015] successful NUMA node read from SysFS had negative value (-1), but there must be at least one NUMA node, so returning NUMA node zero. See more at https://github.com/torvalds/linux/blob/v6.0/Documentation/ABI/testing/sysfs-bus-pci#L344-L355\n",
              "I0000 00:00:1730454101.252328    1329 cuda_executor.cc:1015] successful NUMA node read from SysFS had negative value (-1), but there must be at least one NUMA node, so returning NUMA node zero. See more at https://github.com/torvalds/linux/blob/v6.0/Documentation/ABI/testing/sysfs-bus-pci#L344-L355\n",
              "\n",
              "NOTE: Using experimental fast data loading logic. To disable, pass\n",
              "    \"--load_fast=false\" and report issues on GitHub. More details:\n",
              "    https://github.com/tensorflow/tensorboard/issues/4784\n",
              "\n",
              "Traceback (most recent call last):\n",
              "  File \"/usr/local/bin/tensorboard\", line 8, in <module>\n",
              "    sys.exit(run_main())\n",
              "  File \"/usr/local/lib/python3.10/dist-packages/tensorboard/main.py\", line 41, in run_main\n",
              "    app.run(tensorboard.main, flags_parser=tensorboard.configure)\n",
              "  File \"/usr/local/lib/python3.10/dist-packages/absl/app.py\", line 308, in run\n",
              "    _run_main(main, args)\n",
              "  File \"/usr/local/lib/python3.10/dist-packages/absl/app.py\", line 254, in _run_main\n",
              "    sys.exit(main(argv))\n",
              "  File \"/usr/local/lib/python3.10/dist-packages/tensorboard/program.py\", line 278, in main\n",
              "    return runner(self.flags) or 0\n",
              "  File \"/usr/local/lib/python3.10/dist-packages/tensorboard/program.py\", line 294, in _run_serve_subcommand\n",
              "    server = self._make_server()\n",
              "  File \"/usr/local/lib/python3.10/dist-packages/tensorboard/program.py\", line 469, in _make_server\n",
              "    app = application.TensorBoardWSGIApp(\n",
              "  File \"/usr/local/lib/python3.10/dist-packages/tensorboard/backend/application.py\", line 139, in TensorBoardWSGIApp\n",
              "    return TensorBoardWSGI(\n",
              "  File \"/usr/local/lib/python3.10/dist-packages/tensorboard/backend/application.py\", line 252, in __init__\n",
              "    raise ValueError(\n",
              "ValueError: Duplicate plugins for name projector"
            ]
          },
          "metadata": {},
          "output_type": "display_data"
        }
      ],
      "source": [
        "%tensorboard --logdir runs/our_experiment"
      ]
    },
    {
      "cell_type": "markdown",
      "metadata": {
        "id": "FZ3p8Y6lRJLZ"
      },
      "source": [
        "<center><img src=\"https://github.com/phlippe/uvadlc_notebooks/blob/master/docs/tutorial_notebooks/tutorial2/tensorboard_screenshot.png?raw=1\" width=\"1100px\"></center>\n",
        "\n",
        "TensorBoard visualizations can help to identify possible issues with your model, and identify situations such as overfitting. You can also track the training progress while a model is training, since the logger automatically writes everything added to it to the logging file. Feel free to explore the TensorBoard functionalities, and we will make use of TensorBoards a couple of times from Tutorial 5 on."
      ]
    },
    {
      "cell_type": "markdown",
      "metadata": {
        "id": "0SemyT2YTlHy"
      },
      "source": [
        "**based on:**\n",
        "[![View filled on Github](https://img.shields.io/static/v1.svg?logo=github&label=Repo&message=View%20On%20Github&color=lightgrey)](https://github.com/phlippe/uvadlc_notebooks/blob/master/docs/tutorial_notebooks/tutorial2/Introduction_to_PyTorch.ipynb)\n",
        "[![Open filled In Collab](https://colab.research.google.com/assets/colab-badge.svg)](https://colab.research.google.com/github/phlippe/uvadlc_notebooks/blob/master/docs/tutorial_notebooks/tutorial2/Introduction_to_PyTorch.ipynb)   \n",
        "**Recordings:**\n",
        "[![YouTube - Part 2](https://img.shields.io/static/v1.svg?logo=youtube&label=YouTube&message=Part%202&color=red)](https://youtu.be/schbjeU5X2g)    \n",
        "**Author:** Phillip Lippe"
      ]
    },
    {
      "cell_type": "markdown",
      "metadata": {
        "id": "itnVH3-TRJLZ"
      },
      "source": [
        "MIT License\n",
        "\n",
        "Copyright (c) 2020 Phillip Lippe\n",
        "\n",
        "Permission is hereby granted, free of charge, to any person obtaining a copy of this software and associated documentation files (the \"Software\"), to deal in the Software without restriction, including without limitation the rights to use, copy, modify, merge, publish, distribute, sublicense, and/or sell copies of the Software, and to permit persons to whom the Software is furnished to do so, subject to the following conditions:\n",
        "\n",
        "The above copyright notice and this permission notice shall be included in all copies or substantial portions of the Software.\n",
        "\n",
        "THE SOFTWARE IS PROVIDED \"AS IS\", WITHOUT WARRANTY OF ANY KIND, EXPRESS OR IMPLIED, INCLUDING BUT NOT LIMITED TO THE WARRANTIES OF MERCHANTABILITY, FITNESS FOR A PARTICULAR PURPOSE AND NONINFRINGEMENT. IN NO EVENT SHALL THE AUTHORS OR COPYRIGHT HOLDERS BE LIABLE FOR ANY CLAIM, DAMAGES OR OTHER LIABILITY, WHETHER IN AN ACTION OF CONTRACT, TORT OR OTHERWISE, ARISING FROM, OUT OF OR IN CONNECTION WITH THE SOFTWARE OR THE USE OR OTHER DEALINGS IN THE SOFTWARE."
      ]
    },
    {
      "cell_type": "code",
      "execution_count": null,
      "metadata": {
        "id": "hMELCBvEFxhh"
      },
      "outputs": [],
      "source": []
    }
  ],
  "metadata": {
    "accelerator": "GPU",
    "colab": {
      "provenance": [],
      "include_colab_link": true
    },
    "gpuClass": "standard",
    "kernelspec": {
      "display_name": "Python 3 (ipykernel)",
      "language": "python",
      "name": "python3"
    },
    "language_info": {
      "codemirror_mode": {
        "name": "ipython",
        "version": 3
      },
      "file_extension": ".py",
      "mimetype": "text/x-python",
      "name": "python",
      "nbconvert_exporter": "python",
      "pygments_lexer": "ipython3",
      "version": "3.10.9"
    },
    "widgets": {
      "application/vnd.jupyter.widget-state+json": {
        "f32a38a663a340a89e25f1f04f5263bb": {
          "model_module": "@jupyter-widgets/controls",
          "model_name": "HBoxModel",
          "model_module_version": "1.5.0",
          "state": {
            "_dom_classes": [],
            "_model_module": "@jupyter-widgets/controls",
            "_model_module_version": "1.5.0",
            "_model_name": "HBoxModel",
            "_view_count": null,
            "_view_module": "@jupyter-widgets/controls",
            "_view_module_version": "1.5.0",
            "_view_name": "HBoxView",
            "box_style": "",
            "children": [
              "IPY_MODEL_cb5a8806d2cc4da3a57bd1c12f59c00e",
              "IPY_MODEL_258beaa6e5a641e998c2ce75c8384ff7",
              "IPY_MODEL_42b633af282e44c18d18a5ab8349d8b2"
            ],
            "layout": "IPY_MODEL_2937ec6df6d84b64a01b535982645af5"
          }
        },
        "cb5a8806d2cc4da3a57bd1c12f59c00e": {
          "model_module": "@jupyter-widgets/controls",
          "model_name": "HTMLModel",
          "model_module_version": "1.5.0",
          "state": {
            "_dom_classes": [],
            "_model_module": "@jupyter-widgets/controls",
            "_model_module_version": "1.5.0",
            "_model_name": "HTMLModel",
            "_view_count": null,
            "_view_module": "@jupyter-widgets/controls",
            "_view_module_version": "1.5.0",
            "_view_name": "HTMLView",
            "description": "",
            "description_tooltip": null,
            "layout": "IPY_MODEL_24cac7349bd449da8b529e4e6aa47cb1",
            "placeholder": "​",
            "style": "IPY_MODEL_403423cd85b74c0b9673d1287c14ffb4",
            "value": "100%"
          }
        },
        "258beaa6e5a641e998c2ce75c8384ff7": {
          "model_module": "@jupyter-widgets/controls",
          "model_name": "FloatProgressModel",
          "model_module_version": "1.5.0",
          "state": {
            "_dom_classes": [],
            "_model_module": "@jupyter-widgets/controls",
            "_model_module_version": "1.5.0",
            "_model_name": "FloatProgressModel",
            "_view_count": null,
            "_view_module": "@jupyter-widgets/controls",
            "_view_module_version": "1.5.0",
            "_view_name": "ProgressView",
            "bar_style": "success",
            "description": "",
            "description_tooltip": null,
            "layout": "IPY_MODEL_3774784466014b809ffb05ce293baf29",
            "max": 9,
            "min": 0,
            "orientation": "horizontal",
            "style": "IPY_MODEL_f459799fa563415c8c01b84a2f5aa71e",
            "value": 9
          }
        },
        "42b633af282e44c18d18a5ab8349d8b2": {
          "model_module": "@jupyter-widgets/controls",
          "model_name": "HTMLModel",
          "model_module_version": "1.5.0",
          "state": {
            "_dom_classes": [],
            "_model_module": "@jupyter-widgets/controls",
            "_model_module_version": "1.5.0",
            "_model_name": "HTMLModel",
            "_view_count": null,
            "_view_module": "@jupyter-widgets/controls",
            "_view_module_version": "1.5.0",
            "_view_name": "HTMLView",
            "description": "",
            "description_tooltip": null,
            "layout": "IPY_MODEL_683b900131c34d57959a8b61e862e560",
            "placeholder": "​",
            "style": "IPY_MODEL_d0761704b53a421185e5d9513def8b8b",
            "value": " 9/9 [00:00&lt;00:00, 11.99it/s]"
          }
        },
        "2937ec6df6d84b64a01b535982645af5": {
          "model_module": "@jupyter-widgets/base",
          "model_name": "LayoutModel",
          "model_module_version": "1.2.0",
          "state": {
            "_model_module": "@jupyter-widgets/base",
            "_model_module_version": "1.2.0",
            "_model_name": "LayoutModel",
            "_view_count": null,
            "_view_module": "@jupyter-widgets/base",
            "_view_module_version": "1.2.0",
            "_view_name": "LayoutView",
            "align_content": null,
            "align_items": null,
            "align_self": null,
            "border": null,
            "bottom": null,
            "display": null,
            "flex": null,
            "flex_flow": null,
            "grid_area": null,
            "grid_auto_columns": null,
            "grid_auto_flow": null,
            "grid_auto_rows": null,
            "grid_column": null,
            "grid_gap": null,
            "grid_row": null,
            "grid_template_areas": null,
            "grid_template_columns": null,
            "grid_template_rows": null,
            "height": null,
            "justify_content": null,
            "justify_items": null,
            "left": null,
            "margin": null,
            "max_height": null,
            "max_width": null,
            "min_height": null,
            "min_width": null,
            "object_fit": null,
            "object_position": null,
            "order": null,
            "overflow": null,
            "overflow_x": null,
            "overflow_y": null,
            "padding": null,
            "right": null,
            "top": null,
            "visibility": null,
            "width": null
          }
        },
        "24cac7349bd449da8b529e4e6aa47cb1": {
          "model_module": "@jupyter-widgets/base",
          "model_name": "LayoutModel",
          "model_module_version": "1.2.0",
          "state": {
            "_model_module": "@jupyter-widgets/base",
            "_model_module_version": "1.2.0",
            "_model_name": "LayoutModel",
            "_view_count": null,
            "_view_module": "@jupyter-widgets/base",
            "_view_module_version": "1.2.0",
            "_view_name": "LayoutView",
            "align_content": null,
            "align_items": null,
            "align_self": null,
            "border": null,
            "bottom": null,
            "display": null,
            "flex": null,
            "flex_flow": null,
            "grid_area": null,
            "grid_auto_columns": null,
            "grid_auto_flow": null,
            "grid_auto_rows": null,
            "grid_column": null,
            "grid_gap": null,
            "grid_row": null,
            "grid_template_areas": null,
            "grid_template_columns": null,
            "grid_template_rows": null,
            "height": null,
            "justify_content": null,
            "justify_items": null,
            "left": null,
            "margin": null,
            "max_height": null,
            "max_width": null,
            "min_height": null,
            "min_width": null,
            "object_fit": null,
            "object_position": null,
            "order": null,
            "overflow": null,
            "overflow_x": null,
            "overflow_y": null,
            "padding": null,
            "right": null,
            "top": null,
            "visibility": null,
            "width": null
          }
        },
        "403423cd85b74c0b9673d1287c14ffb4": {
          "model_module": "@jupyter-widgets/controls",
          "model_name": "DescriptionStyleModel",
          "model_module_version": "1.5.0",
          "state": {
            "_model_module": "@jupyter-widgets/controls",
            "_model_module_version": "1.5.0",
            "_model_name": "DescriptionStyleModel",
            "_view_count": null,
            "_view_module": "@jupyter-widgets/base",
            "_view_module_version": "1.2.0",
            "_view_name": "StyleView",
            "description_width": ""
          }
        },
        "3774784466014b809ffb05ce293baf29": {
          "model_module": "@jupyter-widgets/base",
          "model_name": "LayoutModel",
          "model_module_version": "1.2.0",
          "state": {
            "_model_module": "@jupyter-widgets/base",
            "_model_module_version": "1.2.0",
            "_model_name": "LayoutModel",
            "_view_count": null,
            "_view_module": "@jupyter-widgets/base",
            "_view_module_version": "1.2.0",
            "_view_name": "LayoutView",
            "align_content": null,
            "align_items": null,
            "align_self": null,
            "border": null,
            "bottom": null,
            "display": null,
            "flex": null,
            "flex_flow": null,
            "grid_area": null,
            "grid_auto_columns": null,
            "grid_auto_flow": null,
            "grid_auto_rows": null,
            "grid_column": null,
            "grid_gap": null,
            "grid_row": null,
            "grid_template_areas": null,
            "grid_template_columns": null,
            "grid_template_rows": null,
            "height": null,
            "justify_content": null,
            "justify_items": null,
            "left": null,
            "margin": null,
            "max_height": null,
            "max_width": null,
            "min_height": null,
            "min_width": null,
            "object_fit": null,
            "object_position": null,
            "order": null,
            "overflow": null,
            "overflow_x": null,
            "overflow_y": null,
            "padding": null,
            "right": null,
            "top": null,
            "visibility": null,
            "width": null
          }
        },
        "f459799fa563415c8c01b84a2f5aa71e": {
          "model_module": "@jupyter-widgets/controls",
          "model_name": "ProgressStyleModel",
          "model_module_version": "1.5.0",
          "state": {
            "_model_module": "@jupyter-widgets/controls",
            "_model_module_version": "1.5.0",
            "_model_name": "ProgressStyleModel",
            "_view_count": null,
            "_view_module": "@jupyter-widgets/base",
            "_view_module_version": "1.2.0",
            "_view_name": "StyleView",
            "bar_color": null,
            "description_width": ""
          }
        },
        "683b900131c34d57959a8b61e862e560": {
          "model_module": "@jupyter-widgets/base",
          "model_name": "LayoutModel",
          "model_module_version": "1.2.0",
          "state": {
            "_model_module": "@jupyter-widgets/base",
            "_model_module_version": "1.2.0",
            "_model_name": "LayoutModel",
            "_view_count": null,
            "_view_module": "@jupyter-widgets/base",
            "_view_module_version": "1.2.0",
            "_view_name": "LayoutView",
            "align_content": null,
            "align_items": null,
            "align_self": null,
            "border": null,
            "bottom": null,
            "display": null,
            "flex": null,
            "flex_flow": null,
            "grid_area": null,
            "grid_auto_columns": null,
            "grid_auto_flow": null,
            "grid_auto_rows": null,
            "grid_column": null,
            "grid_gap": null,
            "grid_row": null,
            "grid_template_areas": null,
            "grid_template_columns": null,
            "grid_template_rows": null,
            "height": null,
            "justify_content": null,
            "justify_items": null,
            "left": null,
            "margin": null,
            "max_height": null,
            "max_width": null,
            "min_height": null,
            "min_width": null,
            "object_fit": null,
            "object_position": null,
            "order": null,
            "overflow": null,
            "overflow_x": null,
            "overflow_y": null,
            "padding": null,
            "right": null,
            "top": null,
            "visibility": null,
            "width": null
          }
        },
        "d0761704b53a421185e5d9513def8b8b": {
          "model_module": "@jupyter-widgets/controls",
          "model_name": "DescriptionStyleModel",
          "model_module_version": "1.5.0",
          "state": {
            "_model_module": "@jupyter-widgets/controls",
            "_model_module_version": "1.5.0",
            "_model_name": "DescriptionStyleModel",
            "_view_count": null,
            "_view_module": "@jupyter-widgets/base",
            "_view_module_version": "1.2.0",
            "_view_name": "StyleView",
            "description_width": ""
          }
        },
        "3939fc079a9d4edc8cb73e57d14178ec": {
          "model_module": "@jupyter-widgets/controls",
          "model_name": "HBoxModel",
          "model_module_version": "1.5.0",
          "state": {
            "_dom_classes": [],
            "_model_module": "@jupyter-widgets/controls",
            "_model_module_version": "1.5.0",
            "_model_name": "HBoxModel",
            "_view_count": null,
            "_view_module": "@jupyter-widgets/controls",
            "_view_module_version": "1.5.0",
            "_view_name": "HBoxView",
            "box_style": "",
            "children": [
              "IPY_MODEL_c04e3f7869da4528a703ec853eb5f0f0",
              "IPY_MODEL_36770eaa041248b986a37f6cfc9e03be",
              "IPY_MODEL_fb5fbef2fd154ff38da64b0aa353387f"
            ],
            "layout": "IPY_MODEL_27c6f05e93a14f01ae4d664f6577a17f"
          }
        },
        "c04e3f7869da4528a703ec853eb5f0f0": {
          "model_module": "@jupyter-widgets/controls",
          "model_name": "HTMLModel",
          "model_module_version": "1.5.0",
          "state": {
            "_dom_classes": [],
            "_model_module": "@jupyter-widgets/controls",
            "_model_module_version": "1.5.0",
            "_model_name": "HTMLModel",
            "_view_count": null,
            "_view_module": "@jupyter-widgets/controls",
            "_view_module_version": "1.5.0",
            "_view_name": "HTMLView",
            "description": "",
            "description_tooltip": null,
            "layout": "IPY_MODEL_13e988c22aba4586bfbe9beba0e4bc44",
            "placeholder": "​",
            "style": "IPY_MODEL_1efb3c7a85014862903e8ff2f3c21163",
            "value": "100%"
          }
        },
        "36770eaa041248b986a37f6cfc9e03be": {
          "model_module": "@jupyter-widgets/controls",
          "model_name": "FloatProgressModel",
          "model_module_version": "1.5.0",
          "state": {
            "_dom_classes": [],
            "_model_module": "@jupyter-widgets/controls",
            "_model_module_version": "1.5.0",
            "_model_name": "FloatProgressModel",
            "_view_count": null,
            "_view_module": "@jupyter-widgets/controls",
            "_view_module_version": "1.5.0",
            "_view_name": "ProgressView",
            "bar_style": "success",
            "description": "",
            "description_tooltip": null,
            "layout": "IPY_MODEL_fb3d65db4b2743e1a96559810dcca615",
            "max": 9,
            "min": 0,
            "orientation": "horizontal",
            "style": "IPY_MODEL_8b244ba4605a412e8e287e2e70cfd8a2",
            "value": 9
          }
        },
        "fb5fbef2fd154ff38da64b0aa353387f": {
          "model_module": "@jupyter-widgets/controls",
          "model_name": "HTMLModel",
          "model_module_version": "1.5.0",
          "state": {
            "_dom_classes": [],
            "_model_module": "@jupyter-widgets/controls",
            "_model_module_version": "1.5.0",
            "_model_name": "HTMLModel",
            "_view_count": null,
            "_view_module": "@jupyter-widgets/controls",
            "_view_module_version": "1.5.0",
            "_view_name": "HTMLView",
            "description": "",
            "description_tooltip": null,
            "layout": "IPY_MODEL_8095d2b7696c455782bad5101ddbc3e3",
            "placeholder": "​",
            "style": "IPY_MODEL_b5d876d4efc346639e49ebd8506a3001",
            "value": " 9/9 [00:01&lt;00:00,  7.14it/s]"
          }
        },
        "27c6f05e93a14f01ae4d664f6577a17f": {
          "model_module": "@jupyter-widgets/base",
          "model_name": "LayoutModel",
          "model_module_version": "1.2.0",
          "state": {
            "_model_module": "@jupyter-widgets/base",
            "_model_module_version": "1.2.0",
            "_model_name": "LayoutModel",
            "_view_count": null,
            "_view_module": "@jupyter-widgets/base",
            "_view_module_version": "1.2.0",
            "_view_name": "LayoutView",
            "align_content": null,
            "align_items": null,
            "align_self": null,
            "border": null,
            "bottom": null,
            "display": null,
            "flex": null,
            "flex_flow": null,
            "grid_area": null,
            "grid_auto_columns": null,
            "grid_auto_flow": null,
            "grid_auto_rows": null,
            "grid_column": null,
            "grid_gap": null,
            "grid_row": null,
            "grid_template_areas": null,
            "grid_template_columns": null,
            "grid_template_rows": null,
            "height": null,
            "justify_content": null,
            "justify_items": null,
            "left": null,
            "margin": null,
            "max_height": null,
            "max_width": null,
            "min_height": null,
            "min_width": null,
            "object_fit": null,
            "object_position": null,
            "order": null,
            "overflow": null,
            "overflow_x": null,
            "overflow_y": null,
            "padding": null,
            "right": null,
            "top": null,
            "visibility": null,
            "width": null
          }
        },
        "13e988c22aba4586bfbe9beba0e4bc44": {
          "model_module": "@jupyter-widgets/base",
          "model_name": "LayoutModel",
          "model_module_version": "1.2.0",
          "state": {
            "_model_module": "@jupyter-widgets/base",
            "_model_module_version": "1.2.0",
            "_model_name": "LayoutModel",
            "_view_count": null,
            "_view_module": "@jupyter-widgets/base",
            "_view_module_version": "1.2.0",
            "_view_name": "LayoutView",
            "align_content": null,
            "align_items": null,
            "align_self": null,
            "border": null,
            "bottom": null,
            "display": null,
            "flex": null,
            "flex_flow": null,
            "grid_area": null,
            "grid_auto_columns": null,
            "grid_auto_flow": null,
            "grid_auto_rows": null,
            "grid_column": null,
            "grid_gap": null,
            "grid_row": null,
            "grid_template_areas": null,
            "grid_template_columns": null,
            "grid_template_rows": null,
            "height": null,
            "justify_content": null,
            "justify_items": null,
            "left": null,
            "margin": null,
            "max_height": null,
            "max_width": null,
            "min_height": null,
            "min_width": null,
            "object_fit": null,
            "object_position": null,
            "order": null,
            "overflow": null,
            "overflow_x": null,
            "overflow_y": null,
            "padding": null,
            "right": null,
            "top": null,
            "visibility": null,
            "width": null
          }
        },
        "1efb3c7a85014862903e8ff2f3c21163": {
          "model_module": "@jupyter-widgets/controls",
          "model_name": "DescriptionStyleModel",
          "model_module_version": "1.5.0",
          "state": {
            "_model_module": "@jupyter-widgets/controls",
            "_model_module_version": "1.5.0",
            "_model_name": "DescriptionStyleModel",
            "_view_count": null,
            "_view_module": "@jupyter-widgets/base",
            "_view_module_version": "1.2.0",
            "_view_name": "StyleView",
            "description_width": ""
          }
        },
        "fb3d65db4b2743e1a96559810dcca615": {
          "model_module": "@jupyter-widgets/base",
          "model_name": "LayoutModel",
          "model_module_version": "1.2.0",
          "state": {
            "_model_module": "@jupyter-widgets/base",
            "_model_module_version": "1.2.0",
            "_model_name": "LayoutModel",
            "_view_count": null,
            "_view_module": "@jupyter-widgets/base",
            "_view_module_version": "1.2.0",
            "_view_name": "LayoutView",
            "align_content": null,
            "align_items": null,
            "align_self": null,
            "border": null,
            "bottom": null,
            "display": null,
            "flex": null,
            "flex_flow": null,
            "grid_area": null,
            "grid_auto_columns": null,
            "grid_auto_flow": null,
            "grid_auto_rows": null,
            "grid_column": null,
            "grid_gap": null,
            "grid_row": null,
            "grid_template_areas": null,
            "grid_template_columns": null,
            "grid_template_rows": null,
            "height": null,
            "justify_content": null,
            "justify_items": null,
            "left": null,
            "margin": null,
            "max_height": null,
            "max_width": null,
            "min_height": null,
            "min_width": null,
            "object_fit": null,
            "object_position": null,
            "order": null,
            "overflow": null,
            "overflow_x": null,
            "overflow_y": null,
            "padding": null,
            "right": null,
            "top": null,
            "visibility": null,
            "width": null
          }
        },
        "8b244ba4605a412e8e287e2e70cfd8a2": {
          "model_module": "@jupyter-widgets/controls",
          "model_name": "ProgressStyleModel",
          "model_module_version": "1.5.0",
          "state": {
            "_model_module": "@jupyter-widgets/controls",
            "_model_module_version": "1.5.0",
            "_model_name": "ProgressStyleModel",
            "_view_count": null,
            "_view_module": "@jupyter-widgets/base",
            "_view_module_version": "1.2.0",
            "_view_name": "StyleView",
            "bar_color": null,
            "description_width": ""
          }
        },
        "8095d2b7696c455782bad5101ddbc3e3": {
          "model_module": "@jupyter-widgets/base",
          "model_name": "LayoutModel",
          "model_module_version": "1.2.0",
          "state": {
            "_model_module": "@jupyter-widgets/base",
            "_model_module_version": "1.2.0",
            "_model_name": "LayoutModel",
            "_view_count": null,
            "_view_module": "@jupyter-widgets/base",
            "_view_module_version": "1.2.0",
            "_view_name": "LayoutView",
            "align_content": null,
            "align_items": null,
            "align_self": null,
            "border": null,
            "bottom": null,
            "display": null,
            "flex": null,
            "flex_flow": null,
            "grid_area": null,
            "grid_auto_columns": null,
            "grid_auto_flow": null,
            "grid_auto_rows": null,
            "grid_column": null,
            "grid_gap": null,
            "grid_row": null,
            "grid_template_areas": null,
            "grid_template_columns": null,
            "grid_template_rows": null,
            "height": null,
            "justify_content": null,
            "justify_items": null,
            "left": null,
            "margin": null,
            "max_height": null,
            "max_width": null,
            "min_height": null,
            "min_width": null,
            "object_fit": null,
            "object_position": null,
            "order": null,
            "overflow": null,
            "overflow_x": null,
            "overflow_y": null,
            "padding": null,
            "right": null,
            "top": null,
            "visibility": null,
            "width": null
          }
        },
        "b5d876d4efc346639e49ebd8506a3001": {
          "model_module": "@jupyter-widgets/controls",
          "model_name": "DescriptionStyleModel",
          "model_module_version": "1.5.0",
          "state": {
            "_model_module": "@jupyter-widgets/controls",
            "_model_module_version": "1.5.0",
            "_model_name": "DescriptionStyleModel",
            "_view_count": null,
            "_view_module": "@jupyter-widgets/base",
            "_view_module_version": "1.2.0",
            "_view_name": "StyleView",
            "description_width": ""
          }
        }
      }
    }
  },
  "nbformat": 4,
  "nbformat_minor": 0
}