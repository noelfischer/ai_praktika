{
  "cells": [
    {
      "cell_type": "markdown",
      "metadata": {
        "id": "view-in-github",
        "colab_type": "text"
      },
      "source": [
        "<a href=\"https://colab.research.google.com/github/noelfischer/ai_praktika/blob/main/4/P04c1_Comparing_Activation_Functions.ipynb\" target=\"_parent\"><img src=\"https://colab.research.google.com/assets/colab-badge.svg\" alt=\"Open In Colab\"/></a>"
      ]
    },
    {
      "cell_type": "code",
      "execution_count": 4,
      "id": "652c949a",
      "metadata": {
        "id": "652c949a"
      },
      "outputs": [],
      "source": [
        "import torch\n",
        "from torch import nn\n",
        "from torchvision import datasets, transforms\n",
        "from torch.utils.data import DataLoader\n",
        "\n",
        "# Define the network architecture\n",
        "class Net(nn.Module):\n",
        "    def __init__(self, activation):\n",
        "        super(Net, self).__init__()\n",
        "        self.fc1 = nn.Linear(28*28, 50)\n",
        "        self.fc2 = nn.Linear(50, 10)\n",
        "        if activation == 'relu':\n",
        "            self.activation = nn.ReLU()\n",
        "        elif activation == 'sigmoid':\n",
        "            self.activation = nn.Sigmoid()\n",
        "\n",
        "    def forward(self, x):\n",
        "        x = x.view(-1, 28*28)\n",
        "        x = self.activation(self.fc1(x))\n",
        "        x = self.fc2(x)\n",
        "        return x\n",
        "\n",
        "# Load the MNIST dataset\n",
        "transform = transforms.ToTensor()\n",
        "train_data = datasets.MNIST(root='~/.pytorch/MNIST_data/', train=True, transform=transform, download=True)\n",
        "train_loader = DataLoader(train_data, batch_size=64, shuffle=True)\n",
        "\n",
        "# Define the loss"
      ]
    },
    {
      "cell_type": "code",
      "execution_count": 5,
      "id": "fd0e2962",
      "metadata": {
        "id": "fd0e2962",
        "outputId": "fa6141d4-de00-452a-d094-4ca7d8a76952",
        "colab": {
          "base_uri": "https://localhost:8080/"
        }
      },
      "outputs": [
        {
          "output_type": "stream",
          "name": "stdout",
          "text": [
            "Epoch 1, Loss: 1.3121519801713257\n",
            "Epoch 1, Loss: 2.176288458457125\n",
            "Epoch 2, Loss: 0.510999748701734\n",
            "Epoch 2, Loss: 1.7373025421140544\n",
            "Epoch 3, Loss: 0.40058127312517877\n",
            "Epoch 3, Loss: 1.2299550234127654\n",
            "Epoch 4, Loss: 0.359361439530275\n",
            "Epoch 4, Loss: 0.9155972765834093\n",
            "Epoch 5, Loss: 0.335336933162675\n",
            "Epoch 5, Loss: 0.741535498071581\n",
            "Epoch 6, Loss: 0.3188879701183803\n",
            "Epoch 6, Loss: 0.6361995809622156\n",
            "Epoch 7, Loss: 0.305684728186522\n",
            "Epoch 7, Loss: 0.5664418975173283\n",
            "Epoch 8, Loss: 0.2949697911294539\n",
            "Epoch 8, Loss: 0.5173365430219341\n",
            "Epoch 9, Loss: 0.2852219057950511\n",
            "Epoch 9, Loss: 0.4808274563123931\n",
            "Epoch 10, Loss: 0.27660801290258413\n",
            "Epoch 10, Loss: 0.4526781660280248\n",
            "Finished Training\n"
          ]
        }
      ],
      "source": [
        "# Define the loss\n",
        "criterion = nn.CrossEntropyLoss()\n",
        "\n",
        "# Create the networks\n",
        "net_relu = Net('relu')\n",
        "net_sigmoid = Net('sigmoid')\n",
        "\n",
        "# Define the optimizer\n",
        "optimizer_relu = torch.optim.SGD(net_relu.parameters(), lr=0.01)\n",
        "optimizer_sigmoid = torch.optim.SGD(net_sigmoid.parameters(), lr=0.01)\n",
        "\n",
        "# Train the networks\n",
        "for epoch in range(10):  # loop over the dataset multiple times\n",
        "    for nets, optimizers in [(net_relu, optimizer_relu), (net_sigmoid, optimizer_sigmoid)]:\n",
        "        running_loss = 0.0\n",
        "        for i, data in enumerate(train_loader, 0):\n",
        "            # get the inputs; data is a list of [inputs, labels]\n",
        "            inputs, labels = data\n",
        "\n",
        "            # zero the parameter gradients\n",
        "            optimizers.zero_grad()\n",
        "\n",
        "            # forward + backward + optimize\n",
        "            outputs = nets(inputs)\n",
        "            loss = criterion(outputs, labels)\n",
        "            loss.backward()\n",
        "            optimizers.step()\n",
        "\n",
        "            # print statistics\n",
        "            running_loss += loss.item()\n",
        "        print(f'Epoch {epoch+1}, Loss: {running_loss/len(train_loader)}')\n",
        "\n",
        "print('Finished Training')\n",
        "\n"
      ]
    },
    {
      "cell_type": "code",
      "execution_count": 6,
      "id": "b29ccc2b",
      "metadata": {
        "id": "b29ccc2b",
        "outputId": "133a7c2f-82d3-497a-b17d-f0389c3ccf95",
        "colab": {
          "base_uri": "https://localhost:8080/"
        }
      },
      "outputs": [
        {
          "output_type": "stream",
          "name": "stdout",
          "text": [
            "Accuracy of the network with ReLU on the 10000 test images: 92 %\n",
            "Accuracy of the network with sigmoid on the 10000 test images: 89 %\n"
          ]
        }
      ],
      "source": [
        "# Now let's evaluate the performance of the two models\n",
        "test_data = datasets.MNIST(root='~/.pytorch/MNIST_data/', train=False, transform=transform, download=True)\n",
        "test_loader = DataLoader(test_data, batch_size=64, shuffle=True)\n",
        "\n",
        "correct_relu = 0\n",
        "total_relu = 0\n",
        "correct_sigmoid = 0\n",
        "total_sigmoid = 0\n",
        "\n",
        "with torch.no_grad():\n",
        "    for data in test_loader:\n",
        "        images, labels = data\n",
        "\n",
        "        # Evaluate ReLU network\n",
        "        outputs = net_relu(images)\n",
        "        _, predicted = torch.max(outputs.data, 1)\n",
        "        total_relu += labels.size(0)\n",
        "        correct_relu += (predicted == labels).sum().item()\n",
        "\n",
        "        # Evaluate Sigmoid network\n",
        "        outputs = net_sigmoid(images)\n",
        "        _, predicted = torch.max(outputs.data, 1)\n",
        "        total_sigmoid += labels.size(0)\n",
        "        correct_sigmoid += (predicted == labels).sum().item()\n",
        "\n",
        "print('Accuracy of the network with ReLU on the 10000 test images: %d %%' % (100 * correct_relu / total_relu))\n",
        "print('Accuracy of the network with sigmoid on the 10000 test images: %d %%' % (100 * correct_sigmoid / total_sigmoid))"
      ]
    }
  ],
  "metadata": {
    "kernelspec": {
      "display_name": "Python 3 (ipykernel)",
      "language": "python",
      "name": "python3"
    },
    "language_info": {
      "codemirror_mode": {
        "name": "ipython",
        "version": 3
      },
      "file_extension": ".py",
      "mimetype": "text/x-python",
      "name": "python",
      "nbconvert_exporter": "python",
      "pygments_lexer": "ipython3",
      "version": "3.10.9"
    },
    "colab": {
      "provenance": [],
      "include_colab_link": true
    }
  },
  "nbformat": 4,
  "nbformat_minor": 5
}